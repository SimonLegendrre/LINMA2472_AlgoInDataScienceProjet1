{
 "cells": [
  {
   "cell_type": "markdown",
   "id": "07cd54cc",
   "metadata": {},
   "source": [
    "# Projet 1"
   ]
  },
  {
   "cell_type": "code",
   "execution_count": null,
   "id": "4d756869",
   "metadata": {},
   "outputs": [],
   "source": [
    "import re"
   ]
  },
  {
   "cell_type": "code",
   "execution_count": 26,
   "id": "4496f31a",
   "metadata": {},
   "outputs": [],
   "source": [
    "book =  open(\"LOTR_ReturnOfTheKing.txt\").read()\n",
    "book_chapters = re.split(r\"_Chapter \\w+_\",book)[1:]"
   ]
  },
  {
   "cell_type": "code",
   "execution_count": null,
   "id": "ab16e8a2",
   "metadata": {},
   "outputs": [],
   "source": [
    "for ChapterNb, Chapter in enumerate(book_chapters):\n",
    "    \n",
    "    paragraphsEnsemble = Chapter.split(\"\\n\\n\")\n",
    "    \n",
    "    \n",
    "    for parag in paragraphsEnsemble: # Per paragraph, check if words are a Character\n",
    "        "
   ]
  }
 ],
 "metadata": {
  "kernelspec": {
   "display_name": "Python 3 (ipykernel)",
   "language": "python",
   "name": "python3"
  },
  "language_info": {
   "codemirror_mode": {
    "name": "ipython",
    "version": 3
   },
   "file_extension": ".py",
   "mimetype": "text/x-python",
   "name": "python",
   "nbconvert_exporter": "python",
   "pygments_lexer": "ipython3",
   "version": "3.8.11"
  }
 },
 "nbformat": 4,
 "nbformat_minor": 5
}
