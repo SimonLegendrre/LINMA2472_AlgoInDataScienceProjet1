{
 "cells": [
  {
   "cell_type": "markdown",
   "id": "07cd54cc",
   "metadata": {},
   "source": [
    "# Projet 1"
   ]
  },
  {
   "cell_type": "code",
   "execution_count": 1,
   "id": "4d756869",
   "metadata": {},
   "outputs": [],
   "source": [
    "import re\n",
    "\n",
    "import pandas as pd\n",
    "import networkx as ntw\n",
    "import numpy as np\n",
    "import matplotlib.pyplot as plt"
   ]
  },
  {
   "cell_type": "code",
   "execution_count": 2,
   "id": "4496f31a",
   "metadata": {},
   "outputs": [],
   "source": [
    "book =  open(\"LOTR_ReturnOfTheKing.txt\").read()\n",
    "\n",
    "book_chapters = re.split(r\"_Chapter \\w+_\",book)[1:]\n",
    "\n"
   ]
  },
  {
   "cell_type": "code",
   "execution_count": 10,
   "id": "7240d99f",
   "metadata": {},
   "outputs": [],
   "source": [
    "Characters = [\"arwen\", \"aragorn\", \"bilbo\", \"boromir\", \"beregond\", \"bergil\", \"celeborn\",\"deagol\",\n",
    "              \"denethor\",\"elendil\", \"elrond\", \"eomer\", \"eomund\", \"eowyn\", \"faramir\", \"frodo\", \"galadriel\",\n",
    "              \"gandalf\", \"gimli\",\"glorfindel\",\"gollum\", \"grima\", \"isildur\", \"king of the deads\", \"legolas\",\n",
    "              \"merry\", \"nazgul\" \"pippin\", \"sam\", \"saruman\", \"sauron\", \"theoden\", \"treebeard\",\n",
    "              \"the witch king\", \"fatty\", \"rose cotton\", \"tom cotton\", \"shadowfax\"]"
   ]
  },
  {
   "cell_type": "code",
   "execution_count": 11,
   "id": "d19bda48",
   "metadata": {},
   "outputs": [
    {
     "name": "stdout",
     "output_type": "stream",
     "text": [
      "number of characters: 37\n"
     ]
    }
   ],
   "source": [
    "print(\"number of characters: \"+ str(len(Characters)))"
   ]
  },
  {
   "cell_type": "code",
   "execution_count": 4,
   "id": "77cb4ef5",
   "metadata": {},
   "outputs": [],
   "source": [
    "## CLEANING \n",
    "\n",
    "cleaned_parag =[]\n",
    "for ChapterNb, Chapter in enumerate(book_chapters):\n",
    "    paragraphsEnsemble = Chapter.split('\\n\\n')\n",
    "    for parag in paragraphsEnsemble :\n",
    "        parag_new = re.sub(r\"[!?',;.:']\", ' ', parag)\n",
    "        cleaned_parag.append(parag_new.lower())\n",
    "        \n"
   ]
  },
  {
   "cell_type": "markdown",
   "id": "9c3eff40",
   "metadata": {},
   "source": [
    "Data transformation"
   ]
  },
  {
   "cell_type": "code",
   "execution_count": 7,
   "id": "ab16e8a2",
   "metadata": {},
   "outputs": [
    {
     "ename": "TypeError",
     "evalue": "unhashable type: 'slice'",
     "output_type": "error",
     "traceback": [
      "\u001b[0;31m---------------------------------------------------------------------------\u001b[0m",
      "\u001b[0;31mTypeError\u001b[0m                                 Traceback (most recent call last)",
      "\u001b[0;32m<ipython-input-7-5369c81687d2>\u001b[0m in \u001b[0;36m<module>\u001b[0;34m\u001b[0m\n\u001b[1;32m     14\u001b[0m \u001b[0;34m\u001b[0m\u001b[0m\n\u001b[1;32m     15\u001b[0m \u001b[0;34m\u001b[0m\u001b[0m\n\u001b[0;32m---> 16\u001b[0;31m \u001b[0mprint\u001b[0m\u001b[0;34m(\u001b[0m\u001b[0mCoocMatrix\u001b[0m\u001b[0;34m[\u001b[0m\u001b[0;34m:\u001b[0m\u001b[0;36m3\u001b[0m\u001b[0;34m]\u001b[0m\u001b[0;34m)\u001b[0m\u001b[0;34m\u001b[0m\u001b[0;34m\u001b[0m\u001b[0m\n\u001b[0m",
      "\u001b[0;31mTypeError\u001b[0m: unhashable type: 'slice'"
     ]
    }
   ],
   "source": [
    "CoocMatrix ={}\n",
    "for parag in cleaned_parag: # Per paragraph, check if words are a Character\n",
    "\n",
    "    List = []\n",
    "    for w in parag.split():\n",
    "        if w in Characters and w not in List:\n",
    "            List.append(w)\n",
    "\n",
    "    n = len(List)\n",
    "    for i in range(n):\n",
    "        for j in range(i+1,n):\n",
    "            CoocMatrix[(List[i],List[j])] = CoocMatrix.get((List[i],List[j]) ,0)+1\n",
    "            CoocMatrix[(List[j],List[i])] = CoocMatrix.get((List[j],List[i]) ,0)+1\n",
    "\n",
    "\n",
    "print(CoocMatrix)"
   ]
  },
  {
   "cell_type": "code",
   "execution_count": 8,
   "id": "fdbde37d",
   "metadata": {},
   "outputs": [
    {
     "name": "stdout",
     "output_type": "stream",
     "text": [
      "                  arwen aragorn bilbo boromir beregond bergil denethor elrond  \\\n",
      "arwen                 0       5     1       0        0      0        0      5   \n",
      "aragorn               5       0     4       5        5      2       10     20   \n",
      "bilbo                 1       4     0       0        1      0        1      6   \n",
      "boromir               0       5     0       0        5      0       10      0   \n",
      "beregond              0       5     1       5        0      5       10      2   \n",
      "bergil                0       2     0       0        5      0        1      2   \n",
      "denethor              0      10     1      10       10      1        0      3   \n",
      "elrond                5      20     6       0        2      2        3      0   \n",
      "eomer                 0       0     0       0        0      0        0      0   \n",
      "eowyn                 0       0     0       0        0      0        0      0   \n",
      "faramir               2      15     1       7       10      2       14      4   \n",
      "frodo                 3      15    13       3        2      0        5      9   \n",
      "fredegard             0       0     0       0        0      0        0      0   \n",
      "galadriel             3       6     3       0        0      0        1      6   \n",
      "gandalf               3      35     7      11       15      4       22     19   \n",
      "gimli                 3      20     2       0        0      1        1     12   \n",
      "gollum                0       1     0       1        0      0        1      0   \n",
      "haldir                0       0     0       0        0      0        0      0   \n",
      "isildur               1       7     0       1        1      0        1      3   \n",
      "king of the deads     0       0     0       0        0      0        0      0   \n",
      "legolas               3      19     2       0        0      1        1     11   \n",
      "merry                 2      18     6       2        5      6        7     10   \n",
      "pippin                2      21     7      10       15      7       19     11   \n",
      "sam                   0       7     7       0        0      0        1      4   \n",
      "saruman               1       9     2       3        0      0        3      4   \n",
      "sauron                0      10     0       1        2      0        3      6   \n",
      "theoden               0       0     0       0        0      0        0      0   \n",
      "treebeard             1       3     1       1        0      0        1      2   \n",
      "the witch king        0       0     0       0        0      0        0      0   \n",
      "grima                 0       0     0       0        0      0        0      0   \n",
      "fatty                 0       0     1       0        0      0        0      0   \n",
      "rose cotton           0       0     0       0        0      0        0      0   \n",
      "tom cotton            0       0     0       0        0      0        0      0   \n",
      "shadowfax             1       6     0       4        6      1        8      3   \n",
      "\n",
      "                  eomer eowyn  ... saruman sauron theoden treebeard  \\\n",
      "arwen                 0     0  ...       1      0       0         1   \n",
      "aragorn               0     0  ...       9     10       0         3   \n",
      "bilbo                 0     0  ...       2      0       0         1   \n",
      "boromir               0     0  ...       3      1       0         1   \n",
      "beregond              0     0  ...       0      2       0         0   \n",
      "bergil                0     0  ...       0      0       0         0   \n",
      "denethor              0     0  ...       3      3       0         1   \n",
      "elrond                0     0  ...       4      6       0         2   \n",
      "eomer                 0     0  ...       0      0       0         0   \n",
      "eowyn                 0     0  ...       0      0       0         0   \n",
      "faramir               0     0  ...       3      3       0         2   \n",
      "frodo                 0     0  ...       5      5       0         1   \n",
      "fredegard             0     0  ...       0      0       0         0   \n",
      "galadriel             0     0  ...       3      3       0         2   \n",
      "gandalf               0     0  ...      11     12       0         3   \n",
      "gimli                 0     0  ...       3      7       0         1   \n",
      "gollum                0     0  ...       1      2       0         0   \n",
      "haldir                0     0  ...       0      0       0         0   \n",
      "isildur               0     0  ...       0      5       0         0   \n",
      "king of the deads     0     0  ...       0      0       0         0   \n",
      "legolas               0     0  ...       3      6       0         1   \n",
      "merry                 0     0  ...       7      2       0         2   \n",
      "pippin                0     0  ...       9      4       0         3   \n",
      "sam                   0     0  ...       4      6       0         1   \n",
      "saruman               0     0  ...       0      1       0         3   \n",
      "sauron                0     0  ...       1      0       0         0   \n",
      "theoden               0     0  ...       0      0       0         0   \n",
      "treebeard             0     0  ...       3      0       0         0   \n",
      "the witch king        0     0  ...       0      0       0         0   \n",
      "grima                 0     0  ...       0      0       0         0   \n",
      "fatty                 0     0  ...       0      0       0         0   \n",
      "rose cotton           0     0  ...       0      0       0         0   \n",
      "tom cotton            0     0  ...       0      0       0         0   \n",
      "shadowfax             0     0  ...       2      1       0         0   \n",
      "\n",
      "                  the witch king grima fatty rose cotton tom cotton shadowfax  \n",
      "arwen                          0     0     0           0          0         1  \n",
      "aragorn                        0     0     0           0          0         6  \n",
      "bilbo                          0     0     1           0          0         0  \n",
      "boromir                        0     0     0           0          0         4  \n",
      "beregond                       0     0     0           0          0         6  \n",
      "bergil                         0     0     0           0          0         1  \n",
      "denethor                       0     0     0           0          0         8  \n",
      "elrond                         0     0     0           0          0         3  \n",
      "eomer                          0     0     0           0          0         0  \n",
      "eowyn                          0     0     0           0          0         0  \n",
      "faramir                        0     0     0           0          0         6  \n",
      "frodo                          0     0     1           0          0         6  \n",
      "fredegard                      0     0     0           0          0         0  \n",
      "galadriel                      0     0     1           0          0         2  \n",
      "gandalf                        0     0     0           0          0        16  \n",
      "gimli                          0     0     0           0          0         3  \n",
      "gollum                         0     0     0           0          0         0  \n",
      "haldir                         0     0     0           0          0         0  \n",
      "isildur                        0     0     0           0          0         1  \n",
      "king of the deads              0     0     0           0          0         0  \n",
      "legolas                        0     0     0           0          0         3  \n",
      "merry                          0     0     1           0          0         7  \n",
      "pippin                         0     0     1           0          0        15  \n",
      "sam                            0     0     1           0          0         2  \n",
      "saruman                        0     0     0           0          0         2  \n",
      "sauron                         0     0     0           0          0         1  \n",
      "theoden                        0     0     0           0          0         0  \n",
      "treebeard                      0     0     0           0          0         0  \n",
      "the witch king                 0     0     0           0          0         0  \n",
      "grima                          0     0     0           0          0         0  \n",
      "fatty                          0     0     0           0          0         0  \n",
      "rose cotton                    0     0     0           0          0         0  \n",
      "tom cotton                     0     0     0           0          0         0  \n",
      "shadowfax                      0     0     0           0          0         0  \n",
      "\n",
      "[34 rows x 34 columns]\n"
     ]
    }
   ],
   "source": [
    "# DataFrame Coocurence\n",
    "df = pd.DataFrame(columns = Characters, index = Characters)\n",
    "df[:] = int(0)\n",
    "\n",
    "for key in CoocMatrix:\n",
    "    if key[0]==key[1] :\n",
    "        df[key[0]][key[1]] = CoocMatrix[key]\n",
    "    else:        \n",
    "        df[key[0]][key[1]] = CoocMatrix[key]\n",
    "\n",
    "\n",
    "\n",
    "print(df)"
   ]
  },
  {
   "cell_type": "code",
   "execution_count": null,
   "id": "c7bf00d0",
   "metadata": {},
   "outputs": [],
   "source": []
  },
  {
   "cell_type": "code",
   "execution_count": null,
   "id": "25aed06d",
   "metadata": {},
   "outputs": [],
   "source": []
  }
 ],
 "metadata": {
  "kernelspec": {
   "display_name": "Python 3",
   "language": "python",
   "name": "python3"
  },
  "language_info": {
   "codemirror_mode": {
    "name": "ipython",
    "version": 3
   },
   "file_extension": ".py",
   "mimetype": "text/x-python",
   "name": "python",
   "nbconvert_exporter": "python",
   "pygments_lexer": "ipython3",
   "version": "3.8.8"
  }
 },
 "nbformat": 4,
 "nbformat_minor": 5
}
