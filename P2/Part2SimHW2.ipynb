{
 "cells": [
  {
   "cell_type": "markdown",
   "metadata": {},
   "source": [
    "<h1><center>LINMA2472 : Porject 2, part 2, Random Fourier Features </center></h1>\n",
    "\n",
    "Remi Delogne, remi.delogne@uclouvain.be"
   ]
  },
  {
   "cell_type": "markdown",
   "metadata": {},
   "source": [
    "Import the following packages and functions. Refer to their documentation on the internet for more information on installation and usage.\n"
   ]
  },
  {
   "cell_type": "code",
   "execution_count": null,
   "metadata": {},
   "outputs": [],
   "source": [
    "import numpy as np\n",
    "from sklearn import preprocessing\n",
    "from sklearn.model_selection import train_test_split\n",
    "from sklearn import datasets, svm\n",
    "from sklearn.svm import LinearSVC\n",
    "from sklearn import metrics\n",
    "from sklearn.metrics import accuracy_score\n",
    "\n",
    "from keras.datasets import mnist #Contains the dataset\n",
    "from matplotlib import pyplot\n",
    "\n",
    "import time #Used to find the execution time of a part of the code"
   ]
  },
  {
   "cell_type": "code",
   "execution_count": null,
   "metadata": {},
   "outputs": [],
   "source": [
    "# load dataset and rescale the data to [0,15]\n",
    "''' load dataset: (we use the larger subset for testing and the smaller \n",
    "for training to demonstrate the efficiency of evaluation of new instances)'''\n",
    "(testX,testy),(trainX,trainy) = mnist.load_data()\n",
    "#Rescaling\n",
    "trainX = np.floor(trainX/16)\n",
    "testX = np.floor(testX/16)\n",
    "\n",
    "#Plot some images, for fun\n",
    "for i in range(9):\n",
    "    pyplot.subplot(330+1+i)\n",
    "    pyplot.imshow(trainX[i], cmap=pyplot.get_cmap('gray'))\n",
    "pyplot.show()\n",
    "\n",
    "#Put the data in vector form\n",
    "trainX=trainX.reshape((10000,-1))\n",
    "testX=testX.reshape((60000,-1))"
   ]
  },
  {
   "cell_type": "markdown",
   "metadata": {},
   "source": [
    "### Use the *time* package functions to time the execution of parts of your code:"
   ]
  },
  {
   "cell_type": "code",
   "execution_count": null,
   "metadata": {},
   "outputs": [],
   "source": [
    "#Example of timing a piece of code\n",
    "tik=time.perf_counter() # Start\n",
    "for i in range (100000000):\n",
    "    i=i+1\n",
    "tok=time.perf_counter() # Finish\n",
    "print('Total time: %s' % (tok-tik))"
   ]
  },
  {
   "cell_type": "markdown",
   "metadata": {},
   "source": [
    "### Train a linear SVM on the training data and evaluate it on the testing data\n",
    "Use the tik-tok method to see how long the method takes to evaluate the 60.000 testing instances\n",
    "\n",
    "Use the accuracy metric to judge the quality of your classifier"
   ]
  },
  {
   "cell_type": "code",
   "execution_count": null,
   "metadata": {},
   "outputs": [],
   "source": [
    "#Define the classifier\n",
    "clfLin=svm.SVC(kernel=\"linear\")\n",
    "#Train the classifier\n",
    "clfLin.fit(trainX,trainy)\n",
    "\n",
    "#Evaluate its accuracy\n",
    "\n",
    "predicted=clfLin.predict(testX)\n",
    "score=accuracy_score(testy,predicted)\n",
    "print('Accuracy:%s' % (score))"
   ]
  },
  {
   "cell_type": "markdown",
   "metadata": {},
   "source": [
    "### Train a Kernel SVM with the Gaussian Kernel on the training data and evaluate it on the testing data\n",
    "Use the tik-tok method to see how long the method takes to evaluate the $60000$ testing instances\n",
    "\n",
    "Use the accuracy metric to judge the quality of your classifier\n",
    "\n",
    "You may stick to the default parameters of sci-kit learn"
   ]
  },
  {
   "cell_type": "code",
   "execution_count": null,
   "metadata": {},
   "outputs": [],
   "source": [
    "#Define the classifier\n",
    "clfKernel=svm.SVC(kernel='rbf')\n",
    "#Train it\n",
    "clfKernel.fit(trainX, trainy)\n",
    "#Use it\n",
    "predicted=clfKernel.predict(testX)\n",
    "score=accuracy_score(testy,predicted)\n",
    "print('Accuracy: %s' % (score))"
   ]
  },
  {
   "cell_type": "markdown",
   "metadata": {},
   "source": [
    "### Use the following functions to implement Random Fourier Features\n",
    "\n",
    "Use the first function to generate your $\\boldsymbol\\omega_i$ and $b_i$\n",
    "\n",
    "Use the second function to create the mapping $\\boldsymbol z(\\boldsymbol x)$ as described in the slides."
   ]
  },
  {
   "cell_type": "code",
   "execution_count": null,
   "metadata": {},
   "outputs": [],
   "source": [
    "def generate_freq(...):\n",
    "    W=...\n",
    "    b=...\n",
    "    return W,b\n",
    "\n",
    "def rff_gaussian2(...):\n",
    "    Z=...\n",
    "    return Z"
   ]
  },
  {
   "cell_type": "markdown",
   "metadata": {},
   "source": [
    "### Transform your trainX and testX\n",
    "\n",
    "Use the function you defined to transform your data\n",
    "\n",
    "Make sure you only generate $\\boldsymbol W$ and $\\boldsymbol b$ once\n",
    "\n",
    "Use $\\sigma=100$ and $D=300$\n",
    "\n",
    "You may also use the tik-tok method to time the procedure of creating Random features"
   ]
  },
  {
   "cell_type": "code",
   "execution_count": null,
   "metadata": {},
   "outputs": [],
   "source": [
    "W,b=generate_freq(...)\n",
    "\n",
    "trainX_rff=...\n",
    "testX_rff=..."
   ]
  },
  {
   "cell_type": "markdown",
   "metadata": {},
   "source": [
    "### Use another linear SVM to classify the transformed data"
   ]
  },
  {
   "cell_type": "code",
   "execution_count": null,
   "metadata": {},
   "outputs": [],
   "source": [
    "#Define the classifier\n",
    "clfRff = svm.SVC(kernel=\"linear\",C=np.inf)\n",
    "#Train it\n",
    "clfRff.fit(trainX_rff, trainy)\n",
    "#Use it\n",
    "predicted = clfRff.predict(testX_rff)\n",
    "score = accuracy_score(testy,predicted)\n",
    "print('Accuracy: %s' % (score))"
   ]
  },
  {
   "cell_type": "markdown",
   "metadata": {},
   "source": [
    "### Additional workspace "
   ]
  },
  {
   "cell_type": "markdown",
   "metadata": {},
   "source": [
    "Testing the accuracy for different values of $D$."
   ]
  },
  {
   "cell_type": "code",
   "execution_count": null,
   "metadata": {},
   "outputs": [],
   "source": [
    "#Define a vector to store the accuracy values you will get\n",
    "accuracy=[...]\n",
    "#Define for which values of D you want to test the RFF\n",
    "for i in range(...):\n",
    "    D=...\n",
    "    trainX_rff=...\n",
    "    testX_rff=...\n",
    "    \n",
    "    #Train and evaluate a linear classifier\n",
    "    \n",
    "    acc=...\n",
    "    accuracy.append(acc)"
   ]
  },
  {
   "cell_type": "markdown",
   "metadata": {},
   "source": [
    "### Don't forget to add plots and other nice things"
   ]
  },
  {
   "cell_type": "code",
   "execution_count": null,
   "metadata": {},
   "outputs": [],
   "source": []
  },
  {
   "cell_type": "code",
   "execution_count": null,
   "metadata": {},
   "outputs": [],
   "source": []
  },
  {
   "cell_type": "code",
   "execution_count": null,
   "metadata": {},
   "outputs": [],
   "source": []
  },
  {
   "cell_type": "code",
   "execution_count": null,
   "metadata": {},
   "outputs": [],
   "source": []
  },
  {
   "cell_type": "code",
   "execution_count": null,
   "metadata": {},
   "outputs": [],
   "source": []
  },
  {
   "cell_type": "code",
   "execution_count": null,
   "metadata": {},
   "outputs": [],
   "source": []
  },
  {
   "cell_type": "code",
   "execution_count": null,
   "metadata": {},
   "outputs": [],
   "source": []
  },
  {
   "cell_type": "code",
   "execution_count": null,
   "metadata": {},
   "outputs": [],
   "source": []
  },
  {
   "cell_type": "code",
   "execution_count": null,
   "metadata": {},
   "outputs": [],
   "source": []
  },
  {
   "cell_type": "code",
   "execution_count": null,
   "metadata": {},
   "outputs": [],
   "source": []
  },
  {
   "cell_type": "code",
   "execution_count": null,
   "metadata": {},
   "outputs": [],
   "source": []
  },
  {
   "cell_type": "code",
   "execution_count": null,
   "metadata": {},
   "outputs": [],
   "source": []
  },
  {
   "cell_type": "code",
   "execution_count": null,
   "metadata": {},
   "outputs": [],
   "source": []
  }
 ],
 "metadata": {
  "kernelspec": {
   "display_name": "Python 3",
   "language": "python",
   "name": "python3"
  },
  "language_info": {
   "codemirror_mode": {
    "name": "ipython",
    "version": 3
   },
   "file_extension": ".py",
   "mimetype": "text/x-python",
   "name": "python",
   "nbconvert_exporter": "python",
   "pygments_lexer": "ipython3",
   "version": "3.8.3"
  }
 },
 "nbformat": 4,
 "nbformat_minor": 4
}
