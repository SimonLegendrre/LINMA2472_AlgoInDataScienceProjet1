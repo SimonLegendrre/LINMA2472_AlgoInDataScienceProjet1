{
 "cells": [
  {
   "cell_type": "markdown",
   "metadata": {},
   "source": [
    "# Problematic"
   ]
  },
  {
   "cell_type": "markdown",
   "metadata": {},
   "source": [
    "#### For sociologists, to study the impact of stress and high-pressure environments on one’s health. They are looking for factors in people’s lives that could correlate to certain diseases or conditions. : \n",
    "\n",
    "They don't need to know any information about the identity of individuals. However, gender, dob and localisaiton  is really important information : \n",
    "\n",
    "- The id ( by name could be dropped (BE CARREFUL BECAUSE THIS INFORMATION COULD BE LINKED WITH THE SECOND PART OF THE EXERCICE)) \n",
    "- The gender could be replaced by 0 or 1 ( mais en vrai ca change pas grand chose)\n",
    "- The dob : we don't need the day and the month of birth ==> Ne pourrait-on pas modifier grâce à une gaussienne de moyenne 0 sd 1 les dates de naissance ? On gagne en anonymisation, on ne perd pas grand chose \n",
    "- Zip code, we do not need the entire zipcode, we can keep only the first to digit.\n",
    "\n",
    "==> Etant donnél'étude demandé, le risque n'est pas les identifiant mais les pseusos identifiants.\n",
    "\n",
    "#### For the US department of Health and Human services chairman, to decide where to build new hospitals, and which departments (radiology, neurology, pulmonology, oncology...) to have in these, as the US federal government has just allocated money to build *5 new hospitals across the country* : \n",
    "\n",
    "A priori, je ne vois pas pourquoi on aurait besoin d'information sur les individus, ce qui nous importe est uniquement les maladies, la localicaiton, et pourquoi pas l'age des gens.\n",
    "\n",
    "- Gender ne sert plus à rien\n",
    "- l'année de naissance suffit \n",
    "- les deux premiers digit du zip code sont suffisant (étant donné que l'on va faire que 5 hopitauyx across the country)\n",
    "- L'éducation on s'en branle\n",
    "- Emploie on s'en fou\n",
    "- Nombre d'enfant on s'en fou \n",
    "- Marital status on s'en branle\n",
    "- ancestry on s'en fou \n",
    "- Nombre de véhicule ( est ce que ca peut être intéressant étant donné que c'est des hopitaux? ==> Ambulance tout ca)\n",
    "- communte-time on s'en branle \n",
    "- accommodation on s'en fou \n",
    "- Maladie, pourrait on déjà regrouper les différentes maladies selon le service utilise à soigner les tiches ? On s'en branle de savoir si c'est un cancer du foie ou de la peau, ce qui est intéressant c'est qu'il faut un service d'oncologie\n",
    "\n"
   ]
  },
  {
   "cell_type": "markdown",
   "metadata": {},
   "source": [
    "# Packages and data imports"
   ]
  },
  {
   "cell_type": "markdown",
   "metadata": {},
   "source": [
    "## Import packages"
   ]
  },
  {
   "cell_type": "code",
   "execution_count": 1,
   "metadata": {},
   "outputs": [],
   "source": [
    "#conda install -c conda-forge sklearn-pandas\n",
    "import pandas as pd \n",
    "import os\n",
    "import datetime as dt\n",
    "import numpy as np\n",
    "from sklearn.preprocessing import LabelEncoder\n",
    "from sklearn_pandas import DataFrameMapper\n",
    "from sklearn.cluster import KMeans\n",
    "import hashlib as h\n",
    "from collections import Counter\n",
    "import math\n"
   ]
  },
  {
   "cell_type": "markdown",
   "metadata": {},
   "source": [
    "## Data import"
   ]
  },
  {
   "cell_type": "code",
   "execution_count": 2,
   "metadata": {},
   "outputs": [],
   "source": [
    "data = pd.read_csv(\"../resources/dataset_HW3.csv\")\n",
    "states = pd.read_csv(\"../resources/states_cleaned.csv\")\n",
    "density_state = pd.read_csv('../resources/density_state.csv')"
   ]
  },
  {
   "cell_type": "markdown",
   "metadata": {},
   "source": [
    "# ID anonymisation"
   ]
  },
  {
   "cell_type": "code",
   "execution_count": 3,
   "metadata": {},
   "outputs": [],
   "source": [
    "def ID_anonymised_df(df, secret_key):\n",
    "    new_id_vec = []\n",
    "    for id in df['id']:\n",
    "        id_salted = str(id.replace(' ', '')+secret_key)\n",
    "        new_id_vec.append(h.sha3_256(id_salted.encode()).hexdigest())\n",
    "    \n",
    "    anonimsed_df = df.copy()\n",
    "    anonimsed_df['id'] = new_id_vec\n",
    "\n",
    "    return anonimsed_df\n"
   ]
  },
  {
   "cell_type": "code",
   "execution_count": 4,
   "metadata": {},
   "outputs": [],
   "source": [
    "data_socio = ID_anonymised_df(data, 'arthurgeeraerd11751600')\n",
    "data_hospi = ID_anonymised_df(data, 'simonadrienkinartlegendre')"
   ]
  },
  {
   "cell_type": "markdown",
   "metadata": {},
   "source": [
    "# Transformations "
   ]
  },
  {
   "cell_type": "markdown",
   "metadata": {},
   "source": [
    "### Date of birth"
   ]
  },
  {
   "cell_type": "code",
   "execution_count": 5,
   "metadata": {},
   "outputs": [],
   "source": [
    "# Projet hopitaux : on met les ages par dizaine d'année\n",
    "for i in range(len(data_hospi[\"dob\"])):\n",
    "\n",
    "    # Modify DOB \n",
    "    s = 0 #np.random.normal(0, 2, 1)\n",
    "    data_hospi.at[i,\"dob\"] = str(round(int(data_hospi[\"dob\"][i][-4:]) +s, -1))[-2:]#[0])  # ARRONDI A LA DIZAINE\n",
    "\n",
    "\n",
    "# Projet sociologique : on met les ages avec une erreur suivant une normale. ++> PERMET EN PLUS DE DIFFERENCIER par rapport à l'autre BDD.\n",
    "\n",
    "for i in range(len(data_socio[\"dob\"])):\n",
    "    # Modify DOB \n",
    "    s = np.random.normal(0, 2, 1)\n",
    "    data_socio.at[i,\"dob\"] = round(int(data_socio[\"dob\"][i][-4:]) +s[0]) "
   ]
  },
  {
   "cell_type": "markdown",
   "metadata": {},
   "source": [
    "## Mapping Variable catégorielles"
   ]
  },
  {
   "cell_type": "markdown",
   "metadata": {},
   "source": [
    "Chaque fonction permet de gérer une variable catégorielle. On mets en entrée la valeur que l'on veut pour chaque catégorie possible, \n",
    "en retour, la database est modifiée avec les catégorie que l'on veut.\n",
    "\n",
    "Exemple : \n",
    "\n",
    "change_education(data, \"low\", \"low\", \"middle\", \"high\", \"high\") va remplacer dans la dataBase Lessthan high school par low, high school par low, chachelor par moiddle, et master et phd par high"
   ]
  },
  {
   "cell_type": "markdown",
   "metadata": {},
   "source": [
    "### functions"
   ]
  },
  {
   "cell_type": "code",
   "execution_count": 6,
   "metadata": {},
   "outputs": [],
   "source": [
    "def change_education(data, less, high, bach, master, phd):\n",
    "\n",
    "    mapping_education = {\n",
    "        'Less than High School':less,\n",
    "        'High School':high,\n",
    "        'Bachelor':bach,\n",
    "        'Masters':master,\n",
    "        'PhD/md':phd,\n",
    "    }\n",
    "    changed_data = data.copy()\n",
    "    changed_data[\"education\"] = data.education.map(mapping_education)\n",
    "    return changed_data\n",
    "\n",
    "\n",
    "def change_gender(data, male, female):\n",
    "\n",
    "    mapping_gender = {\n",
    "        'male': male,\n",
    "        'female': female\n",
    "    }\n",
    "\n",
    "    \n",
    "    changed_data = data.copy()\n",
    "    changed_data[\"gender\"] = data.gender.map(mapping_gender)\n",
    "    return changed_data\n",
    "\n",
    "\n",
    "def change_employment(data, employed, retired, student, unemployed):\n",
    "    mapping_employment = {\n",
    "        'Employed' : employed,\n",
    "        'Retired' : retired,\n",
    "        'Student' : student,\n",
    "        'Unemployed' : unemployed\n",
    "    }\n",
    "\n",
    "    changed_data = data.copy()\n",
    "    changed_data[\"employment\"] = data.employment.map(mapping_employment)\n",
    "    return changed_data\n",
    "\n",
    "\n",
    "def change_children(data, zero, un, deux, trois, quatre , cinq, six, sept, huit):\n",
    "    mapping_children = {\n",
    "        0 : zero,\n",
    "        1 : un,\n",
    "        2 : deux,\n",
    "        3 : trois,\n",
    "        4 : quatre,\n",
    "        5 : cinq,\n",
    "        6 : six,\n",
    "        7 : sept,\n",
    "        8 : huit\n",
    "    }\n",
    "\n",
    "    changed_data = data.copy()\n",
    "    changed_data[\"children\"] = data.children.map(mapping_children)\n",
    "    return changed_data\n",
    "\n",
    "\n",
    "\n",
    "def change_marital_status(data, divorced, married, single, widowed):\n",
    "    mapping_marital_status = {\n",
    "        \"divorced\" : divorced,\n",
    "        \"married\" : married,\n",
    "        \"single\" : single,\n",
    "        \"widowed\" : widowed,\n",
    "\n",
    "    }\n",
    "\n",
    "    changed_data = data.copy()\n",
    "    changed_data[\"marital_status\"] = data.marital_status.map(mapping_marital_status)\n",
    "    return changed_data\n",
    "\n",
    "\n",
    "def change_ancestry(data, Africa, Asia, Europe, North_America, Oceania, South_America):\n",
    "    mapping_ancestry = {\n",
    "        \"Africa\" : Africa,\n",
    "        \"Asia\" : Asia,\n",
    "        \"Europe\" : Europe,\n",
    "        \"North America\" : North_America,\n",
    "        \"Oceania\" : Oceania,\n",
    "        \"South America\" : South_America\n",
    "\n",
    "    }\n",
    "\n",
    "    changed_data = data.copy()\n",
    "    changed_data[\"ancestry\"] = data.ancestry.map(mapping_ancestry)\n",
    "    return changed_data\n",
    "\n",
    "\n",
    "def change_number_vehicles(data, zero, un, deux, trois):\n",
    "    mapping_nmbr_vehicule = {\n",
    "        0 : zero,\n",
    "        1 : un,\n",
    "        2 : deux,\n",
    "        3 : trois,\n",
    "\n",
    "    }\n",
    "\n",
    "    changed_data = data.copy()\n",
    "    changed_data[\"number_vehicles\"] = data.number_vehicles.map(mapping_nmbr_vehicule)\n",
    "    return changed_data\n",
    "\n",
    "\n",
    "def change_accommodation(data, Own_flat, Own_house, Rent_flat, Rent_house, Rent_room):\n",
    "    mapping_accommodation = {\n",
    "        \"Own flat\" : Own_flat,\n",
    "        \"Own house\" : Own_house,\n",
    "        \"Rent flat\" : Rent_flat,\n",
    "        \"Rent house\" : Rent_house,\n",
    "        \"Rent room\" : Rent_room,\n",
    "        \n",
    "    }\n",
    "\n",
    "    changed_data = data.copy()\n",
    "    changed_data[\"accommodation\"] = data.accommodation.map(mapping_accommodation)\n",
    "    return changed_data\n",
    "\n",
    "# for the sake of the first use case we gather all specific diseases under more general health department \n",
    "\n",
    "def change_disease(data, gastritis, heart_disease, hypertension, diabetes, skin_cancer, prostate_cancer, breast_cancer, schizophrenia, Alzheimer, multiple_sclerosis, endometriosis, kidney_disease, HIV_AIDS):\n",
    "    mapping_disease = {\n",
    "        'gastritis': gastritis ,\n",
    "        'heart disease': heart_disease,\n",
    "        \"hypertension\": hypertension,\n",
    "        \"diabetes\": diabetes,\n",
    "        \"skin cancer\": skin_cancer,\n",
    "        \"prostate cancer\":  prostate_cancer,\n",
    "        \"breast cancer\": breast_cancer, \n",
    "        \"schizophrenia\": schizophrenia,\n",
    "        \"Alzheimer's disease\": Alzheimer, \n",
    "        \"multiple sclerosis\": multiple_sclerosis,\n",
    "        \"endometriosis\": endometriosis, \n",
    "        \"kidney disease\": kidney_disease,\n",
    "        \"HIV/AIDS\": HIV_AIDS \n",
    "    }\n",
    "\n",
    "    changed_data = data.copy()\n",
    "    changed_data['disease'] = data.disease.map(mapping_disease)\n",
    "    return changed_data\n",
    "\n",
    "\n",
    "    \n"
   ]
  },
  {
   "cell_type": "markdown",
   "metadata": {},
   "source": [
    "### tests"
   ]
  },
  {
   "cell_type": "code",
   "execution_count": 7,
   "metadata": {},
   "outputs": [],
   "source": [
    "# 'low' under highschool, 'high' elsewhere \n",
    "X1 = change_education(data, less= '0', high='0', bach='1', master='1', phd='1')\n",
    "\n",
    "# '0' male, '1' female \n",
    "X2 = change_gender(X1,male = 0, female = 1)\n",
    "\n",
    "# active = {employed, student} unactive = {retired, unemployed}\n",
    "X3 = change_employment(X2, employed= '1', retired='0', student='1', unemployed='0')\n",
    "\n",
    "# QUE FAIRE AVEC LES CHILDREN ?\n",
    "X4 = change_children(X3, \"none\", \"one\",'more than one','more than one','more than one','more than one','more than one','more than one','more than one')\n",
    "\n",
    "# married = married, unmarried = others\n",
    "X5 = change_marital_status(X4, divorced='0', married='1', single='0', widowed='1')\n",
    "\n",
    "# native : north america, foreigners : others BUT to much 'other' compare to native so might affect negatively l-diversity. Instead, we merge north/south america \n",
    "X6 = change_ancestry(X5, Africa='Africa', Asia='Asia', Europe='Europe', North_America='America', Oceania='Oceania', South_America='America')\n",
    "\n",
    "# 1 if got vehicule, 0 else \n",
    "X7 = change_number_vehicles(X6, zero='none', un='one', deux='more than one', trois='more than one')\n",
    "\n",
    "# owner = owner, renter = renter regardless of the type of the accomodaations (2/3 owner, maybe reset these proportion ? )\n",
    "X8 = change_accommodation(X7, Own_flat='1', Own_house='1', Rent_flat= '0', Rent_house='0', Rent_room='0')\n",
    "\n",
    "# gathered under medical departments\n",
    "X9 =change_disease(X8, gastritis='gastro-enterolgy', heart_disease='cardiovascular', hypertension='cardiovascular', diabetes='endocrynology', \n",
    "    skin_cancer='oncology', prostate_cancer='oncology', breast_cancer='oncology', \n",
    "    schizophrenia='psychiatry', Alzheimer='neurology', multiple_sclerosis='neurology', endometriosis='gynecology', kidney_disease='nephrology', HIV_AIDS='interal mdeicine')\n",
    "\n",
    "# "
   ]
  },
  {
   "cell_type": "markdown",
   "metadata": {},
   "source": [
    "## Gestion ZIPCODE"
   ]
  },
  {
   "cell_type": "markdown",
   "metadata": {},
   "source": [
    "import d'un base de données trouvée sur le net : http://structnet.com/instructions/zip_min_max_by_state.html"
   ]
  },
  {
   "cell_type": "markdown",
   "metadata": {},
   "source": [
    "### HOSPITAL CASE"
   ]
  },
  {
   "cell_type": "code",
   "execution_count": 8,
   "metadata": {},
   "outputs": [],
   "source": [
    "dict_states = {}\n",
    "\n",
    "for (i,state) in enumerate(states['State Name']):\n",
    "    dict_states[state] = [states['Zip Min'].iloc[i,], states['Zip Max'].iloc[i,]]     "
   ]
  },
  {
   "cell_type": "code",
   "execution_count": 9,
   "metadata": {},
   "outputs": [],
   "source": [
    "def change_zipcode_state(df, dic_state):\n",
    "    dict_zip_to_state = {}\n",
    "    new_df = df.copy()\n",
    "\n",
    "    for i,zip in enumerate(df['zipcode']):\n",
    "        found = False\n",
    "        for state, r in list(dict_states.items()):\n",
    "            if zip in range(int(r[0]), int(r[1])):\n",
    "                dict_zip_to_state[zip] = state\n",
    "                found = True\n",
    "        if not found:\n",
    "            dict_zip_to_state[zip] = 'unknown state'\n",
    "\n",
    "    new_df['zipcode'] = df.zipcode.map(dict_zip_to_state)\n",
    "    return new_df"
   ]
  },
  {
   "cell_type": "markdown",
   "metadata": {},
   "source": [
    "On créé le dictionnaire qui pour chaque clé : 'nom_etat', fait correspondre la valuer [zip_min, zip_max]"
   ]
  },
  {
   "cell_type": "code",
   "execution_count": 10,
   "metadata": {},
   "outputs": [],
   "source": [
    "test_new_data_zip = change_zipcode_state(data,dict_states)"
   ]
  },
  {
   "cell_type": "markdown",
   "metadata": {},
   "source": [
    "### Transform ZipCode to Density"
   ]
  },
  {
   "cell_type": "code",
   "execution_count": null,
   "metadata": {},
   "outputs": [],
   "source": [
    "mean_density = density_state['Density'].mean()\n",
    "\n",
    "dict_state_density = {}\n",
    "\n",
    "for i,state in enumerate(density_state['State']):\n",
    "    if density_state['Density'].iloc[i] >= mean_density:\n",
    "        dict_state_density[state] = 'High'\n",
    "    else:\n",
    "        dict_state_density[state] = 'Low'\n",
    "\n",
    "data['zipcode'] = data.zipcode.map(dict_state_density)"
   ]
  },
  {
   "cell_type": "code",
   "execution_count": null,
   "metadata": {},
   "outputs": [],
   "source": [
    "def data_where_ZC_is_density(data,density_state_data,binary_stat):\n",
    "    \"\"\"\n",
    "    Args: \n",
    "    - data: dataset at stake\n",
    "    - density_state_data: BDD with densities\n",
    "    - binary_stat: STRING. \n",
    "        * \"mean\"\n",
    "        * \"median\"\n",
    "    Returns: new dataset with changed \n",
    "    \"\"\"\n",
    "\n",
    "    transformed_density = 0 # intialisation\n",
    "\n",
    "    if binary_stat== \"mean\":\n",
    "        transformed_density = density_state_data['Density'].mean()\n",
    "\n",
    "    elif binary_stat == \"median\":\n",
    "        transformed_density = density_state_data['Density'].median()\n",
    "    else:\n",
    "        raise ValueError(\"wrong 'binary_stat' argument. Need to be a string format\")\n",
    "    \n",
    "\n",
    "    dict_state_density = {}\n",
    "\n",
    "    for i,state in enumerate(density_state_data['State']):\n",
    "        if density_state_data['Density'].iloc[i] >= transformed_density:\n",
    "            dict_state_density[state] = 'High'\n",
    "        else:\n",
    "            dict_state_density[state] = 'Low'\n",
    "    \n",
    "    new_data = data.copy()\n",
    "\n",
    "    new_data['zipcode'] = data.zipcode.map(dict_state_density)\n",
    "\n",
    "    return new_data"
   ]
  },
  {
   "cell_type": "markdown",
   "metadata": {},
   "source": [
    "# Metrics"
   ]
  },
  {
   "cell_type": "markdown",
   "metadata": {},
   "source": [
    "## k-Anonymity"
   ]
  },
  {
   "cell_type": "code",
   "execution_count": null,
   "metadata": {},
   "outputs": [],
   "source": [
    "def check_k_anonymity(data, k, list_categorical_variable) : #k=2 --> 2 individus ne sont pas distingables via les quasi-identifiers\n",
    "    \"\"\"\n",
    "    return: vector of boolean of length \"number of groups\", each value equal True if the group is composed of k individuals or more.\n",
    "    \"\"\"\n",
    "    new_data = data.copy()\n",
    "\n",
    "    group_by  = new_data[list_categorical_variable].groupby(list_categorical_variable)  \n",
    "    rep = group_by[list_categorical_variable[0]].count() >= k\n",
    "    #n_k_personnes = len(rep)-sum(rep) # if k =2 142 faux --> 142 personnes définies de façon unique\n",
    "                                      # nombre de groupes dans lesquels il y a k personnes ou moins \n",
    "\n",
    "    return rep "
   ]
  },
  {
   "cell_type": "markdown",
   "metadata": {},
   "source": [
    "## L-Diversity"
   ]
  },
  {
   "cell_type": "code",
   "execution_count": null,
   "metadata": {},
   "outputs": [],
   "source": [
    "def check_L_diversity(data, k, list_categorical_variable, sensitive):\n",
    "    \"\"\"\n",
    "    return : boolean vector of size number of groups, True if there is more than 1 disease represented in the group.\n",
    "    \"\"\"\n",
    "    group_by = data.groupby(list_categorical_variable)[sensitive]\n",
    "    L_diverse = group_by.nunique()>=k\n",
    "\n",
    "    return L_diverse"
   ]
  },
  {
   "cell_type": "markdown",
   "metadata": {},
   "source": [
    "## Entropy"
   ]
  },
  {
   "cell_type": "code",
   "execution_count": null,
   "metadata": {},
   "outputs": [],
   "source": [
    "def entropy(ds):\n",
    "\n",
    "    colNames = list(ds.columns)[1:-1] # remove index and disease\n",
    "    print(\"variables taken into account: \"+ str(colNames))\n",
    "    counting_df = ds.groupby(colNames).size().reset_index(name='obs')\n",
    "    n_class = list(counting_df['obs'])\n",
    "    N = len(data)\n",
    "\n",
    "\n",
    "    entropy = 0\n",
    "\n",
    "    for n in n_class:\n",
    "        entropy += -((int(n)/N) * math.log(int(n)/N))\n",
    "\n",
    "    return entropy\n",
    "\n"
   ]
  }
 ],
 "metadata": {
  "interpreter": {
   "hash": "3e0c1de059b023329ee3926758fcb07dc8e4ec1949b5c4e9d08b8a25fc553046"
  },
  "kernelspec": {
   "display_name": "Python 3.8.8 64-bit ('base': conda)",
   "language": "python",
   "name": "python3"
  },
  "language_info": {
   "codemirror_mode": {
    "name": "ipython",
    "version": 3
   },
   "file_extension": ".py",
   "mimetype": "text/x-python",
   "name": "python",
   "nbconvert_exporter": "python",
   "pygments_lexer": "ipython3",
   "version": "3.8.12"
  },
  "orig_nbformat": 4
 },
 "nbformat": 4,
 "nbformat_minor": 2
}
