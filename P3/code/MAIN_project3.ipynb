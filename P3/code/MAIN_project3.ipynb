{
 "cells": [
  {
   "cell_type": "markdown",
   "metadata": {},
   "source": [
    "# Problematic"
   ]
  },
  {
   "cell_type": "markdown",
   "metadata": {},
   "source": [
    "#### For sociologists, to study the impact of stress and high-pressure environments on one’s health. They are looking for factors in people’s lives that could correlate to certain diseases or conditions. : \n",
    "\n",
    "They don't need to know any information about the identity of individuals. However, gender, dob and localisaiton  is really important information : \n",
    "\n",
    "- The id ( by name could be dropped (BE CARREFUL BECAUSE THIS INFORMATION COULD BE LINKED WITH THE SECOND PART OF THE EXERCICE)) \n",
    "- The gender could be replaced by 0 or 1 ( mais en vrai ca change pas grand chose)\n",
    "- The dob : we don't need the day and the month of birth ==> Ne pourrait-on pas modifier grâce à une gaussienne de moyenne 0 sd 1 les dates de naissance ? On gagne en anonymisation, on ne perd pas grand chose \n",
    "- Zip code, we do not need the entire zipcode, we can keep only the first to digit.\n",
    "\n",
    "==> Etant donnél'étude demandé, le risque n'est pas les identifiant mais les pseusos identifiants.\n",
    "\n",
    "#### For the US department of Health and Human services chairman, to decide where to build new hospitals, and which departments (radiology, neurology, pulmonology, oncology...) to have in these, as the US federal government has just allocated money to build *5 new hospitals across the country* : \n",
    "\n",
    "A priori, je ne vois pas pourquoi on aurait besoin d'information sur les individus, ce qui nous importe est uniquement les maladies, la localicaiton, et pourquoi pas l'age des gens.\n",
    "\n",
    "- Gender ne sert plus à rien\n",
    "- l'année de naissance suffit \n",
    "- les deux premiers digit du zip code sont suffisant (étant donné que l'on va faire que 5 hopitauyx across the country)\n",
    "- L'éducation on s'en branle\n",
    "- Emploie on s'en fou\n",
    "- Nombre d'enfant on s'en fou \n",
    "- Marital status on s'en branle\n",
    "- ancestry on s'en fou \n",
    "- Nombre de véhicule ( est ce que ca peut être intéressant étant donné que c'est des hopitaux? ==> Ambulance tout ca)\n",
    "- communte-time on s'en branle \n",
    "- accommodation on s'en fou \n",
    "- Maladie, pourrait on déjà regrouper les différentes maladies selon le service utilise à soigner les tiches ? On s'en branle de savoir si c'est un cancer du foie ou de la peau, ce qui est intéressant c'est qu'il faut un service d'oncologie\n",
    "\n"
   ]
  },
  {
   "cell_type": "markdown",
   "metadata": {},
   "source": [
    "# Packages and data imports"
   ]
  },
  {
   "cell_type": "markdown",
   "metadata": {},
   "source": [
    "## Import packages"
   ]
  },
  {
   "cell_type": "code",
   "execution_count": 295,
   "metadata": {},
   "outputs": [],
   "source": [
    "#conda install -c conda-forge sklearn-pandas\n",
    "import pandas as pd \n",
    "import os\n",
    "import datetime as dt\n",
    "import numpy as np\n",
    "from sklearn.preprocessing import LabelEncoder\n",
    "from sklearn_pandas import DataFrameMapper\n",
    "from sklearn.cluster import KMeans\n",
    "import hashlib as h\n",
    "from collections import Counter\n",
    "import math\n"
   ]
  },
  {
   "cell_type": "markdown",
   "metadata": {},
   "source": [
    "## Data import"
   ]
  },
  {
   "cell_type": "code",
   "execution_count": 296,
   "metadata": {},
   "outputs": [],
   "source": [
    "data = pd.read_csv(\"../resources/dataset_HW3.csv\")\n",
    "states = pd.read_csv(\"../resources/states_cleaned.csv\")\n",
    "density_state = pd.read_csv('../resources/density_state.csv')"
   ]
  },
  {
   "cell_type": "markdown",
   "metadata": {},
   "source": [
    "# ID anonymisation"
   ]
  },
  {
   "cell_type": "code",
   "execution_count": 297,
   "metadata": {},
   "outputs": [],
   "source": [
    "def ID_anonymised_df(df, secret_key):\n",
    "    new_id_vec = []\n",
    "    for id in df['id']:\n",
    "        id_salted = str(id.replace(' ', '')+secret_key)\n",
    "        new_id_vec.append(h.sha3_256(id_salted.encode()).hexdigest())\n",
    "    \n",
    "    anonimsed_df = df.copy()\n",
    "    anonimsed_df['id'] = new_id_vec\n",
    "\n",
    "    return anonimsed_df\n"
   ]
  },
  {
   "cell_type": "code",
   "execution_count": 298,
   "metadata": {},
   "outputs": [],
   "source": [
    "data_socio = ID_anonymised_df(data, 'arthurgeeraerd11751600')\n",
    "data_hospi = ID_anonymised_df(data, 'simonadrienkinartlegendre')"
   ]
  },
  {
   "cell_type": "markdown",
   "metadata": {},
   "source": [
    "# Transformations "
   ]
  },
  {
   "cell_type": "markdown",
   "metadata": {},
   "source": [
    "### Date of birth"
   ]
  },
  {
   "cell_type": "code",
   "execution_count": 299,
   "metadata": {},
   "outputs": [],
   "source": [
    "\"\"\"# Projet hopitaux : on met les ages par dizaine d'année\n",
    "for i in range(len(data_hospi[\"dob\"])):\n",
    "\n",
    "    # Modify DOB \n",
    "    s = 0 #np.random.normal(0, 2, 1)\n",
    "    data_hospi.at[i,\"dob\"] = str(round(int(data_hospi[\"dob\"][i][-4:]) +s, -1))[-2:]#[0])  # ARRONDI A LA DIZAINE\n",
    "\"\"\"\n",
    "\n",
    "# Projet sociologique : on met les ages avec une erreur suivant une normale. ++> PERMET EN PLUS DE DIFFERENCIER par rapport à l'autre BDD.\n",
    "\n",
    "for i in range(len(data_socio[\"dob\"])):\n",
    "    # Modify DOB \n",
    "    #s = np.random.normal(0, 2, 1)\n",
    "    s=0\n",
    "    data_socio.at[i,\"dob\"] = str(round(int(data_hospi[\"dob\"][i][-4:]) +s, -1))[-2:]#[0])  # ARRONDI A LA DIZAINE\n",
    "    data_hospi.at[i,\"dob\"] = str(round(int(data_hospi[\"dob\"][i][-4:]) +s, -1))[-2:]#[0])  # ARRONDI A LA DIZAINE"
   ]
  },
  {
   "cell_type": "markdown",
   "metadata": {},
   "source": [
    "## Mapping Variable catégorielles"
   ]
  },
  {
   "cell_type": "markdown",
   "metadata": {},
   "source": [
    "Chaque fonction permet de gérer une variable catégorielle. On mets en entrée la valeur que l'on veut pour chaque catégorie possible, \n",
    "en retour, la database est modifiée avec les catégorie que l'on veut.\n",
    "\n",
    "Exemple : \n",
    "\n",
    "change_education(data, \"low\", \"low\", \"middle\", \"high\", \"high\") va remplacer dans la dataBase Lessthan high school par low, high school par low, chachelor par moiddle, et master et phd par high"
   ]
  },
  {
   "cell_type": "markdown",
   "metadata": {},
   "source": [
    "### functions"
   ]
  },
  {
   "cell_type": "code",
   "execution_count": 300,
   "metadata": {},
   "outputs": [],
   "source": [
    "def change_education(data, less, high, bach, master, phd):\n",
    "\n",
    "    mapping_education = {\n",
    "        'Less than High School':less,\n",
    "        'High School':high,\n",
    "        'Bachelor':bach,\n",
    "        'Masters':master,\n",
    "        'PhD/md':phd,\n",
    "    }\n",
    "    changed_data = data.copy()\n",
    "    changed_data[\"education\"] = data.education.map(mapping_education)\n",
    "    return changed_data\n",
    "\n",
    "\n",
    "def change_gender(data, male, female):\n",
    "\n",
    "    mapping_gender = {\n",
    "        'male': male,\n",
    "        'female': female\n",
    "    }\n",
    "\n",
    "    \n",
    "    changed_data = data.copy()\n",
    "    changed_data[\"gender\"] = data.gender.map(mapping_gender)\n",
    "    return changed_data\n",
    "\n",
    "\n",
    "def change_employment(data, employed, retired, student, unemployed):\n",
    "    mapping_employment = {\n",
    "        'Employed' : employed,\n",
    "        'Retired' : retired,\n",
    "        'Student' : student,\n",
    "        'Unemployed' : unemployed\n",
    "    }\n",
    "\n",
    "    changed_data = data.copy()\n",
    "    changed_data[\"employment\"] = data.employment.map(mapping_employment)\n",
    "    return changed_data\n",
    "\n",
    "\n",
    "def change_children(data, zero, un, deux, trois, quatre , cinq, six, sept, huit):\n",
    "    mapping_children = {\n",
    "        0 : zero,\n",
    "        1 : un,\n",
    "        2 : deux,\n",
    "        3 : trois,\n",
    "        4 : quatre,\n",
    "        5 : cinq,\n",
    "        6 : six,\n",
    "        7 : sept,\n",
    "        8 : huit\n",
    "    }\n",
    "\n",
    "    changed_data = data.copy()\n",
    "    changed_data[\"children\"] = data.children.map(mapping_children)\n",
    "    return changed_data\n",
    "\n",
    "\n",
    "\n",
    "def change_marital_status(data, divorced, married, single, widowed):\n",
    "    mapping_marital_status = {\n",
    "        \"divorced\" : divorced,\n",
    "        \"married\" : married,\n",
    "        \"single\" : single,\n",
    "        \"widowed\" : widowed,\n",
    "\n",
    "    }\n",
    "\n",
    "    changed_data = data.copy()\n",
    "    changed_data[\"marital_status\"] = data.marital_status.map(mapping_marital_status)\n",
    "    return changed_data\n",
    "\n",
    "\n",
    "def change_ancestry(data, Africa, Asia, Europe, North_America, Oceania, South_America):\n",
    "    mapping_ancestry = {\n",
    "        \"Africa\" : Africa,\n",
    "        \"Asia\" : Asia,\n",
    "        \"Europe\" : Europe,\n",
    "        \"North America\" : North_America,\n",
    "        \"Oceania\" : Oceania,\n",
    "        \"South America\" : South_America\n",
    "\n",
    "    }\n",
    "\n",
    "    changed_data = data.copy()\n",
    "    changed_data[\"ancestry\"] = data.ancestry.map(mapping_ancestry)\n",
    "    return changed_data\n",
    "\n",
    "\n",
    "def change_number_vehicles(data, zero, un, deux, trois):\n",
    "    mapping_nmbr_vehicule = {\n",
    "        0 : zero,\n",
    "        1 : un,\n",
    "        2 : deux,\n",
    "        3 : trois,\n",
    "\n",
    "    }\n",
    "\n",
    "    changed_data = data.copy()\n",
    "    changed_data[\"number_vehicles\"] = data.number_vehicles.map(mapping_nmbr_vehicule)\n",
    "    return changed_data\n",
    "\n",
    "\n",
    "def change_accommodation(data, Own_flat, Own_house, Rent_flat, Rent_house, Rent_room):\n",
    "    mapping_accommodation = {\n",
    "        \"Own flat\" : Own_flat,\n",
    "        \"Own house\" : Own_house,\n",
    "        \"Rent flat\" : Rent_flat,\n",
    "        \"Rent house\" : Rent_house,\n",
    "        \"Rent room\" : Rent_room,\n",
    "        \n",
    "    }\n",
    "\n",
    "    changed_data = data.copy()\n",
    "    changed_data[\"accommodation\"] = data.accommodation.map(mapping_accommodation)\n",
    "    return changed_data\n",
    "\n",
    "# for the sake of the first use case we gather all specific diseases under more general health department \n",
    "\n",
    "def change_disease(data, gastritis, heart_disease, hypertension, diabetes, skin_cancer, prostate_cancer, breast_cancer, schizophrenia, Alzheimer, multiple_sclerosis, endometriosis, kidney_disease, HIV_AIDS):\n",
    "    mapping_disease = {\n",
    "        'gastritis': gastritis ,\n",
    "        'heart disease': heart_disease,\n",
    "        \"hypertension\": hypertension,\n",
    "        \"diabetes\": diabetes,\n",
    "        \"skin cancer\": skin_cancer,\n",
    "        \"prostate cancer\":  prostate_cancer,\n",
    "        \"breast cancer\": breast_cancer, \n",
    "        \"schizophrenia\": schizophrenia,\n",
    "        \"Alzheimer's disease\": Alzheimer, \n",
    "        \"multiple sclerosis\": multiple_sclerosis,\n",
    "        \"endometriosis\": endometriosis, \n",
    "        \"kidney disease\": kidney_disease,\n",
    "        \"HIV/AIDS\": HIV_AIDS \n",
    "    }\n",
    "\n",
    "    changed_data = data.copy()\n",
    "    changed_data['disease'] = data.disease.map(mapping_disease)\n",
    "    return changed_data\n",
    "\n",
    "\n",
    "def change_date_of_birth(data,zero, trente, quarante, cinquante, soixante , septante, quatre_vinght, nonante) :\n",
    "\n",
    "    mapping_dob = {\n",
    "        \"00\" : zero,\n",
    "        \"30\" : trente,\n",
    "        \"40\" : quarante,\n",
    "        \"50\" : cinquante,\n",
    "        \"60\" : soixante,\n",
    "        \"70\" : septante,\n",
    "        \"80\" : quatre_vinght,\n",
    "        \"90\" : nonante\n",
    "        \n",
    "    }\n",
    "\n",
    "    changed_data = data.copy()\n",
    "    changed_data[\"dob\"] = data.dob.map(mapping_dob)\n",
    "    return changed_data\n"
   ]
  },
  {
   "cell_type": "markdown",
   "metadata": {},
   "source": [
    "### tests"
   ]
  },
  {
   "cell_type": "code",
   "execution_count": 301,
   "metadata": {},
   "outputs": [],
   "source": [
    "# 'low' under highschool, 'high' elsewhere \n",
    "X1 = change_education(data, less= '0', high='0', bach='1', master='1', phd='1')\n",
    "\n",
    "# '0' male, '1' female \n",
    "X2 = change_gender(X1,male = 0, female = 1)\n",
    "\n",
    "# active = {employed, student} unactive = {retired, unemployed}\n",
    "X3 = change_employment(X2, employed= '1', retired='0', student='1', unemployed='0')\n",
    "\n",
    "# QUE FAIRE AVEC LES CHILDREN ?\n",
    "X4 = change_children(X3, \"none\", \"one\",'more than one','more than one','more than one','more than one','more than one','more than one','more than one')\n",
    "\n",
    "# married = married, unmarried = others\n",
    "X5 = change_marital_status(X4, divorced='0', married='1', single='0', widowed='1')\n",
    "\n",
    "# native : north america, foreigners : others BUT to much 'other' compare to native so might affect negatively l-diversity. Instead, we merge north/south america \n",
    "X6 = change_ancestry(X5, Africa='Africa', Asia='Asia', Europe='Europe', North_America='America', Oceania='Oceania', South_America='America')\n",
    "\n",
    "# 1 if got vehicule, 0 else \n",
    "X7 = change_number_vehicles(X6, zero='none', un='one', deux='more than one', trois='more than one')\n",
    "\n",
    "# owner = owner, renter = renter regardless of the type of the accomodaations (2/3 owner, maybe reset these proportion ? )\n",
    "X8 = change_accommodation(X7, Own_flat='1', Own_house='1', Rent_flat= '0', Rent_house='0', Rent_room='0')\n",
    "\n",
    "# gathered under medical departments\n",
    "X9 =change_disease(X8, gastritis='gastro-enterolgy', heart_disease='cardiovascular', hypertension='cardiovascular', diabetes='endocrynology', \n",
    "    skin_cancer='oncology', prostate_cancer='oncology', breast_cancer='oncology', \n",
    "    schizophrenia='psychiatry', Alzheimer='neurology', multiple_sclerosis='neurology', endometriosis='gynecology', kidney_disease='nephrology', HIV_AIDS='interal mdeicine')\n",
    "\n",
    "# "
   ]
  },
  {
   "cell_type": "markdown",
   "metadata": {},
   "source": [
    "## Gestion ZIPCODE"
   ]
  },
  {
   "cell_type": "markdown",
   "metadata": {},
   "source": [
    "import d'un base de données trouvée sur le net : http://structnet.com/instructions/zip_min_max_by_state.html"
   ]
  },
  {
   "cell_type": "markdown",
   "metadata": {},
   "source": [
    "### HOSPITAL CASE"
   ]
  },
  {
   "cell_type": "code",
   "execution_count": 302,
   "metadata": {},
   "outputs": [],
   "source": [
    "dict_states = {}\n",
    "\n",
    "for (i,state) in enumerate(states['State Name']):\n",
    "    dict_states[state] = [states['Zip Min'].iloc[i,], states['Zip Max'].iloc[i,]]     "
   ]
  },
  {
   "cell_type": "code",
   "execution_count": 303,
   "metadata": {},
   "outputs": [],
   "source": [
    "def change_zipcode_state(df, dic_state):\n",
    "    dict_zip_to_state = {}\n",
    "    new_df = df.copy()\n",
    "\n",
    "    for i,zip in enumerate(df['zipcode']):\n",
    "        found = False\n",
    "        for state, r in list(dict_states.items()):\n",
    "            if zip in range(int(r[0]), int(r[1])):\n",
    "                dict_zip_to_state[zip] = state\n",
    "                found = True\n",
    "        if not found:\n",
    "            dict_zip_to_state[zip] = 'unknown state'\n",
    "\n",
    "    new_df['zipcode'] = df.zipcode.map(dict_zip_to_state)\n",
    "    return new_df"
   ]
  },
  {
   "cell_type": "markdown",
   "metadata": {},
   "source": [
    "On créé le dictionnaire qui pour chaque clé : 'nom_etat', fait correspondre la valuer [zip_min, zip_max]"
   ]
  },
  {
   "cell_type": "markdown",
   "metadata": {},
   "source": [
    "### Transform ZipCode to Density"
   ]
  },
  {
   "cell_type": "code",
   "execution_count": 304,
   "metadata": {},
   "outputs": [],
   "source": [
    "def data_where_ZC_is_density(data,density_state_data,binary_stat):\n",
    "    \"\"\"\n",
    "    Args: \n",
    "    - data: dataset at stake\n",
    "    - density_state_data: BDD with densities\n",
    "    - binary_stat: STRING. \n",
    "        * \"mean\"\n",
    "        * \"median\"\n",
    "    Returns: new dataset with changed \n",
    "    \"\"\"\n",
    "\n",
    "    transformed_density = 0 # intialisation\n",
    "\n",
    "    if binary_stat== \"mean\":\n",
    "        transformed_density = density_state_data['Density'].mean()\n",
    "\n",
    "    elif binary_stat == \"median\":\n",
    "        transformed_density = density_state_data['Density'].median()\n",
    "    else:\n",
    "        raise ValueError(\"wrong 'binary_stat' argument. Need to be a string format\")\n",
    "    \n",
    "\n",
    "    dict_state_density = {}\n",
    "\n",
    "    for i,state in enumerate(density_state_data['State']):\n",
    "        if density_state_data['Density'].iloc[i] >= transformed_density:\n",
    "            dict_state_density[state] = 'High'\n",
    "        else:\n",
    "            dict_state_density[state] = 'Low'\n",
    "    \n",
    "    new_data = data.copy()\n",
    "\n",
    "    new_data['zipcode'] = data.zipcode.map(dict_state_density)\n",
    "\n",
    "    return new_data"
   ]
  },
  {
   "cell_type": "markdown",
   "metadata": {},
   "source": [
    "# Metrics"
   ]
  },
  {
   "cell_type": "markdown",
   "metadata": {},
   "source": [
    "## k-Anonymity"
   ]
  },
  {
   "cell_type": "code",
   "execution_count": 305,
   "metadata": {},
   "outputs": [],
   "source": [
    "def check_k_anonymity(data, k, list_categorical_variable) : #k=2 --> 2 individus ne sont pas distingables via les quasi-identifiers\n",
    "    \"\"\"\n",
    "    return: vector of boolean of length \"number of groups\", each value equal True if the group is composed of k individuals or more.\n",
    "    \"\"\"\n",
    "    new_data = data.copy()\n",
    "\n",
    "    group_by  = new_data[list_categorical_variable].groupby(list_categorical_variable)  \n",
    "    rep = group_by[list_categorical_variable[0]].count() >= k\n",
    "    #n_k_personnes = len(rep)-sum(rep) # if k =2 142 faux --> 142 personnes définies de façon unique\n",
    "                                      # nombre de groupes dans lesquels il y a k personnes ou moins \n",
    "\n",
    "    return rep "
   ]
  },
  {
   "cell_type": "code",
   "execution_count": 306,
   "metadata": {},
   "outputs": [],
   "source": [
    "def check_k_anonymity(data, k, list_variable) :\n",
    "    group_by  = data[list_variable].groupby(list_variable)\n",
    "    is_k_anonym = group_by[list_variable[0]].count() >= k\n",
    "\n",
    "    return is_k_anonym "
   ]
  },
  {
   "cell_type": "markdown",
   "metadata": {},
   "source": [
    "## L-Diversity"
   ]
  },
  {
   "cell_type": "code",
   "execution_count": 307,
   "metadata": {},
   "outputs": [],
   "source": [
    "def check_L_diversity(data, k, list_categorical_variable, sensitive):\n",
    "    \"\"\"\n",
    "    return : boolean vector of size number of groups, True if there is more than 1 disease represented in the group.\n",
    "    \"\"\"\n",
    "    group_by = data.groupby(list_categorical_variable)[sensitive]\n",
    "    L_diverse = group_by.nunique()>=k\n",
    "\n",
    "    return L_diverse"
   ]
  },
  {
   "cell_type": "markdown",
   "metadata": {},
   "source": [
    "## Entropy"
   ]
  },
  {
   "cell_type": "code",
   "execution_count": 308,
   "metadata": {},
   "outputs": [],
   "source": [
    "def entropy(ds):\n",
    "    ds = pd.DataFrame(ds)\n",
    "    colNames = list(ds.columns)[1:-1] # remove index and disease\n",
    "    counting_df = ds.groupby(colNames).size().reset_index(name='obs')\n",
    "    n_class = list(counting_df['obs'])\n",
    "    N = len(data)\n",
    "\n",
    "    entropy = 0\n",
    "\n",
    "    for n in n_class:\n",
    "        entropy += -((int(n)/N) * math.log(int(n)/N))\n",
    "\n",
    "    return entropy"
   ]
  },
  {
   "cell_type": "code",
   "execution_count": 309,
   "metadata": {},
   "outputs": [],
   "source": [
    "from matplotlib import pyplot as plt\n",
    "\n",
    "def plot_entropies(DB_list):\n",
    "    entropies_list = [entropy(DB) for DB in DB_list]\n",
    "    print(entropies_list)\n",
    "    plt.plot(range(len(DB_list)), entropies_list)\n",
    "    plt.title(\"Entropy variations\")\n",
    "    plt.ylabel(\"Entropy\")\n",
    "    plt.xlabel(\"Datasets index\")\n",
    "    plt.ylim(0,entropy(DB_list[0])+0.2)\n",
    "    plt.show()"
   ]
  },
  {
   "cell_type": "markdown",
   "metadata": {},
   "source": [
    "# Actual modifications"
   ]
  },
  {
   "cell_type": "markdown",
   "metadata": {},
   "source": [
    "##  Sociology "
   ]
  },
  {
   "cell_type": "code",
   "execution_count": 310,
   "metadata": {},
   "outputs": [],
   "source": [
    "# 'low' under highschool, 'high' elsewhere \n",
    "zip_changed = change_zipcode_state(data_socio,dict_states)\n",
    "density = data_where_ZC_is_density(zip_changed, density_state, \"mean\")\n",
    "edu = change_education(density, less= '0', high='0', bach='1', master='1', phd='1')\n",
    "gen = change_gender(edu,male = 0, female = 1)\n",
    "employ = change_employment(gen, employed= '1', retired='0', student='1', unemployed='1')\n",
    "child = change_children(employ, \"none\", \"more than one\",'more than one','more than one','more than one','more than one','more than one','more than one','more than one')\n",
    "marital = change_marital_status(child, divorced='0', married='1', single='0', widowed='0')\n",
    "ancestry = change_ancestry(marital, Africa='Autre', Asia='Autre', Europe='Occident', North_America='Occident', Oceania='Occident', South_America='Autre')\n",
    "nmbrVec = change_number_vehicles(ancestry, zero='none', un='one', deux='one', trois='one')\n",
    "accomo = change_accommodation(nmbrVec, Own_flat='1', Own_house='1', Rent_flat= '0', Rent_house='0', Rent_room='0')\n",
    "year = change_date_of_birth(accomo, zero=0, trente=2, quarante=2, cinquante=2, soixante=2, septante=1, quatre_vinght=1, nonante=0)\n",
    "\n",
    "# zero=0, trente=2, quarante=2, cinquante=2, soixante=2, septante=1, quatre_vinght=1, nonante=0)\n",
    "# zero=8, trente=1, quarante=2, cinquante=3, soixante=4, septante=5, quatre_vinght=6, nonante=7)\n",
    "\n",
    "for i in range(len(year[\"dob\"])):\n",
    "\n",
    "    if(year.at[i,\"commute_time\"]>=0.1) :\n",
    "        year.at[i,\"commute_time\"] = \"1\"\n",
    "    elif(year.at[i,\"commute_time\"]<0.1) :\n",
    "        year.at[i,\"commute_time\"] = \"0\"\n",
    "\n",
    "final_socio = year\n"
   ]
  },
  {
   "cell_type": "code",
   "execution_count": 311,
   "metadata": {},
   "outputs": [
    {
     "name": "stdout",
     "output_type": "stream",
     "text": [
      "[7.600902459541904, 7.600209312361344, 6.585179776887402, 6.565510031759848, 6.565510031759844, 6.562737443037605, 6.539248612900282, 6.5206118130268775, 6.404810982272541, 6.308689342058337, 6.1176822639895585, 5.330332552495124]\n"
     ]
    },
    {
     "data": {
      "image/png": "[encoded data removed]",
      "text/plain": [
       "<Figure size 432x288 with 1 Axes>"
      ]
     },
     "metadata": {
      "needs_background": "light"
     },
     "output_type": "display_data"
    }
   ],
   "source": [
    "DB_list_socio = [data,zip_changed,density, edu, gen, employ, child, marital, ancestry, nmbrVec, accomo, year]\n",
    "\n",
    "plot_entropies(DB_list_socio)"
   ]
  },
  {
   "cell_type": "markdown",
   "metadata": {},
   "source": [
    "# Dropping of observations"
   ]
  },
  {
   "cell_type": "code",
   "execution_count": 312,
   "metadata": {},
   "outputs": [],
   "source": [
    "my_list = [\"gender\", \"dob\", \"zipcode\",\"education\", \"employment\", \n",
    "                                    \"children\", \"marital_status\",\"number_vehicles\",\"ancestry\", \"commute_time\",\"accommodation\"]\n",
    "\n",
    "sensitive_column = \"disease\"\n",
    "group_by  = final_socio[my_list].groupby(my_list)\n",
    "\n",
    "#is_k_anonym = group_by[my_list].count()\n",
    "\n",
    "\n",
    "group_by[my_list[0]].count()\n",
    "\n",
    "#is_k_anonym.filter(lambda g : g.count()<=1).index\n",
    "\n",
    "gbqi = final_socio[my_list+[sensitive_column]].groupby(my_list)\n",
    "indexes_to_drop = gbqi.filter(lambda x:x[sensitive_column].nunique()==1).index\n"
   ]
  },
  {
   "cell_type": "markdown",
   "metadata": {},
   "source": [
    "BASE ## final_socio  === 5.771538191183372 \n",
    "\n",
    "\n",
    "\n",
    "On reprend ; Pour l'instant, on est le best avec \"gender\", \"dob\", \"zipcode\", \"education\", \"employment\", \"children\".\n",
    "\n",
    "On a 3 catégories d'age, education avec less, low et bachelier = 0 et le reste 1, et 3 catégories d'enfant. C'est le meilleur avec 14 individus solo, et une entropie de 5.666971147264563.\n",
    "\n",
    "Marital statut fou la merde et fait passer à 41 le nombre d'individus solos. Important de noté que l'entropie est meilleure en considérant widow comme 0. ( Pourquoi pas le supprimer ???) Mais en revanche, refaire passer le nombre d'enfant à 2 catégories, refait passer l'entropie à 5.488307171965709, mais on ne perd plus que 21 individus.\n",
    "\n",
    "On monte à 55 individus avec hasVehicule, Mais 28 sans marital status, ou 25 sans children\n",
    "Commute time : on monte à 79 avec 0,1h, mais 95 avec 0,3. Avec une entropie de 5,54\n",
    "\n",
    "\n",
    "293\n",
    "\n",
    "\n"
   ]
  },
  {
   "cell_type": "markdown",
   "metadata": {},
   "source": [
    "# Hospital "
   ]
  },
  {
   "cell_type": "code",
   "execution_count": 318,
   "metadata": {},
   "outputs": [
    {
     "name": "stdout",
     "output_type": "stream",
     "text": [
      "7.597436723639105\n"
     ]
    }
   ],
   "source": [
    "# 'low' under highschool, 'high' elsewhere \n",
    "zip_changed = change_zipcode_state(data_hospi,dict_states)\n",
    "child = change_children(zip_changed, \"none\", \"more than one\",'more than one','more than one','more than one','more than one','more than one','more than one','more than one')\n",
    "gen = change_gender(child,male = 0, female = 1)\n",
    "nmbrVec = change_number_vehicles(gen, zero='none', un='one', deux='one', trois='one')\n",
    "employ = change_employment(nmbrVec, employed= '1', retired='0', student='1', unemployed='0')\n",
    "edu = change_education(employ, less= '0', high='0', bach='1', master='1', phd='1')\n",
    "disease = change_disease(edu, gastritis='gastro-enterolgy', heart_disease='cardiovascular', hypertension='cardiovascular', diabetes='endocrynology', \n",
    "    skin_cancer='oncology', prostate_cancer='oncology', breast_cancer='oncology', \n",
    "    schizophrenia='psychiatry', Alzheimer='neurology', multiple_sclerosis='neurology', endometriosis='gynecology', kidney_disease='nephrology', HIV_AIDS='interal mdeicine')\n",
    "\n",
    "year = change_date_of_birth(disease, zero=1, trente=0, quarante=0, cinquante=0, soixante=0, septante=1, quatre_vinght=1, nonante=1)\n",
    "\n",
    "# zero=0, trente=2, quarante=2, cinquante=2, soixante=2, septante=1, quatre_vinght=1, nonante=0)\n",
    "# zero=8, trente=1, quarante=2, cinquante=3, soixante=4, septante=5, quatre_vinght=6, nonante=7)\n",
    "\n",
    "final_hospi = year\n"
   ]
  },
  {
   "cell_type": "code",
   "execution_count": 314,
   "metadata": {},
   "outputs": [
    {
     "name": "stdout",
     "output_type": "stream",
     "text": [
      "[7.600902459541904, 7.600209312361344, 7.599516165180785, 7.599516165180784, 7.597436723639105, 7.596743576458546, 7.592584693375187, 7.592584693375187, 7.576642308222316]\n"
     ]
    },
    {
     "data": {
      "image/png": "[encoded data removed]",
      "text/plain": [
       "<Figure size 432x288 with 1 Axes>"
      ]
     },
     "metadata": {
      "needs_background": "light"
     },
     "output_type": "display_data"
    }
   ],
   "source": [
    "DB_list_hospi= [data,zip_changed,child, gen, nmbrVec, employ, edu, disease, year]\n",
    "\n",
    "plot_entropies(DB_list_hospi)"
   ]
  },
  {
   "cell_type": "code",
   "execution_count": 315,
   "metadata": {},
   "outputs": [
    {
     "name": "stdout",
     "output_type": "stream",
     "text": [
      "dob  zipcode  number_vehicles  children       employment\n",
      "0    High     none             more than one  1              True\n",
      "                               none           1              True\n",
      "              one              more than one  1              True\n",
      "                               none           1              True\n",
      "     Low      none             more than one  1              True\n",
      "                               none           1              True\n",
      "              one              more than one  1              True\n",
      "                               none           1              True\n",
      "1    High     none             more than one  1              True\n",
      "                               none           1              True\n",
      "              one              more than one  1              True\n",
      "                               none           1              True\n",
      "     Low      none             more than one  1              True\n",
      "                               none           1              True\n",
      "              one              more than one  1              True\n",
      "                               none           1              True\n",
      "2    High     none             more than one  0              True\n",
      "                                              1              True\n",
      "                               none           0              True\n",
      "                                              1             False\n",
      "              one              more than one  0              True\n",
      "                                              1              True\n",
      "                               none           0              True\n",
      "                                              1              True\n",
      "     Low      none             more than one  0              True\n",
      "                                              1              True\n",
      "                               none           0              True\n",
      "                                              1              True\n",
      "              one              more than one  0              True\n",
      "                                              1              True\n",
      "                               none           0              True\n",
      "                                              1              True\n",
      "Name: dob, dtype: bool\n",
      "1\n"
     ]
    }
   ],
   "source": [
    "#'education', 'employment'\n",
    "rep = check_k_anonymity(final_socio, 2, [\"dob\", \"zipcode\",\"number_vehicles\", \"children\", \"employment\" ])\n",
    "\n",
    "print(rep)\n",
    "print(len(rep)-sum(rep))"
   ]
  },
  {
   "cell_type": "markdown",
   "metadata": {},
   "source": [
    "On a une entropy de 7.576642308222318\n",
    "\n",
    "En ajoutant children, on part en couille avec 2 personnes reconnaissables"
   ]
  },
  {
   "cell_type": "code",
   "execution_count": 316,
   "metadata": {},
   "outputs": [
    {
     "data": {
      "text/html": [
       "<div>\n",
       "<style scoped>\n",
       "    .dataframe tbody tr th:only-of-type {\n",
       "        vertical-align: middle;\n",
       "    }\n",
       "\n",
       "    .dataframe tbody tr th {\n",
       "        vertical-align: top;\n",
       "    }\n",
       "\n",
       "    .dataframe thead th {\n",
       "        text-align: right;\n",
       "    }\n",
       "</style>\n",
       "<table border=\"1\" class=\"dataframe\">\n",
       "  <thead>\n",
       "    <tr style=\"text-align: right;\">\n",
       "      <th></th>\n",
       "      <th>id</th>\n",
       "      <th>gender</th>\n",
       "      <th>dob</th>\n",
       "      <th>zipcode</th>\n",
       "      <th>education</th>\n",
       "      <th>employment</th>\n",
       "      <th>children</th>\n",
       "      <th>marital_status</th>\n",
       "      <th>ancestry</th>\n",
       "      <th>number_vehicles</th>\n",
       "      <th>commute_time</th>\n",
       "      <th>accommodation</th>\n",
       "      <th>disease</th>\n",
       "    </tr>\n",
       "  </thead>\n",
       "  <tbody>\n",
       "    <tr>\n",
       "      <th>0</th>\n",
       "      <td>e8799603521c0b2c53717c48fdb0138b0d388b2c1a85ab...</td>\n",
       "      <td>1</td>\n",
       "      <td>0</td>\n",
       "      <td>unknown state</td>\n",
       "      <td>0</td>\n",
       "      <td>0</td>\n",
       "      <td>more than one</td>\n",
       "      <td>married</td>\n",
       "      <td>Africa</td>\n",
       "      <td>one</td>\n",
       "      <td>0.0</td>\n",
       "      <td>Own house</td>\n",
       "      <td>neurology</td>\n",
       "    </tr>\n",
       "    <tr>\n",
       "      <th>1</th>\n",
       "      <td>fb0becfbbca04c5205036b2ceaffb1a2bab789ca0248a0...</td>\n",
       "      <td>1</td>\n",
       "      <td>0</td>\n",
       "      <td>Texas</td>\n",
       "      <td>1</td>\n",
       "      <td>0</td>\n",
       "      <td>more than one</td>\n",
       "      <td>married</td>\n",
       "      <td>Africa</td>\n",
       "      <td>one</td>\n",
       "      <td>0.0</td>\n",
       "      <td>Rent flat</td>\n",
       "      <td>neurology</td>\n",
       "    </tr>\n",
       "    <tr>\n",
       "      <th>2</th>\n",
       "      <td>7af7aa616d336fad0a6a8d44ba79b387be192048b1dc0e...</td>\n",
       "      <td>1</td>\n",
       "      <td>1</td>\n",
       "      <td>Iowa</td>\n",
       "      <td>1</td>\n",
       "      <td>1</td>\n",
       "      <td>more than one</td>\n",
       "      <td>married</td>\n",
       "      <td>Asia</td>\n",
       "      <td>none</td>\n",
       "      <td>0.1</td>\n",
       "      <td>Rent flat</td>\n",
       "      <td>cardiovascular</td>\n",
       "    </tr>\n",
       "    <tr>\n",
       "      <th>3</th>\n",
       "      <td>522f6731e80a3aa6b5f65c1d2d82366cae678ac862c86e...</td>\n",
       "      <td>1</td>\n",
       "      <td>0</td>\n",
       "      <td>Wisconsin</td>\n",
       "      <td>1</td>\n",
       "      <td>0</td>\n",
       "      <td>more than one</td>\n",
       "      <td>married</td>\n",
       "      <td>Africa</td>\n",
       "      <td>none</td>\n",
       "      <td>0.0</td>\n",
       "      <td>Rent room</td>\n",
       "      <td>gynecology</td>\n",
       "    </tr>\n",
       "    <tr>\n",
       "      <th>4</th>\n",
       "      <td>fea388953b1f5bf791c207cddfdb2ba179a02e7507f541...</td>\n",
       "      <td>1</td>\n",
       "      <td>0</td>\n",
       "      <td>Nebraska</td>\n",
       "      <td>0</td>\n",
       "      <td>0</td>\n",
       "      <td>more than one</td>\n",
       "      <td>married</td>\n",
       "      <td>Europe</td>\n",
       "      <td>none</td>\n",
       "      <td>0.0</td>\n",
       "      <td>Rent flat</td>\n",
       "      <td>gastro-enterolgy</td>\n",
       "    </tr>\n",
       "    <tr>\n",
       "      <th>...</th>\n",
       "      <td>...</td>\n",
       "      <td>...</td>\n",
       "      <td>...</td>\n",
       "      <td>...</td>\n",
       "      <td>...</td>\n",
       "      <td>...</td>\n",
       "      <td>...</td>\n",
       "      <td>...</td>\n",
       "      <td>...</td>\n",
       "      <td>...</td>\n",
       "      <td>...</td>\n",
       "      <td>...</td>\n",
       "      <td>...</td>\n",
       "    </tr>\n",
       "    <tr>\n",
       "      <th>1995</th>\n",
       "      <td>114ba144162b33e4317efa98ccb52705ef422189b42bf7...</td>\n",
       "      <td>0</td>\n",
       "      <td>1</td>\n",
       "      <td>Louisiana</td>\n",
       "      <td>0</td>\n",
       "      <td>1</td>\n",
       "      <td>none</td>\n",
       "      <td>divorced</td>\n",
       "      <td>Europe</td>\n",
       "      <td>none</td>\n",
       "      <td>1.1</td>\n",
       "      <td>Rent house</td>\n",
       "      <td>gastro-enterolgy</td>\n",
       "    </tr>\n",
       "    <tr>\n",
       "      <th>1996</th>\n",
       "      <td>d6826d1b204f29fe5f0ec74fdc27f2bfd35feee4478420...</td>\n",
       "      <td>0</td>\n",
       "      <td>1</td>\n",
       "      <td>Michigan</td>\n",
       "      <td>0</td>\n",
       "      <td>1</td>\n",
       "      <td>none</td>\n",
       "      <td>single</td>\n",
       "      <td>North America</td>\n",
       "      <td>none</td>\n",
       "      <td>0.1</td>\n",
       "      <td>Rent house</td>\n",
       "      <td>gastro-enterolgy</td>\n",
       "    </tr>\n",
       "    <tr>\n",
       "      <th>1997</th>\n",
       "      <td>67ebd049b81975994b9d30a6e10887a90caa1762054ad0...</td>\n",
       "      <td>1</td>\n",
       "      <td>0</td>\n",
       "      <td>California</td>\n",
       "      <td>1</td>\n",
       "      <td>0</td>\n",
       "      <td>more than one</td>\n",
       "      <td>married</td>\n",
       "      <td>Africa</td>\n",
       "      <td>one</td>\n",
       "      <td>0.0</td>\n",
       "      <td>Own house</td>\n",
       "      <td>oncology</td>\n",
       "    </tr>\n",
       "    <tr>\n",
       "      <th>1998</th>\n",
       "      <td>a132bf2adfeadb7102840af3f73e914d469f54cadb2165...</td>\n",
       "      <td>0</td>\n",
       "      <td>1</td>\n",
       "      <td>Kentucky</td>\n",
       "      <td>0</td>\n",
       "      <td>1</td>\n",
       "      <td>more than one</td>\n",
       "      <td>married</td>\n",
       "      <td>Asia</td>\n",
       "      <td>one</td>\n",
       "      <td>0.0</td>\n",
       "      <td>Own flat</td>\n",
       "      <td>endocrynology</td>\n",
       "    </tr>\n",
       "    <tr>\n",
       "      <th>1999</th>\n",
       "      <td>b2c08e54291d5af12e8bc39a3251e3ab94e84f7f0a785c...</td>\n",
       "      <td>1</td>\n",
       "      <td>1</td>\n",
       "      <td>North Carolina</td>\n",
       "      <td>0</td>\n",
       "      <td>1</td>\n",
       "      <td>more than one</td>\n",
       "      <td>married</td>\n",
       "      <td>Africa</td>\n",
       "      <td>none</td>\n",
       "      <td>0.1</td>\n",
       "      <td>Own flat</td>\n",
       "      <td>cardiovascular</td>\n",
       "    </tr>\n",
       "  </tbody>\n",
       "</table>\n",
       "<p>2000 rows × 13 columns</p>\n",
       "</div>"
      ],
      "text/plain": [
       "                                                     id  gender  dob  \\\n",
       "0     e8799603521c0b2c53717c48fdb0138b0d388b2c1a85ab...       1    0   \n",
       "1     fb0becfbbca04c5205036b2ceaffb1a2bab789ca0248a0...       1    0   \n",
       "2     7af7aa616d336fad0a6a8d44ba79b387be192048b1dc0e...       1    1   \n",
       "3     522f6731e80a3aa6b5f65c1d2d82366cae678ac862c86e...       1    0   \n",
       "4     fea388953b1f5bf791c207cddfdb2ba179a02e7507f541...       1    0   \n",
       "...                                                 ...     ...  ...   \n",
       "1995  114ba144162b33e4317efa98ccb52705ef422189b42bf7...       0    1   \n",
       "1996  d6826d1b204f29fe5f0ec74fdc27f2bfd35feee4478420...       0    1   \n",
       "1997  67ebd049b81975994b9d30a6e10887a90caa1762054ad0...       1    0   \n",
       "1998  a132bf2adfeadb7102840af3f73e914d469f54cadb2165...       0    1   \n",
       "1999  b2c08e54291d5af12e8bc39a3251e3ab94e84f7f0a785c...       1    1   \n",
       "\n",
       "             zipcode education employment       children marital_status  \\\n",
       "0      unknown state         0          0  more than one        married   \n",
       "1              Texas         1          0  more than one        married   \n",
       "2               Iowa         1          1  more than one        married   \n",
       "3          Wisconsin         1          0  more than one        married   \n",
       "4           Nebraska         0          0  more than one        married   \n",
       "...              ...       ...        ...            ...            ...   \n",
       "1995       Louisiana         0          1           none       divorced   \n",
       "1996        Michigan         0          1           none         single   \n",
       "1997      California         1          0  more than one        married   \n",
       "1998        Kentucky         0          1  more than one        married   \n",
       "1999  North Carolina         0          1  more than one        married   \n",
       "\n",
       "           ancestry number_vehicles  commute_time accommodation  \\\n",
       "0            Africa             one           0.0     Own house   \n",
       "1            Africa             one           0.0     Rent flat   \n",
       "2              Asia            none           0.1     Rent flat   \n",
       "3            Africa            none           0.0     Rent room   \n",
       "4            Europe            none           0.0     Rent flat   \n",
       "...             ...             ...           ...           ...   \n",
       "1995         Europe            none           1.1    Rent house   \n",
       "1996  North America            none           0.1    Rent house   \n",
       "1997         Africa             one           0.0     Own house   \n",
       "1998           Asia             one           0.0      Own flat   \n",
       "1999         Africa            none           0.1      Own flat   \n",
       "\n",
       "               disease  \n",
       "0            neurology  \n",
       "1            neurology  \n",
       "2       cardiovascular  \n",
       "3           gynecology  \n",
       "4     gastro-enterolgy  \n",
       "...                ...  \n",
       "1995  gastro-enterolgy  \n",
       "1996  gastro-enterolgy  \n",
       "1997          oncology  \n",
       "1998     endocrynology  \n",
       "1999    cardiovascular  \n",
       "\n",
       "[2000 rows x 13 columns]"
      ]
     },
     "execution_count": 316,
     "metadata": {},
     "output_type": "execute_result"
    }
   ],
   "source": [
    "final_hospi"
   ]
  },
  {
   "cell_type": "code",
   "execution_count": 317,
   "metadata": {},
   "outputs": [
    {
     "ename": "NameError",
     "evalue": "name 'data_age' is not defined",
     "output_type": "error",
     "traceback": [
      "\u001b[0;31m---------------------------------------------------------------------------\u001b[0m",
      "\u001b[0;31mNameError\u001b[0m                                 Traceback (most recent call last)",
      "\u001b[0;32m/var/folders/1r/g7fj06h160s6tsy5h25z493w0000gn/T/ipykernel_27769/1017044368.py\u001b[0m in \u001b[0;36m<module>\u001b[0;34m\u001b[0m\n\u001b[0;32m----> 1\u001b[0;31m \u001b[0mprint\u001b[0m\u001b[0;34m(\u001b[0m\u001b[0mdata_age\u001b[0m\u001b[0;34m[\u001b[0m\u001b[0;34m\"dob\"\u001b[0m\u001b[0;34m]\u001b[0m\u001b[0;34m.\u001b[0m\u001b[0mdescribe\u001b[0m\u001b[0;34m(\u001b[0m\u001b[0;34m)\u001b[0m\u001b[0;34m)\u001b[0m\u001b[0;34m\u001b[0m\u001b[0;34m\u001b[0m\u001b[0m\n\u001b[0m",
      "\u001b[0;31mNameError\u001b[0m: name 'data_age' is not defined"
     ]
    }
   ],
   "source": [
    "print(data_age[\"dob\"].describe())"
   ]
  }
 ],
 "metadata": {
  "interpreter": {
   "hash": "3e0c1de059b023329ee3926758fcb07dc8e4ec1949b5c4e9d08b8a25fc553046"
  },
  "kernelspec": {
   "display_name": "Python 3.8.8 64-bit ('base': conda)",
   "language": "python",
   "name": "python3"
  },
  "language_info": {
   "codemirror_mode": {
    "name": "ipython",
    "version": 3
   },
   "file_extension": ".py",
   "mimetype": "text/x-python",
   "name": "python",
   "nbconvert_exporter": "python",
   "pygments_lexer": "ipython3",
   "version": "3.8.12"
  },
  "orig_nbformat": 4
 },
 "nbformat": 4,
 "nbformat_minor": 2
}
