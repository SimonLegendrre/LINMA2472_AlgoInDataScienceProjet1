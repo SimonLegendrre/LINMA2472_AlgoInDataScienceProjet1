{
 "cells": [
  {
   "cell_type": "markdown",
   "metadata": {},
   "source": [
    "# Problematic"
   ]
  },
  {
   "cell_type": "markdown",
   "metadata": {},
   "source": [
    "#### For sociologists, to study the impact of stress and high-pressure environments on one’s health. They are looking for factors in people’s lives that could correlate to certain diseases or conditions. : \n",
    "\n",
    "They don't need to know any information about the identity of individuals. However, gender, dob and localisaiton  is really important information : \n",
    "\n",
    "- The id ( by name could be dropped (BE CARREFUL BECAUSE THIS INFORMATION COULD BE LINKED WITH THE SECOND PART OF THE EXERCICE)) \n",
    "- The gender could be replaced by 0 or 1 ( mais en vrai ca change pas grand chose)\n",
    "- The dob : we don't need the day and the month of birth ==> Ne pourrait-on pas modifier grâce à une gaussienne de moyenne 0 sd 1 les dates de naissance ? On gagne en anonymisation, on ne perd pas grand chose \n",
    "- Zip code, we do not need the entire zipcode, we can keep only the first to digit.\n",
    "\n",
    "==> Etant donnél'étude demandé, le risque n'est pas les identifiant mais les pseusos identifiants.\n",
    "\n",
    "#### For the US department of Health and Human services chairman, to decide where to build new hospitals, and which departments (radiology, neurology, pulmonology, oncology...) to have in these, as the US federal government has just allocated money to build *5 new hospitals across the country* : \n",
    "\n",
    "A priori, je ne vois pas pourquoi on aurait besoin d'information sur les individus, ce qui nous importe est uniquement les maladies, la localicaiton, et pourquoi pas l'age des gens.\n",
    "\n",
    "- Gender ne sert plus à rien\n",
    "- l'année de naissance suffit \n",
    "- les deux premiers digit du zip code sont suffisant (étant donné que l'on va faire que 5 hopitauyx across the country)\n",
    "- L'éducation on s'en branle\n",
    "- Emploie on s'en fou\n",
    "- Nombre d'enfant on s'en fou \n",
    "- Marital status on s'en branle\n",
    "- ancestry on s'en fou \n",
    "- Nombre de véhicule ( est ce que ca peut être intéressant étant donné que c'est des hopitaux? ==> Ambulance tout ca)\n",
    "- communte-time on s'en branle \n",
    "- accommodation on s'en fou \n",
    "- Maladie, pourrait on déjà regrouper les différentes maladies selon le service utilise à soigner les tiches ? On s'en branle de savoir si c'est un cancer du foie ou de la peau, ce qui est intéressant c'est qu'il faut un service d'oncologie\n",
    "\n"
   ]
  },
  {
   "cell_type": "markdown",
   "metadata": {},
   "source": [
    "# Packages and data imports"
   ]
  },
  {
   "cell_type": "markdown",
   "metadata": {},
   "source": [
    "## Import packages"
   ]
  },
  {
   "cell_type": "code",
   "execution_count": 1,
   "metadata": {},
   "outputs": [],
   "source": [
    "#conda install -c conda-forge sklearn-pandas\n",
    "import pandas as pd \n",
    "import os\n",
    "import datetime as dt\n",
    "import numpy as np\n",
    "from sklearn.preprocessing import LabelEncoder\n",
    "from sklearn_pandas import DataFrameMapper\n",
    "from sklearn.cluster import KMeans\n",
    "import hashlib as h\n",
    "from collections import Counter\n",
    "import math\n"
   ]
  },
  {
   "cell_type": "markdown",
   "metadata": {},
   "source": [
    "## Data import"
   ]
  },
  {
   "cell_type": "code",
   "execution_count": 2,
   "metadata": {},
   "outputs": [],
   "source": [
    "data = pd.read_csv(\"../resources/dataset_HW3.csv\")\n",
    "states = pd.read_csv(\"../resources/states_cleaned.csv\")\n",
    "density_state = pd.read_csv('../resources/density_state.csv')"
   ]
  },
  {
   "cell_type": "markdown",
   "metadata": {},
   "source": [
    "# ID anonymisation"
   ]
  },
  {
   "cell_type": "code",
   "execution_count": 3,
   "metadata": {},
   "outputs": [],
   "source": [
    "def ID_anonymised_df(df, secret_key):\n",
    "    new_id_vec = []\n",
    "    for id in df['id']:\n",
    "        id_salted = str(id.replace(' ', '')+secret_key)\n",
    "        new_id_vec.append(h.sha3_256(id_salted.encode()).hexdigest())\n",
    "    \n",
    "    anonimsed_df = df.copy()\n",
    "    anonimsed_df['id'] = new_id_vec\n",
    "\n",
    "    return anonimsed_df\n"
   ]
  },
  {
   "cell_type": "code",
   "execution_count": 4,
   "metadata": {},
   "outputs": [],
   "source": [
    "data_socio = ID_anonymised_df(data, 'arthurgeeraerd11751600')\n",
    "data_hospi = ID_anonymised_df(data, 'simonadrienkinartlegendre')"
   ]
  },
  {
   "cell_type": "markdown",
   "metadata": {},
   "source": [
    "# Transformations "
   ]
  },
  {
   "cell_type": "code",
   "execution_count": 5,
   "metadata": {},
   "outputs": [],
   "source": [
    "data_to_entropy = data_socio"
   ]
  },
  {
   "cell_type": "markdown",
   "metadata": {},
   "source": [
    "### Date of birth"
   ]
  },
  {
   "cell_type": "code",
   "execution_count": 6,
   "metadata": {},
   "outputs": [],
   "source": [
    "\"\"\"# Projet hopitaux : on met les ages par dizaine d'année\n",
    "for i in range(len(data_hospi[\"dob\"])):\n",
    "\n",
    "    # Modify DOB \n",
    "    s = 0 #np.random.normal(0, 2, 1)\n",
    "    data_hospi.at[i,\"dob\"] = str(round(int(data_hospi[\"dob\"][i][-4:]) +s, -1))[-2:]#[0])  # ARRONDI A LA DIZAINE\n",
    "\"\"\"\n",
    "\n",
    "# Projet sociologique : on met les ages avec une erreur suivant une normale. ++> PERMET EN PLUS DE DIFFERENCIER par rapport à l'autre BDD.\n",
    "\n",
    "for i in range(len(data_socio[\"dob\"])):\n",
    "    # Modify DOB \n",
    "    #s = np.random.normal(0, 2, 1)\n",
    "    s=0\n",
    "    data_socio.at[i,\"dob\"] = str(round(int(data_hospi[\"dob\"][i][-4:]) +s, -1))[-2:]#[0])  # ARRONDI A LA DIZAINE\n",
    "    data_hospi.at[i,\"dob\"] = str(round(int(data_hospi[\"dob\"][i][-4:]) +s, -1))[-2:]#[0])  # ARRONDI A LA DIZAINE"
   ]
  },
  {
   "cell_type": "code",
   "execution_count": 7,
   "metadata": {},
   "outputs": [],
   "source": [
    "data_age = data_socio "
   ]
  },
  {
   "cell_type": "markdown",
   "metadata": {},
   "source": [
    "## Mapping Variable catégorielles"
   ]
  },
  {
   "cell_type": "markdown",
   "metadata": {},
   "source": [
    "Chaque fonction permet de gérer une variable catégorielle. On mets en entrée la valeur que l'on veut pour chaque catégorie possible, \n",
    "en retour, la database est modifiée avec les catégorie que l'on veut.\n",
    "\n",
    "Exemple : \n",
    "\n",
    "change_education(data, \"low\", \"low\", \"middle\", \"high\", \"high\") va remplacer dans la dataBase Lessthan high school par low, high school par low, chachelor par moiddle, et master et phd par high"
   ]
  },
  {
   "cell_type": "markdown",
   "metadata": {},
   "source": [
    "### functions"
   ]
  },
  {
   "cell_type": "code",
   "execution_count": 8,
   "metadata": {},
   "outputs": [],
   "source": [
    "def change_education(data, less, high, bach, master, phd):\n",
    "\n",
    "    mapping_education = {\n",
    "        'Less than High School':less,\n",
    "        'High School':high,\n",
    "        'Bachelor':bach,\n",
    "        'Masters':master,\n",
    "        'PhD/md':phd,\n",
    "    }\n",
    "    changed_data = data.copy()\n",
    "    changed_data[\"education\"] = data.education.map(mapping_education)\n",
    "    return changed_data\n",
    "\n",
    "\n",
    "def change_gender(data, male, female):\n",
    "\n",
    "    mapping_gender = {\n",
    "        'male': male,\n",
    "        'female': female\n",
    "    }\n",
    "\n",
    "    \n",
    "    changed_data = data.copy()\n",
    "    changed_data[\"gender\"] = data.gender.map(mapping_gender)\n",
    "    return changed_data\n",
    "\n",
    "\n",
    "def change_employment(data, employed, retired, student, unemployed):\n",
    "    mapping_employment = {\n",
    "        'Employed' : employed,\n",
    "        'Retired' : retired,\n",
    "        'Student' : student,\n",
    "        'Unemployed' : unemployed\n",
    "    }\n",
    "\n",
    "    changed_data = data.copy()\n",
    "    changed_data[\"employment\"] = data.employment.map(mapping_employment)\n",
    "    return changed_data\n",
    "\n",
    "\n",
    "def change_children(data, zero, un, deux, trois, quatre , cinq, six, sept, huit):\n",
    "    mapping_children = {\n",
    "        0 : zero,\n",
    "        1 : un,\n",
    "        2 : deux,\n",
    "        3 : trois,\n",
    "        4 : quatre,\n",
    "        5 : cinq,\n",
    "        6 : six,\n",
    "        7 : sept,\n",
    "        8 : huit\n",
    "    }\n",
    "\n",
    "    changed_data = data.copy()\n",
    "    changed_data[\"children\"] = data.children.map(mapping_children)\n",
    "    return changed_data\n",
    "\n",
    "\n",
    "\n",
    "def change_marital_status(data, divorced, married, single, widowed):\n",
    "    mapping_marital_status = {\n",
    "        \"divorced\" : divorced,\n",
    "        \"married\" : married,\n",
    "        \"single\" : single,\n",
    "        \"widowed\" : widowed,\n",
    "\n",
    "    }\n",
    "\n",
    "    changed_data = data.copy()\n",
    "    changed_data[\"marital_status\"] = data.marital_status.map(mapping_marital_status)\n",
    "    return changed_data\n",
    "\n",
    "\n",
    "def change_ancestry(data, Africa, Asia, Europe, North_America, Oceania, South_America):\n",
    "    mapping_ancestry = {\n",
    "        \"Africa\" : Africa,\n",
    "        \"Asia\" : Asia,\n",
    "        \"Europe\" : Europe,\n",
    "        \"North America\" : North_America,\n",
    "        \"Oceania\" : Oceania,\n",
    "        \"South America\" : South_America\n",
    "\n",
    "    }\n",
    "\n",
    "    changed_data = data.copy()\n",
    "    changed_data[\"ancestry\"] = data.ancestry.map(mapping_ancestry)\n",
    "    return changed_data\n",
    "\n",
    "\n",
    "def change_number_vehicles(data, zero, un, deux, trois):\n",
    "    mapping_nmbr_vehicule = {\n",
    "        0 : zero,\n",
    "        1 : un,\n",
    "        2 : deux,\n",
    "        3 : trois,\n",
    "\n",
    "    }\n",
    "\n",
    "    changed_data = data.copy()\n",
    "    changed_data[\"number_vehicles\"] = data.number_vehicles.map(mapping_nmbr_vehicule)\n",
    "    return changed_data\n",
    "\n",
    "\n",
    "def change_accommodation(data, Own_flat, Own_house, Rent_flat, Rent_house, Rent_room):\n",
    "    mapping_accommodation = {\n",
    "        \"Own flat\" : Own_flat,\n",
    "        \"Own house\" : Own_house,\n",
    "        \"Rent flat\" : Rent_flat,\n",
    "        \"Rent house\" : Rent_house,\n",
    "        \"Rent room\" : Rent_room,\n",
    "        \n",
    "    }\n",
    "\n",
    "    changed_data = data.copy()\n",
    "    changed_data[\"accommodation\"] = data.accommodation.map(mapping_accommodation)\n",
    "    return changed_data\n",
    "\n",
    "# for the sake of the first use case we gather all specific diseases under more general health department \n",
    "\n",
    "def change_disease(data, gastritis, heart_disease, hypertension, diabetes, skin_cancer, prostate_cancer, breast_cancer, schizophrenia, Alzheimer, multiple_sclerosis, endometriosis, kidney_disease, HIV_AIDS):\n",
    "    mapping_disease = {\n",
    "        'gastritis': gastritis ,\n",
    "        'heart disease': heart_disease,\n",
    "        \"hypertension\": hypertension,\n",
    "        \"diabetes\": diabetes,\n",
    "        \"skin cancer\": skin_cancer,\n",
    "        \"prostate cancer\":  prostate_cancer,\n",
    "        \"breast cancer\": breast_cancer, \n",
    "        \"schizophrenia\": schizophrenia,\n",
    "        \"Alzheimer's disease\": Alzheimer, \n",
    "        \"multiple sclerosis\": multiple_sclerosis,\n",
    "        \"endometriosis\": endometriosis, \n",
    "        \"kidney disease\": kidney_disease,\n",
    "        \"HIV/AIDS\": HIV_AIDS \n",
    "    }\n",
    "\n",
    "    changed_data = data.copy()\n",
    "    changed_data['disease'] = data.disease.map(mapping_disease)\n",
    "    return changed_data\n",
    "\n",
    "\n",
    "def change_date_of_birth(data,zero, trente, quarante, cinquante, soixante , septante, quatre_vinght, nonante) :\n",
    "\n",
    "    mapping_dob = {\n",
    "        \"00\" : zero,\n",
    "        \"30\" : trente,\n",
    "        \"40\" : quarante,\n",
    "        \"50\" : cinquante,\n",
    "        \"60\" : soixante,\n",
    "        \"70\" : septante,\n",
    "        \"80\" : quatre_vinght,\n",
    "        \"90\" : nonante\n",
    "        \n",
    "    }\n",
    "\n",
    "    changed_data = data.copy()\n",
    "    changed_data[\"dob\"] = data.dob.map(mapping_dob)\n",
    "    return changed_data\n"
   ]
  },
  {
   "cell_type": "markdown",
   "metadata": {},
   "source": [
    "### tests"
   ]
  },
  {
   "cell_type": "code",
   "execution_count": 9,
   "metadata": {},
   "outputs": [],
   "source": [
    "# 'low' under highschool, 'high' elsewhere \n",
    "X1 = change_education(data, less= '0', high='0', bach='1', master='1', phd='1')\n",
    "\n",
    "# '0' male, '1' female \n",
    "X2 = change_gender(X1,male = 0, female = 1)\n",
    "\n",
    "# active = {employed, student} unactive = {retired, unemployed}\n",
    "X3 = change_employment(X2, employed= '1', retired='0', student='1', unemployed='0')\n",
    "\n",
    "# QUE FAIRE AVEC LES CHILDREN ?\n",
    "X4 = change_children(X3, \"none\", \"one\",'more than one','more than one','more than one','more than one','more than one','more than one','more than one')\n",
    "\n",
    "# married = married, unmarried = others\n",
    "X5 = change_marital_status(X4, divorced='0', married='1', single='0', widowed='1')\n",
    "\n",
    "# native : north america, foreigners : others BUT to much 'other' compare to native so might affect negatively l-diversity. Instead, we merge north/south america \n",
    "X6 = change_ancestry(X5, Africa='Africa', Asia='Asia', Europe='Europe', North_America='America', Oceania='Oceania', South_America='America')\n",
    "\n",
    "# 1 if got vehicule, 0 else \n",
    "X7 = change_number_vehicles(X6, zero='none', un='one', deux='more than one', trois='more than one')\n",
    "\n",
    "# owner = owner, renter = renter regardless of the type of the accomodaations (2/3 owner, maybe reset these proportion ? )\n",
    "X8 = change_accommodation(X7, Own_flat='1', Own_house='1', Rent_flat= '0', Rent_house='0', Rent_room='0')\n",
    "\n",
    "# gathered under medical departments\n",
    "X9 =change_disease(X8, gastritis='gastro-enterolgy', heart_disease='cardiovascular', hypertension='cardiovascular', diabetes='endocrynology', \n",
    "    skin_cancer='oncology', prostate_cancer='oncology', breast_cancer='oncology', \n",
    "    schizophrenia='psychiatry', Alzheimer='neurology', multiple_sclerosis='neurology', endometriosis='gynecology', kidney_disease='nephrology', HIV_AIDS='interal mdeicine')\n",
    "\n",
    "# "
   ]
  },
  {
   "cell_type": "markdown",
   "metadata": {},
   "source": [
    "## Gestion ZIPCODE"
   ]
  },
  {
   "cell_type": "markdown",
   "metadata": {},
   "source": [
    "import d'un base de données trouvée sur le net : http://structnet.com/instructions/zip_min_max_by_state.html"
   ]
  },
  {
   "cell_type": "markdown",
   "metadata": {},
   "source": [
    "### HOSPITAL CASE"
   ]
  },
  {
   "cell_type": "code",
   "execution_count": 10,
   "metadata": {},
   "outputs": [],
   "source": [
    "dict_states = {}\n",
    "\n",
    "for (i,state) in enumerate(states['State Name']):\n",
    "    dict_states[state] = [states['Zip Min'].iloc[i,], states['Zip Max'].iloc[i,]]     "
   ]
  },
  {
   "cell_type": "code",
   "execution_count": 11,
   "metadata": {},
   "outputs": [],
   "source": [
    "def change_zipcode_state(df, dic_state):\n",
    "    dict_zip_to_state = {}\n",
    "    new_df = df.copy()\n",
    "\n",
    "    for i,zip in enumerate(df['zipcode']):\n",
    "        found = False\n",
    "        for state, r in list(dict_states.items()):\n",
    "            if zip in range(int(r[0]), int(r[1])):\n",
    "                dict_zip_to_state[zip] = state\n",
    "                found = True\n",
    "        if not found:\n",
    "            dict_zip_to_state[zip] = 'unknown state'\n",
    "\n",
    "    new_df['zipcode'] = df.zipcode.map(dict_zip_to_state)\n",
    "    return new_df"
   ]
  },
  {
   "cell_type": "markdown",
   "metadata": {},
   "source": [
    "On créé le dictionnaire qui pour chaque clé : 'nom_etat', fait correspondre la valuer [zip_min, zip_max]"
   ]
  },
  {
   "cell_type": "code",
   "execution_count": 12,
   "metadata": {},
   "outputs": [],
   "source": [
    "test_new_data_zip = change_zipcode_state(data,dict_states)"
   ]
  },
  {
   "cell_type": "markdown",
   "metadata": {},
   "source": [
    "### Transform ZipCode to Density"
   ]
  },
  {
   "cell_type": "code",
   "execution_count": 13,
   "metadata": {},
   "outputs": [],
   "source": [
    "def data_where_ZC_is_density(data,density_state_data,binary_stat):\n",
    "    \"\"\"\n",
    "    Args: \n",
    "    - data: dataset at stake\n",
    "    - density_state_data: BDD with densities\n",
    "    - binary_stat: STRING. \n",
    "        * \"mean\"\n",
    "        * \"median\"\n",
    "    Returns: new dataset with changed \n",
    "    \"\"\"\n",
    "\n",
    "    transformed_density = 0 # intialisation\n",
    "\n",
    "    if binary_stat== \"mean\":\n",
    "        transformed_density = density_state_data['Density'].mean()\n",
    "\n",
    "    elif binary_stat == \"median\":\n",
    "        transformed_density = density_state_data['Density'].median()\n",
    "    else:\n",
    "        raise ValueError(\"wrong 'binary_stat' argument. Need to be a string format\")\n",
    "    \n",
    "\n",
    "    dict_state_density = {}\n",
    "\n",
    "    for i,state in enumerate(density_state_data['State']):\n",
    "        if density_state_data['Density'].iloc[i] >= transformed_density:\n",
    "            dict_state_density[state] = 'High'\n",
    "        else:\n",
    "            dict_state_density[state] = 'Low'\n",
    "    \n",
    "    new_data = data.copy()\n",
    "\n",
    "    new_data['zipcode'] = data.zipcode.map(dict_state_density)\n",
    "\n",
    "    return new_data"
   ]
  },
  {
   "cell_type": "markdown",
   "metadata": {},
   "source": [
    "# Metrics"
   ]
  },
  {
   "cell_type": "markdown",
   "metadata": {},
   "source": [
    "## k-Anonymity"
   ]
  },
  {
   "cell_type": "code",
   "execution_count": 14,
   "metadata": {},
   "outputs": [],
   "source": [
    "def check_k_anonymity(data, k, list_categorical_variable) : #k=2 --> 2 individus ne sont pas distingables via les quasi-identifiers\n",
    "    \"\"\"\n",
    "    return: vector of boolean of length \"number of groups\", each value equal True if the group is composed of k individuals or more.\n",
    "    \"\"\"\n",
    "    new_data = data.copy()\n",
    "\n",
    "    group_by  = new_data[list_categorical_variable].groupby(list_categorical_variable)  \n",
    "    rep = group_by[list_categorical_variable[0]].count() >= k\n",
    "    #n_k_personnes = len(rep)-sum(rep) # if k =2 142 faux --> 142 personnes définies de façon unique\n",
    "                                      # nombre de groupes dans lesquels il y a k personnes ou moins \n",
    "\n",
    "    return rep \n",
    "\n",
    "\n"
   ]
  },
  {
   "cell_type": "code",
   "execution_count": 15,
   "metadata": {},
   "outputs": [],
   "source": [
    "def check_k_anonymity(data, k, list_variable) :\n",
    "    group_by  = data[list_variable].groupby(list_variable)\n",
    "    is_k_anonym = group_by[list_variable[0]].count() >= k\n",
    "\n",
    "    return is_k_anonym "
   ]
  },
  {
   "cell_type": "markdown",
   "metadata": {},
   "source": [
    "## L-Diversity"
   ]
  },
  {
   "cell_type": "code",
   "execution_count": 16,
   "metadata": {},
   "outputs": [],
   "source": [
    "def check_L_diversity(data, k, list_categorical_variable, sensitive):\n",
    "    \"\"\"\n",
    "    return : boolean vector of size number of groups, True if there is more than 1 disease represented in the group.\n",
    "    \"\"\"\n",
    "    group_by = data.groupby(list_categorical_variable)[sensitive]\n",
    "    L_diverse = group_by.nunique()>=k\n",
    "\n",
    "    return L_diverse"
   ]
  },
  {
   "cell_type": "markdown",
   "metadata": {},
   "source": [
    "## Entropy"
   ]
  },
  {
   "cell_type": "code",
   "execution_count": 17,
   "metadata": {},
   "outputs": [],
   "source": [
    "def entropy(ds):\n",
    "\n",
    "    colNames = list(ds.columns)[1:-1] # remove index and disease\n",
    "    print(\"variables taken into account: \"+ str(colNames))\n",
    "    counting_df = ds.groupby(colNames).size().reset_index(name='obs')\n",
    "    n_class = list(counting_df['obs'])\n",
    "    N = len(data)\n",
    "\n",
    "\n",
    "    entropy = 0\n",
    "\n",
    "    for n in n_class:\n",
    "        entropy += -((int(n)/N) * math.log(int(n)/N))\n",
    "\n",
    "    return entropy\n",
    "\n"
   ]
  },
  {
   "cell_type": "markdown",
   "metadata": {},
   "source": [
    "# Sociology "
   ]
  },
  {
   "cell_type": "code",
   "execution_count": 18,
   "metadata": {},
   "outputs": [],
   "source": [
    "# 'low' under highschool, 'high' elsewhere \n",
    "zip_changed = change_zipcode_state(data_socio,dict_states)\n",
    "\n",
    "density = data_where_ZC_is_density(zip_changed, density_state, \"mean\")\n",
    "\n",
    "edu = change_education(density, less= '0', high='0', bach='1', master='1', phd='1')\n",
    "\n",
    "gen = change_gender(edu,male = 0, female = 1)\n",
    "\n",
    "employ = change_employment(gen, employed= '1', retired='0', student='1', unemployed='1')\n",
    "\n",
    "child = change_children(employ, \"none\", \"more than one\",'more than one','more than one','more than one','more than one','more than one','more than one','more than one')\n",
    "\n",
    "marital = change_marital_status(child, divorced='0', married='1', single='0', widowed='0')\n",
    "\n",
    "ancestry = change_ancestry(marital, Africa='Autre', Asia='Autre', Europe='Occident', North_America='Occident', Oceania='Occident', South_America='Autre')\n",
    "\n",
    "nmbrVec = change_number_vehicles(ancestry, zero='none', un='one', deux='one', trois='one')\n",
    "\n",
    "accomo = change_accommodation(nmbrVec, Own_flat='1', Own_house='1', Rent_flat= '0', Rent_house='0', Rent_room='0')\n",
    "\n",
    "\"\"\"disease = change_disease(accomo, gastritis='gastro-enterolgy', heart_disease='cardiovascular', hypertension='cardiovascular', diabetes='endocrynology', \n",
    "    skin_cancer='oncology', prostate_cancer='oncology', breast_cancer='oncology', \n",
    "    schizophrenia='psychiatry', Alzheimer='neurology', multiple_sclerosis='neurology', endometriosis='gynecology', kidney_disease='nephrology', HIV_AIDS='interal mdeicine')\"\"\"\n",
    "\n",
    "year = change_date_of_birth(accomo, zero=0, trente=2, quarante=2, cinquante=2, soixante=2, septante=1, quatre_vinght=1, nonante=0)\n",
    "\n",
    "# zero=0, trente=2, quarante=2, cinquante=2, soixante=2, septante=1, quatre_vinght=1, nonante=0)\n",
    "# zero=8, trente=1, quarante=2, cinquante=3, soixante=4, septante=5, quatre_vinght=6, nonante=7)\n",
    "\n",
    "\n",
    "\n",
    "for i in range(len(year[\"dob\"])):\n",
    "\n",
    "\n",
    "    if(year.at[i,\"commute_time\"]>=0.1) :\n",
    "        year.at[i,\"commute_time\"] = \"1\"\n",
    "    elif(year.at[i,\"commute_time\"]<0.1) :\n",
    "        year.at[i,\"commute_time\"] = \"0\"\n",
    "\n",
    "final_socio = year\n"
   ]
  },
  {
   "cell_type": "markdown",
   "metadata": {},
   "source": [
    "### Anonymity"
   ]
  },
  {
   "cell_type": "code",
   "execution_count": 19,
   "metadata": {},
   "outputs": [
    {
     "name": "stdout",
     "output_type": "stream",
     "text": [
      "gender  dob  zipcode  education  employment  children       marital_status  number_vehicles  ancestry  commute_time  accommodation\n",
      "0       0    High     0          1           more than one  0               none             Autre     1.0           0                 True\n",
      "                                                                            one              Autre     1.0           1                False\n",
      "                                                                                             Occident  0.0           1                False\n",
      "                                                            1               none             Autre     0.0           0                 True\n",
      "                                                                                                       1.0           0                False\n",
      "                                                                                                                                      ...  \n",
      "1       2    Low      1          1           more than one  1               one              Occident  1.0           0                False\n",
      "                                                                                                                     1                 True\n",
      "                                             none           0               one              Autre     0.0           0                False\n",
      "                                                                                                       1.0           1                 True\n",
      "                                                                                             Occident  1.0           1                 True\n",
      "Name: gender, Length: 609, dtype: bool\n",
      "284\n"
     ]
    }
   ],
   "source": [
    "rep = check_k_anonymity(final_socio, 2, [\"gender\", \"dob\", \"zipcode\",\"education\", \"employment\", \n",
    "                                    \"children\", \"marital_status\",\"number_vehicles\",\"ancestry\", \"commute_time\",\"accommodation\"])\n",
    "\n",
    "print(rep)\n",
    "print(len(rep)-sum(rep))"
   ]
  },
  {
   "cell_type": "markdown",
   "metadata": {},
   "source": [
    "### Find index to drop, then drop observation"
   ]
  },
  {
   "cell_type": "code",
   "execution_count": 20,
   "metadata": {},
   "outputs": [],
   "source": [
    "my_list = [\"gender\", \"dob\", \"zipcode\",\"education\", \"employment\", \n",
    "                                    \"children\", \"marital_status\",\"number_vehicles\",\"ancestry\", \"commute_time\",\"accommodation\"]\n",
    "\n",
    "sensitive = \"disease\"\n",
    "\n",
    "group_by = final_socio[my_list+[sensitive]].groupby(my_list)\n",
    "indexes_to_drop = group_by.filter(lambda x:x[sensitive].count()<=1).index\n"
   ]
  },
  {
   "cell_type": "markdown",
   "metadata": {},
   "source": [
    "#### Delete observation with dataframe"
   ]
  },
  {
   "cell_type": "code",
   "execution_count": 21,
   "metadata": {},
   "outputs": [],
   "source": [
    "socio_2_anonym = final_socio.drop(indexes_to_drop)\n"
   ]
  },
  {
   "cell_type": "markdown",
   "metadata": {},
   "source": [
    "BASE ## final_socio  === 5.771538191183372 \n",
    "\n",
    "\n",
    "\n",
    "On reprend ; Pour l'instant, on est le best avec \"gender\", \"dob\", \"zipcode\", \"education\", \"employment\", \"children\".\n",
    "\n",
    "On a 3 catégories d'age, education avec less, low et bachelier = 0 et le reste 1, et 3 catégories d'enfant. C'est le meilleur avec 14 individus solo, et une entropie de 5.666971147264563.\n",
    "\n",
    "Marital statut fou la merde et fait passer à 41 le nombre d'individus solos. Important de noté que l'entropie est meilleure en considérant widow comme 0. ( Pourquoi pas le supprimer ???) Mais en revanche, refaire passer le nombre d'enfant à 2 catégories, refait passer l'entropie à 5.488307171965709, mais on ne perd plus que 21 individus.\n",
    "\n",
    "On monte à 55 individus avec hasVehicule, Mais 28 sans marital status, ou 25 sans children\n",
    "Commute time : on monte à 79 avec 0,1h, mais 95 avec 0,3. Avec une entropie de 5,54\n",
    "\n",
    "\n",
    "293\n",
    "\n",
    "\n"
   ]
  },
  {
   "cell_type": "markdown",
   "metadata": {},
   "source": [
    "## L-Diversity "
   ]
  },
  {
   "cell_type": "code",
   "execution_count": 22,
   "metadata": {},
   "outputs": [
    {
     "name": "stdout",
     "output_type": "stream",
     "text": [
      "16\n",
      "Int64Index([  98,  117,  172,  177,  182,  209,  258,  300,  302,  342,  398,\n",
      "             609,  709,  891, 1014, 1037, 1126, 1194, 1206, 1238, 1306, 1389,\n",
      "            1410, 1640, 1684, 1715, 1732, 1746, 1749, 1858, 1877, 1999],\n",
      "           dtype='int64')\n"
     ]
    }
   ],
   "source": [
    "div = check_L_diversity(socio_2_anonym,2,my_list,\"disease\")\n",
    "\n",
    "#print(div)\n",
    "print(len(div)-sum(div))\n",
    "\n",
    "group_by = socio_2_anonym[my_list+[sensitive]].groupby(my_list)\n",
    "indexes_to_drop = group_by.filter(lambda x:x[sensitive].nunique()==1).index\n",
    "\n",
    "print(indexes_to_drop)\n"
   ]
  },
  {
   "cell_type": "code",
   "execution_count": 23,
   "metadata": {},
   "outputs": [],
   "source": [
    "perfect_final_socio = socio_2_anonym.drop(indexes_to_drop)"
   ]
  },
  {
   "cell_type": "markdown",
   "metadata": {},
   "source": [
    "# Hospital "
   ]
  },
  {
   "cell_type": "code",
   "execution_count": 24,
   "metadata": {},
   "outputs": [],
   "source": [
    "# 'low' under highschool, 'high' elsewhere \n",
    "zip_changed = change_zipcode_state(data_hospi,dict_states)\n",
    "\n",
    "child = change_children(zip_changed, \"none\", \"more than one\",'more than one','more than one','more than one','more than one','more than one','more than one','more than one')\n",
    "\n",
    "gen = change_gender(child,male = 0, female = 1)\n",
    "\n",
    "nmbrVec = change_number_vehicles(gen, zero='none', un='one', deux='one', trois='one')\n",
    "\n",
    "employ = change_employment(nmbrVec, employed= '1', retired='0', student='1', unemployed='0')\n",
    "\n",
    "edu = change_education(employ, less= '0', high='0', bach='1', master='1', phd='1')\n",
    "\n",
    "disease = change_disease(edu, gastritis='gastro-enterolgy', heart_disease='cardiovascular', hypertension='cardiovascular', diabetes='endocrynology', \n",
    "    skin_cancer='oncology', prostate_cancer='oncology', breast_cancer='oncology', \n",
    "    schizophrenia='psychiatry', Alzheimer='neurology', multiple_sclerosis='neurology', endometriosis='gynecology', kidney_disease='nephrology', HIV_AIDS='interal mdeicine')\n",
    "\n",
    "year = change_date_of_birth(disease, zero=1, trente=0, quarante=0, cinquante=0, soixante=0, septante=1, quatre_vinght=1, nonante=1)\n",
    "\n",
    "# zero=0, trente=2, quarante=2, cinquante=2, soixante=2, septante=1, quatre_vinght=1, nonante=0)\n",
    "# zero=8, trente=1, quarante=2, cinquante=3, soixante=4, septante=5, quatre_vinght=6, nonante=7)\n",
    "\n",
    "final_hospi = year\n"
   ]
  },
  {
   "cell_type": "code",
   "execution_count": 25,
   "metadata": {},
   "outputs": [
    {
     "name": "stdout",
     "output_type": "stream",
     "text": [
      "dob  zipcode        number_vehicles  children       employment\n",
      "0    Alabama        none             more than one  0              True\n",
      "                                                    1              True\n",
      "                    one              more than one  0              True\n",
      "                                                    1              True\n",
      "     Alaska         none             more than one  0             False\n",
      "                                                                  ...  \n",
      "1    unknown state  none             none           0             False\n",
      "                                                    1              True\n",
      "                    one              more than one  0              True\n",
      "                                                    1              True\n",
      "                                     none           1              True\n",
      "Name: dob, Length: 402, dtype: bool\n",
      "123\n"
     ]
    }
   ],
   "source": [
    "rep = check_k_anonymity(final_hospi, 2, [\"dob\", \"zipcode\",\"number_vehicles\", \"children\", \"employment\" ])\n",
    "\n",
    "print(rep)\n",
    "print(len(rep)-sum(rep))"
   ]
  },
  {
   "cell_type": "markdown",
   "metadata": {},
   "source": [
    "On a une entropy de 7.576642308222318\n",
    "\n",
    "En ajoutant children, on part en couille avec 2 personnes reconnaissables"
   ]
  },
  {
   "cell_type": "code",
   "execution_count": 29,
   "metadata": {},
   "outputs": [],
   "source": [
    "my_list = [\"dob\", \"zipcode\",\"number_vehicles\", \"children\", \"employment\" ]\n",
    "\n",
    "sensitive = \"disease\"\n",
    "\n",
    "group_by = final_hospi[my_list+[sensitive]].groupby(my_list)\n",
    "indexes_to_drop = group_by.filter(lambda x:x[sensitive].count()<=1).index\n",
    "\n"
   ]
  },
  {
   "cell_type": "code",
   "execution_count": 30,
   "metadata": {},
   "outputs": [],
   "source": [
    "hospi_2_anonym = final_hospi.drop(indexes_to_drop)"
   ]
  },
  {
   "cell_type": "markdown",
   "metadata": {},
   "source": [
    "## L-Diversity "
   ]
  },
  {
   "cell_type": "code",
   "execution_count": 31,
   "metadata": {},
   "outputs": [
    {
     "name": "stdout",
     "output_type": "stream",
     "text": [
      "18\n",
      "Int64Index([ 115,  157,  173,  182,  188,  244,  318,  356,  553,  560,  576,\n",
      "             616,  702,  894,  956,  968, 1050, 1087, 1105, 1147, 1280, 1283,\n",
      "            1336, 1344, 1488, 1571, 1602, 1625, 1656, 1679, 1680, 1719, 1726,\n",
      "            1728, 1778, 1796, 1858, 1893, 1936],\n",
      "           dtype='int64')\n"
     ]
    }
   ],
   "source": [
    "div = check_L_diversity(hospi_2_anonym,2,my_list,\"disease\")\n",
    "\n",
    "#print(div)\n",
    "print(len(div)-sum(div))\n",
    "\n",
    "group_by = hospi_2_anonym[my_list+[sensitive]].groupby(my_list)\n",
    "indexes_to_drop = group_by.filter(lambda x:x[sensitive].nunique()==1).index\n",
    "\n",
    "print(indexes_to_drop)\n"
   ]
  },
  {
   "cell_type": "code",
   "execution_count": 32,
   "metadata": {},
   "outputs": [],
   "source": [
    "perfect_final_hospi = hospi_2_anonym.drop(indexes_to_drop)"
   ]
  },
  {
   "cell_type": "code",
   "execution_count": null,
   "metadata": {},
   "outputs": [],
   "source": []
  }
 ],
 "metadata": {
  "interpreter": {
   "hash": "3e0c1de059b023329ee3926758fcb07dc8e4ec1949b5c4e9d08b8a25fc553046"
  },
  "kernelspec": {
   "display_name": "Python 3.8.8 64-bit ('base': conda)",
   "language": "python",
   "name": "python3"
  },
  "language_info": {
   "codemirror_mode": {
    "name": "ipython",
    "version": 3
   },
   "file_extension": ".py",
   "mimetype": "text/x-python",
   "name": "python",
   "nbconvert_exporter": "python",
   "pygments_lexer": "ipython3",
   "version": "3.8.8"
  },
  "orig_nbformat": 4
 },
 "nbformat": 4,
 "nbformat_minor": 2
}
