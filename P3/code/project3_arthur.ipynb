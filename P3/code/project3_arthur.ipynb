{
 "cells": [
  {
   "cell_type": "markdown",
   "metadata": {},
   "source": [
    "# Import packages"
   ]
  },
  {
   "cell_type": "code",
   "execution_count": 5,
   "metadata": {},
   "outputs": [],
   "source": [
    "#conda update scikit-learn\n",
    "#conda install -c conda-forge sklearn-pandas\n",
    "import pandas as pd \n",
    "import os\n",
    "import datetime as dt\n",
    "import numpy as np\n",
    "from sklearn.preprocessing import LabelEncoder\n",
    "from sklearn_pandas import DataFrameMapper\n"
   ]
  },
  {
   "cell_type": "markdown",
   "metadata": {},
   "source": [
    "## Interesting definition \n",
    "\n",
    "- k-anonymous : A table is k-anonymous if every record in the table is indistinguishable from at least k-1 other records, with respect to every set of quasi-identifiers\n",
    "- l-diverse :  An equivalence class is l-diverse if it contains at least l distinct values for the sensitive attributes. A table is l-diverse if every equivalence class is l-diverse"
   ]
  },
  {
   "cell_type": "markdown",
   "metadata": {},
   "source": [
    "# Directory choice"
   ]
  },
  {
   "cell_type": "code",
   "execution_count": 6,
   "metadata": {},
   "outputs": [],
   "source": [
    "os.getcwd()\n",
    "os.chdir('/Users/simonlegendre/Desktop/DATSMA2/AlgorithmsInDataScience/Projet1/Code/P3') \n",
    "data = pd.read_csv(\"resources/dataset_HW3.csv\")\n"
   ]
  },
  {
   "cell_type": "markdown",
   "metadata": {},
   "source": [
    "# Visualazing data"
   ]
  },
  {
   "cell_type": "code",
   "execution_count": 7,
   "metadata": {},
   "outputs": [
    {
     "data": {
      "text/html": [
       "<div>\n",
       "<style scoped>\n",
       "    .dataframe tbody tr th:only-of-type {\n",
       "        vertical-align: middle;\n",
       "    }\n",
       "\n",
       "    .dataframe tbody tr th {\n",
       "        vertical-align: top;\n",
       "    }\n",
       "\n",
       "    .dataframe thead th {\n",
       "        text-align: right;\n",
       "    }\n",
       "</style>\n",
       "<table border=\"1\" class=\"dataframe\">\n",
       "  <thead>\n",
       "    <tr style=\"text-align: right;\">\n",
       "      <th></th>\n",
       "      <th>id</th>\n",
       "      <th>gender</th>\n",
       "      <th>dob</th>\n",
       "      <th>zipcode</th>\n",
       "      <th>education</th>\n",
       "      <th>employment</th>\n",
       "      <th>children</th>\n",
       "      <th>marital_status</th>\n",
       "      <th>ancestry</th>\n",
       "      <th>number_vehicles</th>\n",
       "      <th>commute_time</th>\n",
       "      <th>accommodation</th>\n",
       "      <th>disease</th>\n",
       "    </tr>\n",
       "  </thead>\n",
       "  <tbody>\n",
       "    <tr>\n",
       "      <th>0</th>\n",
       "      <td>Amelia Morrow</td>\n",
       "      <td>female</td>\n",
       "      <td>12/1950</td>\n",
       "      <td>26904</td>\n",
       "      <td>High School</td>\n",
       "      <td>Retired</td>\n",
       "      <td>2</td>\n",
       "      <td>married</td>\n",
       "      <td>Africa</td>\n",
       "      <td>2</td>\n",
       "      <td>0.0</td>\n",
       "      <td>Own house</td>\n",
       "      <td>Alzheimer's disease</td>\n",
       "    </tr>\n",
       "    <tr>\n",
       "      <th>1</th>\n",
       "      <td>Lillian Cole</td>\n",
       "      <td>female</td>\n",
       "      <td>4/1940</td>\n",
       "      <td>78088</td>\n",
       "      <td>PhD/md</td>\n",
       "      <td>Retired</td>\n",
       "      <td>1</td>\n",
       "      <td>married</td>\n",
       "      <td>Africa</td>\n",
       "      <td>1</td>\n",
       "      <td>0.0</td>\n",
       "      <td>Rent flat</td>\n",
       "      <td>multiple sclerosis</td>\n",
       "    </tr>\n",
       "    <tr>\n",
       "      <th>2</th>\n",
       "      <td>Lillian Simpson</td>\n",
       "      <td>female</td>\n",
       "      <td>12/1966</td>\n",
       "      <td>51502</td>\n",
       "      <td>Bachelor</td>\n",
       "      <td>Employed</td>\n",
       "      <td>1</td>\n",
       "      <td>married</td>\n",
       "      <td>Asia</td>\n",
       "      <td>0</td>\n",
       "      <td>0.1</td>\n",
       "      <td>Rent flat</td>\n",
       "      <td>heart disease</td>\n",
       "    </tr>\n",
       "    <tr>\n",
       "      <th>3</th>\n",
       "      <td>Avery Richards</td>\n",
       "      <td>female</td>\n",
       "      <td>4/1943</td>\n",
       "      <td>54080</td>\n",
       "      <td>Bachelor</td>\n",
       "      <td>Retired</td>\n",
       "      <td>1</td>\n",
       "      <td>married</td>\n",
       "      <td>Africa</td>\n",
       "      <td>0</td>\n",
       "      <td>0.0</td>\n",
       "      <td>Rent room</td>\n",
       "      <td>endometriosis</td>\n",
       "    </tr>\n",
       "    <tr>\n",
       "      <th>4</th>\n",
       "      <td>Sophia Alvarado</td>\n",
       "      <td>female</td>\n",
       "      <td>10/1947</td>\n",
       "      <td>68785</td>\n",
       "      <td>High School</td>\n",
       "      <td>Retired</td>\n",
       "      <td>1</td>\n",
       "      <td>married</td>\n",
       "      <td>Europe</td>\n",
       "      <td>0</td>\n",
       "      <td>0.0</td>\n",
       "      <td>Rent flat</td>\n",
       "      <td>gastritis</td>\n",
       "    </tr>\n",
       "    <tr>\n",
       "      <th>...</th>\n",
       "      <td>...</td>\n",
       "      <td>...</td>\n",
       "      <td>...</td>\n",
       "      <td>...</td>\n",
       "      <td>...</td>\n",
       "      <td>...</td>\n",
       "      <td>...</td>\n",
       "      <td>...</td>\n",
       "      <td>...</td>\n",
       "      <td>...</td>\n",
       "      <td>...</td>\n",
       "      <td>...</td>\n",
       "      <td>...</td>\n",
       "    </tr>\n",
       "    <tr>\n",
       "      <th>1995</th>\n",
       "      <td>Connor Pena</td>\n",
       "      <td>male</td>\n",
       "      <td>11/1997</td>\n",
       "      <td>71300</td>\n",
       "      <td>High School</td>\n",
       "      <td>Student</td>\n",
       "      <td>0</td>\n",
       "      <td>divorced</td>\n",
       "      <td>Europe</td>\n",
       "      <td>0</td>\n",
       "      <td>1.1</td>\n",
       "      <td>Rent house</td>\n",
       "      <td>gastritis</td>\n",
       "    </tr>\n",
       "    <tr>\n",
       "      <th>1996</th>\n",
       "      <td>Caleb Bowman</td>\n",
       "      <td>male</td>\n",
       "      <td>11/1999</td>\n",
       "      <td>49030</td>\n",
       "      <td>High School</td>\n",
       "      <td>Student</td>\n",
       "      <td>0</td>\n",
       "      <td>single</td>\n",
       "      <td>North America</td>\n",
       "      <td>0</td>\n",
       "      <td>0.1</td>\n",
       "      <td>Rent house</td>\n",
       "      <td>gastritis</td>\n",
       "    </tr>\n",
       "    <tr>\n",
       "      <th>1997</th>\n",
       "      <td>Ella Barber</td>\n",
       "      <td>female</td>\n",
       "      <td>6/1948</td>\n",
       "      <td>92883</td>\n",
       "      <td>Masters</td>\n",
       "      <td>Retired</td>\n",
       "      <td>5</td>\n",
       "      <td>married</td>\n",
       "      <td>Africa</td>\n",
       "      <td>1</td>\n",
       "      <td>0.0</td>\n",
       "      <td>Own house</td>\n",
       "      <td>skin cancer</td>\n",
       "    </tr>\n",
       "    <tr>\n",
       "      <th>1998</th>\n",
       "      <td>Gavin Wilson</td>\n",
       "      <td>male</td>\n",
       "      <td>4/1976</td>\n",
       "      <td>42200</td>\n",
       "      <td>High School</td>\n",
       "      <td>Employed</td>\n",
       "      <td>1</td>\n",
       "      <td>married</td>\n",
       "      <td>Asia</td>\n",
       "      <td>2</td>\n",
       "      <td>0.0</td>\n",
       "      <td>Own flat</td>\n",
       "      <td>diabetes</td>\n",
       "    </tr>\n",
       "    <tr>\n",
       "      <th>1999</th>\n",
       "      <td>Ariel Garner</td>\n",
       "      <td>female</td>\n",
       "      <td>2/1984</td>\n",
       "      <td>28590</td>\n",
       "      <td>High School</td>\n",
       "      <td>Employed</td>\n",
       "      <td>1</td>\n",
       "      <td>married</td>\n",
       "      <td>Africa</td>\n",
       "      <td>0</td>\n",
       "      <td>0.1</td>\n",
       "      <td>Own flat</td>\n",
       "      <td>hypertension</td>\n",
       "    </tr>\n",
       "  </tbody>\n",
       "</table>\n",
       "<p>2000 rows × 13 columns</p>\n",
       "</div>"
      ],
      "text/plain": [
       "                   id  gender      dob  zipcode    education employment  \\\n",
       "0       Amelia Morrow  female  12/1950    26904  High School    Retired   \n",
       "1        Lillian Cole  female   4/1940    78088       PhD/md    Retired   \n",
       "2     Lillian Simpson  female  12/1966    51502     Bachelor   Employed   \n",
       "3      Avery Richards  female   4/1943    54080     Bachelor    Retired   \n",
       "4     Sophia Alvarado  female  10/1947    68785  High School    Retired   \n",
       "...               ...     ...      ...      ...          ...        ...   \n",
       "1995      Connor Pena    male  11/1997    71300  High School    Student   \n",
       "1996     Caleb Bowman    male  11/1999    49030  High School    Student   \n",
       "1997      Ella Barber  female   6/1948    92883      Masters    Retired   \n",
       "1998     Gavin Wilson    male   4/1976    42200  High School   Employed   \n",
       "1999     Ariel Garner  female   2/1984    28590  High School   Employed   \n",
       "\n",
       "      children marital_status       ancestry  number_vehicles  commute_time  \\\n",
       "0            2        married         Africa                2           0.0   \n",
       "1            1        married         Africa                1           0.0   \n",
       "2            1        married           Asia                0           0.1   \n",
       "3            1        married         Africa                0           0.0   \n",
       "4            1        married         Europe                0           0.0   \n",
       "...        ...            ...            ...              ...           ...   \n",
       "1995         0       divorced         Europe                0           1.1   \n",
       "1996         0         single  North America                0           0.1   \n",
       "1997         5        married         Africa                1           0.0   \n",
       "1998         1        married           Asia                2           0.0   \n",
       "1999         1        married         Africa                0           0.1   \n",
       "\n",
       "     accommodation              disease  \n",
       "0        Own house  Alzheimer's disease  \n",
       "1        Rent flat   multiple sclerosis  \n",
       "2        Rent flat        heart disease  \n",
       "3        Rent room        endometriosis  \n",
       "4        Rent flat            gastritis  \n",
       "...            ...                  ...  \n",
       "1995    Rent house            gastritis  \n",
       "1996    Rent house            gastritis  \n",
       "1997     Own house          skin cancer  \n",
       "1998      Own flat             diabetes  \n",
       "1999      Own flat         hypertension  \n",
       "\n",
       "[2000 rows x 13 columns]"
      ]
     },
     "execution_count": 7,
     "metadata": {},
     "output_type": "execute_result"
    }
   ],
   "source": [
    "#pd.reset_option('all')\n",
    "data"
   ]
  },
  {
   "cell_type": "markdown",
   "metadata": {},
   "source": [
    "#### For sociologists, to study the impact of stress and high-pressure environments on one’s health. They are looking for factors in people’s lives that could correlate to certain diseases or conditions. : \n",
    "\n",
    "They don't need to know any information about the identity of individuals. However, gender, dob and localisaiton  is really important information : \n",
    "\n",
    "- The id ( by name could be dropped (BE CARREFUL BECAUSE THIS INFORMATION COULD BE LINKED WITH THE SECOND PART OF THE EXERCICE)) \n",
    "- The gender could be replaced by 0 or 1 ( mais en vrai ca change pas grand chose)\n",
    "- The dob : we don't need the day and the month of birth ==> Ne pourrait-on pas modifier grâce à une gaussienne de moyenne 0 sd 1 les dates de naissance ? On gagne en anonymisation, on ne perd pas grand chose \n",
    "- Zip code, we do not need the entire zipcode, we can keep only the first to digit.\n",
    "\n",
    "==> Etant donnél'étude demandé, le risque n'est pas les identifiant mais les pseusos identifiants.\n",
    "\n",
    "#### For the US department of Health and Human services chairman, to decide where to build new hospitals, and which departments (radiology, neurology, pulmonology, oncology...) to have in these, as the US federal government has just allocated money to build *5 new hospitals across the country* : \n",
    "\n",
    "A priori, je ne vois pas pourquoi on aurait besoin d'information sur les individus, ce qui nous importe est uniquement les maladies, la localicaiton, et pourquoi pas l'age des gens.\n",
    "\n",
    "- Gender ne sert plus à rien\n",
    "- l'année de naissance suffit \n",
    "- les deux premiers digit du zip code sont suffisant (étant donné que l'on va faire que 5 hopitauyx across the country)\n",
    "- L'éducation on s'en branle\n",
    "- Emploie on s'en fou\n",
    "- Nombre d'enfant on s'en fou \n",
    "- Marital status on s'en branle\n",
    "- ancestry on s'en fou \n",
    "- Nombre de véhicule ( est ce que ca peut être intéressant étant donné que c'est des hopitaux? ==> Ambulance tout ca)\n",
    "- communte-time on s'en branle \n",
    "- accommodation on s'en fou \n",
    "- Maladie, pourrait on déjà regrouper les différentes maladies selon le service utilise à soigner les tiches ? On s'en branle de savoir si c'est un cancer du foie ou de la peau, ce qui est intéressant c'est qu'il faut un service d'oncologie\n",
    "\n"
   ]
  },
  {
   "cell_type": "markdown",
   "metadata": {},
   "source": [
    "## Mofification de la base de données"
   ]
  },
  {
   "cell_type": "code",
   "execution_count": 8,
   "metadata": {},
   "outputs": [
    {
     "data": {
      "text/plain": [
       "'    if ((data[\"gender\"][i]) == \"female\"):\\n        data.at[i, \"gender\"] = 1\\n    else:\\n        data.at[i, \"gender\"] = 0'"
      ]
     },
     "execution_count": 8,
     "metadata": {},
     "output_type": "execute_result"
    }
   ],
   "source": [
    "# Download data \n",
    "data = pd.read_csv(\"resources/dataset_HW3.csv\")\n",
    "\n",
    "#print(data[\"dob\"])\n",
    "new_dob = [0]*(len(data[\"dob\"]))\n",
    "\n",
    "for i in range(len(data[\"dob\"])):\n",
    "\n",
    "    # Modify DOB \n",
    "    s = np.random.normal(0, 2, 1)\n",
    "    data.at[i,\"dob\"] = round(int(data[\"dob\"][i][-4:]) +s[0])\n",
    "\n",
    "    # Modify ZipCode (3 first digit needed pour the city, 2 or 3 for the state, 1 can be different state\n",
    "    # https://simple.wikipedia.org/wiki/List_of_ZIP_Code_prefixes#:~:text=2%20%3D%20District%20of%20Columbia%20(DC,)%2C%20West%20Virginia%20(WV))\n",
    "\n",
    "    data.at[i,\"zipcode\"] = int((str(data[\"zipcode\"][i])[:3]))\n"
   ]
  },
  {
   "cell_type": "markdown",
   "metadata": {},
   "source": [
    "## Modification supplémentaire"
   ]
  },
  {
   "cell_type": "code",
   "execution_count": 10,
   "metadata": {},
   "outputs": [
    {
     "name": "stderr",
     "output_type": "stream",
     "text": [
      "/Users/simonlegendre/opt/anaconda3/lib/python3.8/site-packages/sklearn/preprocessing/_label.py:115: DataConversionWarning: A column-vector y was passed when a 1d array was expected. Please change the shape of y to (n_samples, ), for example using ravel().\n",
      "  y = column_or_1d(y, warn=True)\n"
     ]
    }
   ],
   "source": [
    "# We drop ID\n",
    "data.drop(columns=[\"id\"], inplace=True)\n",
    "\n",
    "# Binariser certaines variables ( gender a déjà été fait)\n",
    "\"\"\"data = pd.get_dummies(data, columns=[\"disease\", \"education\", \"employment\", \"marital_status\", \"ancestry\", \"accommodation\"], \n",
    "                        prefix=[\"disease\", \"education\", \"employment\", \"marital_status\", \"ancestry\", \"accommodation\"])\"\"\"\n",
    "\n",
    "# Autre méthode\n",
    "encoders = [([\"gender\"], LabelEncoder()), ([\"disease\"], LabelEncoder()), ([\"education\"], LabelEncoder()),([\"employment\"], LabelEncoder()), \n",
    "            ([\"marital_status\"], LabelEncoder()),([\"ancestry\"], LabelEncoder()),([\"accommodation\"], LabelEncoder())]\n",
    "\n",
    "mapper = DataFrameMapper(encoders, df_out=True)\n",
    "new_cols = mapper.fit_transform(data.copy())\n",
    "\n",
    "data = pd.concat([data.drop(columns=[\"gender\",\"disease\", \"education\", \"employment\", \"marital_status\", \"ancestry\", \"accommodation\"]),\n",
    "        new_cols], axis=\"columns\")\n"
   ]
  },
  {
   "cell_type": "code",
   "execution_count": 12,
   "metadata": {},
   "outputs": [
    {
     "data": {
      "text/plain": [
       "dob                 78\n",
       "zipcode            806\n",
       "children             9\n",
       "number_vehicles      4\n",
       "commute_time        12\n",
       "gender               2\n",
       "disease             13\n",
       "education            5\n",
       "employment           4\n",
       "marital_status       4\n",
       "ancestry             6\n",
       "accommodation        5\n",
       "dtype: int64"
      ]
     },
     "execution_count": 12,
     "metadata": {},
     "output_type": "execute_result"
    }
   ],
   "source": [
    "data.nunique()"
   ]
  },
  {
   "cell_type": "code",
   "execution_count": 14,
   "metadata": {},
   "outputs": [
    {
     "name": "stdout",
     "output_type": "stream",
     "text": [
      "['children', 'number_vehicles', 'commute_time', 'gender', 'disease', 'education', 'employment', 'marital_status', 'ancestry', 'accommodation']\n",
      "['dob', 'zipcode']\n"
     ]
    }
   ],
   "source": [
    "# On regroupe les variables categorielles et continues entre elles\n",
    "\n",
    "categorical = []\n",
    "continuous = []\n",
    "\n",
    "for c in list(data):\n",
    "    col = data[c]\n",
    "    nunique = col.nunique()\n",
    "    if nunique < 20:\n",
    "        categorical.append(c)\n",
    "    else:\n",
    "        continuous.append(c)\n",
    "\n",
    "\n",
    "print(categorical)\n",
    "print(continuous)"
   ]
  }
 ],
 "metadata": {
  "interpreter": {
   "hash": "3e0c1de059b023329ee3926758fcb07dc8e4ec1949b5c4e9d08b8a25fc553046"
  },
  "kernelspec": {
   "display_name": "Python 3.8.8 64-bit ('base': conda)",
   "language": "python",
   "name": "python3"
  },
  "language_info": {
   "codemirror_mode": {
    "name": "ipython",
    "version": 3
   },
   "file_extension": ".py",
   "mimetype": "text/x-python",
   "name": "python",
   "nbconvert_exporter": "python",
   "pygments_lexer": "ipython3",
   "version": "3.8.8"
  },
  "orig_nbformat": 4
 },
 "nbformat": 4,
 "nbformat_minor": 2
}
