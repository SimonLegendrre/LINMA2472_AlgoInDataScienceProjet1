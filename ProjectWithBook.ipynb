{
 "cells": [
  {
   "cell_type": "markdown",
   "id": "07cd54cc",
   "metadata": {},
   "source": [
    "# Projet 1"
   ]
  },
  {
   "cell_type": "code",
   "execution_count": 7,
   "id": "4d756869",
   "metadata": {},
   "outputs": [],
   "source": [
    "import re\n",
    "\n",
    "import pandas as pd\n",
    "import networkx as ntw\n",
    "import numpy as np\n",
    "import matplotlib.pyplot as plt"
   ]
  },
  {
   "cell_type": "code",
   "execution_count": 8,
   "id": "4496f31a",
   "metadata": {},
   "outputs": [],
   "source": [
    "book =  open(\"LOTR_ReturnOfTheKing.txt\").read()\n",
    "\n",
    "book_chapters = re.split(r\"_Chapter \\w+_\",book)[1:]\n",
    "\n"
   ]
  },
  {
   "cell_type": "code",
   "execution_count": 9,
   "id": "7240d99f",
   "metadata": {},
   "outputs": [],
   "source": [
    "Characters = [\"arwen\", \"aragorn\", \"bilbo\", \"boromir\", \"beregond\", \"bergil\", \"denethor\", \"elrond\", \"eomer\", \n",
    "              \"eowyn\", \"faramir\", \"frodo\", \"fredegard\", \"galadriel\", \"gandalf\", \"gimli\",\n",
    "              \"gollum\", \"haldir\", \"isildur\", \"king of the deads\", \"legolas\",\n",
    "              \"merry\", \"pippin\", \"sam\", \"saruman\", \"sauron\", \"theoden\", \"treebeard\",\n",
    "              \"the witch king\", \"grima\", \"fatty\", \"rose cotton\", \"tom cotton\", \"shadowfax\"]\n",
    "\n",
    "\n",
    "\n"
   ]
  },
  {
   "cell_type": "code",
   "execution_count": 10,
   "id": "77cb4ef5",
   "metadata": {},
   "outputs": [],
   "source": [
    "## CLEANING \n",
    "\n",
    "cleaned_parag =[]\n",
    "for ChapterNb, Chapter in enumerate(book_chapters):\n",
    "    paragraphsEnsemble = Chapter.split('\\n\\n')\n",
    "    for parag in paragraphsEnsemble :\n",
    "        parag_new = re.sub(r\"[!?',;.:']\", ' ', parag)\n",
    "        cleaned_parag.append(parag_new.lower())\n",
    "        \n"
   ]
  },
  {
   "cell_type": "markdown",
   "id": "9c3eff40",
   "metadata": {},
   "source": [
    "Data transformation"
   ]
  },
  {
   "cell_type": "code",
   "execution_count": 12,
   "id": "ab16e8a2",
   "metadata": {},
   "outputs": [
    {
     "name": "stdout",
     "output_type": "stream",
     "text": [
      "209\n",
      "{('pippin', 'gandalf'): 43, ('gandalf', 'pippin'): 43, ('pippin', 'shadowfax'): 15, ('shadowfax', 'pippin'): 15, ('pippin', 'frodo'): 22, ('frodo', 'pippin'): 22, ('gandalf', 'shadowfax'): 16, ('shadowfax', 'gandalf'): 16, ('gandalf', 'frodo'): 23, ('frodo', 'gandalf'): 23, ('shadowfax', 'frodo'): 6, ('frodo', 'shadowfax'): 6, ('pippin', 'denethor'): 19, ('denethor', 'pippin'): 19, ('pippin', 'boromir'): 10, ('boromir', 'pippin'): 10, ('shadowfax', 'denethor'): 8, ('denethor', 'shadowfax'): 8, ('shadowfax', 'boromir'): 4, ('boromir', 'shadowfax'): 4, ('gandalf', 'denethor'): 22, ('denethor', 'gandalf'): 22, ('gandalf', 'boromir'): 11, ('boromir', 'gandalf'): 11, ('denethor', 'boromir'): 10, ('boromir', 'denethor'): 10, ('gandalf', 'aragorn'): 35, ('aragorn', 'gandalf'): 35, ('pippin', 'aragorn'): 21, ('aragorn', 'pippin'): 21, ('denethor', 'frodo'): 5, ('frodo', 'denethor'): 5, ('denethor', 'aragorn'): 10, ('aragorn', 'denethor'): 10, ('boromir', 'frodo'): 3, ('frodo', 'boromir'): 3, ('boromir', 'aragorn'): 5, ('aragorn', 'boromir'): 5, ('frodo', 'aragorn'): 15, ('aragorn', 'frodo'): 15, ('pippin', 'faramir'): 16, ('faramir', 'pippin'): 16, ('pippin', 'saruman'): 9, ('saruman', 'pippin'): 9, ('pippin', 'treebeard'): 3, ('treebeard', 'pippin'): 3, ('gandalf', 'faramir'): 24, ('faramir', 'gandalf'): 24, ('gandalf', 'saruman'): 11, ('saruman', 'gandalf'): 11, ('gandalf', 'treebeard'): 3, ('treebeard', 'gandalf'): 3, ('denethor', 'faramir'): 14, ('faramir', 'denethor'): 14, ('denethor', 'saruman'): 3, ('saruman', 'denethor'): 3, ('denethor', 'treebeard'): 1, ('treebeard', 'denethor'): 1, ('boromir', 'faramir'): 7, ('faramir', 'boromir'): 7, ('boromir', 'saruman'): 3, ('saruman', 'boromir'): 3, ('boromir', 'treebeard'): 1, ('treebeard', 'boromir'): 1, ('aragorn', 'faramir'): 15, ('faramir', 'aragorn'): 15, ('aragorn', 'saruman'): 9, ('saruman', 'aragorn'): 9, ('aragorn', 'treebeard'): 3, ('treebeard', 'aragorn'): 3, ('faramir', 'saruman'): 3, ('saruman', 'faramir'): 3, ('faramir', 'treebeard'): 2, ('treebeard', 'faramir'): 2, ('saruman', 'treebeard'): 3, ('treebeard', 'saruman'): 3, ('pippin', 'merry'): 31, ('merry', 'pippin'): 31, ('denethor', 'merry'): 7, ('merry', 'denethor'): 7, ('gandalf', 'merry'): 23, ('merry', 'gandalf'): 23, ('merry', 'boromir'): 2, ('boromir', 'merry'): 2, ('merry', 'faramir'): 6, ('faramir', 'merry'): 6, ('merry', 'shadowfax'): 7, ('shadowfax', 'merry'): 7, ('faramir', 'shadowfax'): 6, ('shadowfax', 'faramir'): 6, ('gandalf', 'beregond'): 15, ('beregond', 'gandalf'): 15, ('pippin', 'beregond'): 15, ('beregond', 'pippin'): 15, ('beregond', 'aragorn'): 5, ('aragorn', 'beregond'): 5, ('beregond', 'shadowfax'): 6, ('shadowfax', 'beregond'): 6, ('aragorn', 'shadowfax'): 6, ('shadowfax', 'aragorn'): 6, ('denethor', 'beregond'): 10, ('beregond', 'denethor'): 10, ('beregond', 'boromir'): 5, ('boromir', 'beregond'): 5, ('beregond', 'faramir'): 10, ('faramir', 'beregond'): 10, ('beregond', 'merry'): 5, ('merry', 'beregond'): 5, ('beregond', 'bergil'): 5, ('bergil', 'beregond'): 5, ('merry', 'bergil'): 6, ('bergil', 'merry'): 6, ('pippin', 'bergil'): 7, ('bergil', 'pippin'): 7, ('shadowfax', 'bergil'): 1, ('bergil', 'shadowfax'): 1, ('bergil', 'gandalf'): 4, ('gandalf', 'bergil'): 4, ('bergil', 'denethor'): 1, ('denethor', 'bergil'): 1, ('bergil', 'faramir'): 2, ('faramir', 'bergil'): 2, ('gandalf', 'legolas'): 13, ('legolas', 'gandalf'): 13, ('gandalf', 'gimli'): 13, ('gimli', 'gandalf'): 13, ('gandalf', 'elrond'): 19, ('elrond', 'gandalf'): 19, ('gandalf', 'galadriel'): 9, ('galadriel', 'gandalf'): 9, ('shadowfax', 'legolas'): 3, ('legolas', 'shadowfax'): 3, ('shadowfax', 'gimli'): 3, ('gimli', 'shadowfax'): 3, ('shadowfax', 'saruman'): 2, ('saruman', 'shadowfax'): 2, ('shadowfax', 'elrond'): 3, ('elrond', 'shadowfax'): 3, ('shadowfax', 'galadriel'): 2, ('galadriel', 'shadowfax'): 2, ('merry', 'aragorn'): 18, ('aragorn', 'merry'): 18, ('merry', 'legolas'): 11, ('legolas', 'merry'): 11, ('merry', 'gimli'): 12, ('gimli', 'merry'): 12, ('merry', 'saruman'): 7, ('saruman', 'merry'): 7, ('merry', 'elrond'): 10, ('elrond', 'merry'): 10, ('merry', 'galadriel'): 6, ('galadriel', 'merry'): 6, ('aragorn', 'legolas'): 19, ('legolas', 'aragorn'): 19, ('aragorn', 'gimli'): 20, ('gimli', 'aragorn'): 20, ('aragorn', 'elrond'): 20, ('elrond', 'aragorn'): 20, ('aragorn', 'galadriel'): 6, ('galadriel', 'aragorn'): 6, ('legolas', 'gimli'): 18, ('gimli', 'legolas'): 18, ('legolas', 'saruman'): 3, ('saruman', 'legolas'): 3, ('legolas', 'pippin'): 12, ('pippin', 'legolas'): 12, ('legolas', 'elrond'): 11, ('elrond', 'legolas'): 11, ('legolas', 'galadriel'): 3, ('galadriel', 'legolas'): 3, ('gimli', 'saruman'): 3, ('saruman', 'gimli'): 3, ('gimli', 'pippin'): 12, ('pippin', 'gimli'): 12, ('gimli', 'elrond'): 12, ('elrond', 'gimli'): 12, ('gimli', 'galadriel'): 3, ('galadriel', 'gimli'): 3, ('saruman', 'elrond'): 4, ('elrond', 'saruman'): 4, ('saruman', 'galadriel'): 3, ('galadriel', 'saruman'): 3, ('pippin', 'elrond'): 11, ('elrond', 'pippin'): 11, ('pippin', 'galadriel'): 6, ('galadriel', 'pippin'): 6, ('elrond', 'galadriel'): 6, ('galadriel', 'elrond'): 6, ('aragorn', 'sauron'): 10, ('sauron', 'aragorn'): 10, ('aragorn', 'isildur'): 7, ('isildur', 'aragorn'): 7, ('merry', 'sauron'): 2, ('sauron', 'merry'): 2, ('merry', 'isildur'): 3, ('isildur', 'merry'): 3, ('elrond', 'sauron'): 6, ('sauron', 'elrond'): 6, ('elrond', 'isildur'): 3, ('isildur', 'elrond'): 3, ('legolas', 'sauron'): 6, ('sauron', 'legolas'): 6, ('legolas', 'isildur'): 6, ('isildur', 'legolas'): 6, ('gimli', 'sauron'): 7, ('sauron', 'gimli'): 7, ('gimli', 'isildur'): 6, ('isildur', 'gimli'): 6, ('pippin', 'sauron'): 4, ('sauron', 'pippin'): 4, ('pippin', 'isildur'): 3, ('isildur', 'pippin'): 3, ('gandalf', 'sauron'): 12, ('sauron', 'gandalf'): 12, ('gandalf', 'isildur'): 4, ('isildur', 'gandalf'): 4, ('sauron', 'isildur'): 5, ('isildur', 'sauron'): 5, ('pippin', 'sam'): 13, ('sam', 'pippin'): 13, ('merry', 'frodo'): 17, ('frodo', 'merry'): 17, ('merry', 'sam'): 13, ('sam', 'merry'): 13, ('aragorn', 'sam'): 7, ('sam', 'aragorn'): 7, ('legolas', 'frodo'): 7, ('frodo', 'legolas'): 7, ('legolas', 'sam'): 5, ('sam', 'legolas'): 5, ('gimli', 'frodo'): 6, ('frodo', 'gimli'): 6, ('gimli', 'sam'): 4, ('sam', 'gimli'): 4, ('frodo', 'sam'): 35, ('sam', 'frodo'): 35, ('sam', 'gandalf'): 12, ('gandalf', 'sam'): 12, ('sam', 'shadowfax'): 2, ('shadowfax', 'sam'): 2, ('beregond', 'frodo'): 2, ('frodo', 'beregond'): 2, ('frodo', 'faramir'): 7, ('faramir', 'frodo'): 7, ('gandalf', 'gollum'): 2, ('gollum', 'gandalf'): 2, ('pippin', 'gollum'): 1, ('gollum', 'pippin'): 1, ('frodo', 'saruman'): 5, ('saruman', 'frodo'): 5, ('frodo', 'gollum'): 6, ('gollum', 'frodo'): 6, ('faramir', 'gollum'): 3, ('gollum', 'faramir'): 3, ('saruman', 'gollum'): 1, ('gollum', 'saruman'): 1, ('aragorn', 'gollum'): 1, ('gollum', 'aragorn'): 1, ('gollum', 'denethor'): 1, ('denethor', 'gollum'): 1, ('gollum', 'boromir'): 1, ('boromir', 'gollum'): 1, ('faramir', 'sauron'): 3, ('sauron', 'faramir'): 3, ('beregond', 'sauron'): 2, ('sauron', 'beregond'): 2, ('denethor', 'sauron'): 3, ('sauron', 'denethor'): 3, ('arwen', 'elrond'): 5, ('elrond', 'arwen'): 5, ('arwen', 'aragorn'): 5, ('aragorn', 'arwen'): 5, ('arwen', 'isildur'): 1, ('isildur', 'arwen'): 1, ('arwen', 'legolas'): 3, ('legolas', 'arwen'): 3, ('arwen', 'gimli'): 3, ('gimli', 'arwen'): 3, ('shadowfax', 'isildur'): 1, ('isildur', 'shadowfax'): 1, ('shadowfax', 'sauron'): 1, ('sauron', 'shadowfax'): 1, ('faramir', 'isildur'): 2, ('isildur', 'faramir'): 2, ('denethor', 'isildur'): 1, ('isildur', 'denethor'): 1, ('beregond', 'isildur'): 1, ('isildur', 'beregond'): 1, ('isildur', 'boromir'): 1, ('boromir', 'isildur'): 1, ('sauron', 'boromir'): 1, ('boromir', 'sauron'): 1, ('bergil', 'elrond'): 2, ('elrond', 'bergil'): 2, ('beregond', 'elrond'): 2, ('elrond', 'beregond'): 2, ('denethor', 'elrond'): 3, ('elrond', 'denethor'): 3, ('faramir', 'galadriel'): 3, ('galadriel', 'faramir'): 3, ('denethor', 'galadriel'): 1, ('galadriel', 'denethor'): 1, ('faramir', 'elrond'): 4, ('elrond', 'faramir'): 4, ('aragorn', 'bergil'): 2, ('bergil', 'aragorn'): 2, ('legolas', 'denethor'): 1, ('denethor', 'legolas'): 1, ('gimli', 'denethor'): 1, ('denethor', 'gimli'): 1, ('legolas', 'bergil'): 1, ('bergil', 'legolas'): 1, ('gimli', 'bergil'): 1, ('bergil', 'gimli'): 1, ('faramir', 'legolas'): 2, ('legolas', 'faramir'): 2, ('elrond', 'sam'): 4, ('sam', 'elrond'): 4, ('elrond', 'frodo'): 9, ('frodo', 'elrond'): 9, ('sauron', 'sam'): 6, ('sam', 'sauron'): 6, ('sauron', 'frodo'): 5, ('frodo', 'sauron'): 5, ('sauron', 'saruman'): 1, ('saruman', 'sauron'): 1, ('sam', 'saruman'): 4, ('saruman', 'sam'): 4, ('pippin', 'bilbo'): 7, ('bilbo', 'pippin'): 7, ('gandalf', 'bilbo'): 7, ('bilbo', 'gandalf'): 7, ('frodo', 'bilbo'): 13, ('bilbo', 'frodo'): 13, ('beregond', 'bilbo'): 1, ('bilbo', 'beregond'): 1, ('merry', 'bilbo'): 6, ('bilbo', 'merry'): 6, ('denethor', 'bilbo'): 1, ('bilbo', 'denethor'): 1, ('sam', 'denethor'): 1, ('denethor', 'sam'): 1, ('sam', 'galadriel'): 8, ('galadriel', 'sam'): 8, ('frodo', 'galadriel'): 10, ('galadriel', 'frodo'): 10, ('sam', 'bilbo'): 7, ('bilbo', 'sam'): 7, ('sam', 'faramir'): 3, ('faramir', 'sam'): 3, ('sam', 'gollum'): 5, ('gollum', 'sam'): 5, ('sauron', 'galadriel'): 3, ('galadriel', 'sauron'): 3, ('sauron', 'gollum'): 2, ('gollum', 'sauron'): 2, ('galadriel', 'gollum'): 2, ('gollum', 'galadriel'): 2, ('aragorn', 'bilbo'): 4, ('bilbo', 'aragorn'): 4, ('elrond', 'bilbo'): 6, ('bilbo', 'elrond'): 6, ('bilbo', 'gimli'): 2, ('gimli', 'bilbo'): 2, ('bilbo', 'legolas'): 2, ('legolas', 'bilbo'): 2, ('isildur', 'frodo'): 1, ('frodo', 'isildur'): 1, ('galadriel', 'arwen'): 3, ('arwen', 'galadriel'): 3, ('arwen', 'frodo'): 3, ('frodo', 'arwen'): 3, ('arwen', 'gandalf'): 3, ('gandalf', 'arwen'): 3, ('arwen', 'bilbo'): 1, ('bilbo', 'arwen'): 1, ('arwen', 'faramir'): 2, ('faramir', 'arwen'): 2, ('bilbo', 'faramir'): 1, ('faramir', 'bilbo'): 1, ('arwen', 'merry'): 2, ('merry', 'arwen'): 2, ('arwen', 'shadowfax'): 1, ('shadowfax', 'arwen'): 1, ('arwen', 'pippin'): 2, ('pippin', 'arwen'): 2, ('merry', 'treebeard'): 2, ('treebeard', 'merry'): 2, ('faramir', 'gimli'): 1, ('gimli', 'faramir'): 1, ('arwen', 'treebeard'): 1, ('treebeard', 'arwen'): 1, ('arwen', 'saruman'): 1, ('saruman', 'arwen'): 1, ('elrond', 'treebeard'): 2, ('treebeard', 'elrond'): 2, ('legolas', 'treebeard'): 1, ('treebeard', 'legolas'): 1, ('gimli', 'treebeard'): 1, ('treebeard', 'gimli'): 1, ('treebeard', 'galadriel'): 2, ('galadriel', 'treebeard'): 2, ('galadriel', 'bilbo'): 3, ('bilbo', 'galadriel'): 3, ('saruman', 'bilbo'): 2, ('bilbo', 'saruman'): 2, ('frodo', 'treebeard'): 1, ('treebeard', 'frodo'): 1, ('sam', 'treebeard'): 1, ('treebeard', 'sam'): 1, ('bilbo', 'treebeard'): 1, ('treebeard', 'bilbo'): 1, ('sam', 'fatty'): 1, ('fatty', 'sam'): 1, ('frodo', 'fatty'): 1, ('fatty', 'frodo'): 1, ('fatty', 'pippin'): 1, ('pippin', 'fatty'): 1, ('fatty', 'merry'): 1, ('merry', 'fatty'): 1, ('fatty', 'galadriel'): 1, ('galadriel', 'fatty'): 1, ('fatty', 'bilbo'): 1, ('bilbo', 'fatty'): 1}\n"
     ]
    }
   ],
   "source": [
    "CoocMatrix ={}\n",
    "for parag in cleaned_parag: # Per paragraph, check if words are a Character\n",
    "\n",
    "    List = []\n",
    "    for w in parag.split():\n",
    "        if w in Characters and w not in List:\n",
    "            List.append(w)\n",
    "\n",
    "    n = len(List)\n",
    "    for i in range(n):\n",
    "        for j in range(i+1,n):\n",
    "            CoocMatrix[(List[i],List[j])] = CoocMatrix.get((List[i],List[j]) ,0)+1\n",
    "            CoocMatrix[(List[j],List[i])] = CoocMatrix.get((List[j],List[i]) ,0)+1\n",
    "\n",
    "\n",
    "print(CoocMatrix)"
   ]
  },
  {
   "cell_type": "code",
   "execution_count": 13,
   "id": "fdbde37d",
   "metadata": {},
   "outputs": [
    {
     "name": "stdout",
     "output_type": "stream",
     "text": [
      "                  arwen aragorn bilbo boromir beregond bergil denethor elrond  \\\n",
      "arwen                 0       5     1       0        0      0        0      5   \n",
      "aragorn               5       0     4       5        5      2       10     20   \n",
      "bilbo                 1       4     0       0        1      0        1      6   \n",
      "boromir               0       5     0       0        5      0       10      0   \n",
      "beregond              0       5     1       5        0      5       10      2   \n",
      "bergil                0       2     0       0        5      0        1      2   \n",
      "denethor              0      10     1      10       10      1        0      3   \n",
      "elrond                5      20     6       0        2      2        3      0   \n",
      "eomer                 0       0     0       0        0      0        0      0   \n",
      "eowyn                 0       0     0       0        0      0        0      0   \n",
      "faramir               2      15     1       7       10      2       14      4   \n",
      "frodo                 3      15    13       3        2      0        5      9   \n",
      "fredegard             0       0     0       0        0      0        0      0   \n",
      "galadriel             3       6     3       0        0      0        1      6   \n",
      "gandalf               3      35     7      11       15      4       22     19   \n",
      "gimli                 3      20     2       0        0      1        1     12   \n",
      "gollum                0       1     0       1        0      0        1      0   \n",
      "haldir                0       0     0       0        0      0        0      0   \n",
      "isildur               1       7     0       1        1      0        1      3   \n",
      "king of the deads     0       0     0       0        0      0        0      0   \n",
      "legolas               3      19     2       0        0      1        1     11   \n",
      "merry                 2      18     6       2        5      6        7     10   \n",
      "pippin                2      21     7      10       15      7       19     11   \n",
      "sam                   0       7     7       0        0      0        1      4   \n",
      "saruman               1       9     2       3        0      0        3      4   \n",
      "sauron                0      10     0       1        2      0        3      6   \n",
      "theoden               0       0     0       0        0      0        0      0   \n",
      "treebeard             1       3     1       1        0      0        1      2   \n",
      "the witch king        0       0     0       0        0      0        0      0   \n",
      "grima                 0       0     0       0        0      0        0      0   \n",
      "fatty                 0       0     1       0        0      0        0      0   \n",
      "rose cotton           0       0     0       0        0      0        0      0   \n",
      "tom cotton            0       0     0       0        0      0        0      0   \n",
      "shadowfax             1       6     0       4        6      1        8      3   \n",
      "\n",
      "                  eomer eowyn  ... saruman sauron theoden treebeard  \\\n",
      "arwen                 0     0  ...       1      0       0         1   \n",
      "aragorn               0     0  ...       9     10       0         3   \n",
      "bilbo                 0     0  ...       2      0       0         1   \n",
      "boromir               0     0  ...       3      1       0         1   \n",
      "beregond              0     0  ...       0      2       0         0   \n",
      "bergil                0     0  ...       0      0       0         0   \n",
      "denethor              0     0  ...       3      3       0         1   \n",
      "elrond                0     0  ...       4      6       0         2   \n",
      "eomer                 0     0  ...       0      0       0         0   \n",
      "eowyn                 0     0  ...       0      0       0         0   \n",
      "faramir               0     0  ...       3      3       0         2   \n",
      "frodo                 0     0  ...       5      5       0         1   \n",
      "fredegard             0     0  ...       0      0       0         0   \n",
      "galadriel             0     0  ...       3      3       0         2   \n",
      "gandalf               0     0  ...      11     12       0         3   \n",
      "gimli                 0     0  ...       3      7       0         1   \n",
      "gollum                0     0  ...       1      2       0         0   \n",
      "haldir                0     0  ...       0      0       0         0   \n",
      "isildur               0     0  ...       0      5       0         0   \n",
      "king of the deads     0     0  ...       0      0       0         0   \n",
      "legolas               0     0  ...       3      6       0         1   \n",
      "merry                 0     0  ...       7      2       0         2   \n",
      "pippin                0     0  ...       9      4       0         3   \n",
      "sam                   0     0  ...       4      6       0         1   \n",
      "saruman               0     0  ...       0      1       0         3   \n",
      "sauron                0     0  ...       1      0       0         0   \n",
      "theoden               0     0  ...       0      0       0         0   \n",
      "treebeard             0     0  ...       3      0       0         0   \n",
      "the witch king        0     0  ...       0      0       0         0   \n",
      "grima                 0     0  ...       0      0       0         0   \n",
      "fatty                 0     0  ...       0      0       0         0   \n",
      "rose cotton           0     0  ...       0      0       0         0   \n",
      "tom cotton            0     0  ...       0      0       0         0   \n",
      "shadowfax             0     0  ...       2      1       0         0   \n",
      "\n",
      "                  the witch king grima fatty rose cotton tom cotton shadowfax  \n",
      "arwen                          0     0     0           0          0         1  \n",
      "aragorn                        0     0     0           0          0         6  \n",
      "bilbo                          0     0     1           0          0         0  \n",
      "boromir                        0     0     0           0          0         4  \n",
      "beregond                       0     0     0           0          0         6  \n",
      "bergil                         0     0     0           0          0         1  \n",
      "denethor                       0     0     0           0          0         8  \n",
      "elrond                         0     0     0           0          0         3  \n",
      "eomer                          0     0     0           0          0         0  \n",
      "eowyn                          0     0     0           0          0         0  \n",
      "faramir                        0     0     0           0          0         6  \n",
      "frodo                          0     0     1           0          0         6  \n",
      "fredegard                      0     0     0           0          0         0  \n",
      "galadriel                      0     0     1           0          0         2  \n",
      "gandalf                        0     0     0           0          0        16  \n",
      "gimli                          0     0     0           0          0         3  \n",
      "gollum                         0     0     0           0          0         0  \n",
      "haldir                         0     0     0           0          0         0  \n",
      "isildur                        0     0     0           0          0         1  \n",
      "king of the deads              0     0     0           0          0         0  \n",
      "legolas                        0     0     0           0          0         3  \n",
      "merry                          0     0     1           0          0         7  \n",
      "pippin                         0     0     1           0          0        15  \n",
      "sam                            0     0     1           0          0         2  \n",
      "saruman                        0     0     0           0          0         2  \n",
      "sauron                         0     0     0           0          0         1  \n",
      "theoden                        0     0     0           0          0         0  \n",
      "treebeard                      0     0     0           0          0         0  \n",
      "the witch king                 0     0     0           0          0         0  \n",
      "grima                          0     0     0           0          0         0  \n",
      "fatty                          0     0     0           0          0         0  \n",
      "rose cotton                    0     0     0           0          0         0  \n",
      "tom cotton                     0     0     0           0          0         0  \n",
      "shadowfax                      0     0     0           0          0         0  \n",
      "\n",
      "[34 rows x 34 columns]\n"
     ]
    }
   ],
   "source": [
    "# DataFrame Coocurence\n",
    "df = pd.DataFrame(columns = Characters, index = Characters)\n",
    "df[:] = int(0)\n",
    "\n",
    "for key in CoocMatrix:\n",
    "    if key[0]==key[1] :\n",
    "        df[key[0]][key[1]] = CoocMatrix[key]\n",
    "    else:        \n",
    "        df[key[0]][key[1]] = CoocMatrix[key]\n",
    "\n",
    "\n",
    "\n",
    "print(df)"
   ]
  },
  {
   "cell_type": "code",
   "execution_count": null,
   "id": "c7bf00d0",
   "metadata": {},
   "outputs": [],
   "source": []
  },
  {
   "cell_type": "code",
   "execution_count": null,
   "id": "25aed06d",
   "metadata": {},
   "outputs": [],
   "source": []
  }
 ],
 "metadata": {
  "kernelspec": {
   "display_name": "Python 3",
   "language": "python",
   "name": "python3"
  },
  "language_info": {
   "codemirror_mode": {
    "name": "ipython",
    "version": 3
   },
   "file_extension": ".py",
   "mimetype": "text/x-python",
   "name": "python",
   "nbconvert_exporter": "python",
   "pygments_lexer": "ipython3",
   "version": "3.8.8"
  }
 },
 "nbformat": 4,
 "nbformat_minor": 5
}
