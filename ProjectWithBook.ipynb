{
 "cells": [
  {
   "cell_type": "markdown",
   "id": "07cd54cc",
   "metadata": {},
   "source": [
    "# Projet 1"
   ]
  },
  {
   "cell_type": "code",
   "execution_count": 42,
   "id": "4d756869",
   "metadata": {},
   "outputs": [],
   "source": [
    "import re\n",
    "\n",
    "import pandas as pd\n",
    "import networkx as ntw\n",
    "import numpy as np\n",
    "import matplotlib.pyplot as plt"
   ]
  },
  {
   "cell_type": "code",
   "execution_count": 3,
   "id": "4496f31a",
   "metadata": {},
   "outputs": [],
   "source": [
    "book =  open(\"LOTR_ReturnOfTheKing.txt\").read()\n",
    "book_chapters = re.split(r\"_Chapter \\w+_\",book)[1:]"
   ]
  },
  {
   "cell_type": "code",
   "execution_count": 59,
   "id": "7240d99f",
   "metadata": {},
   "outputs": [],
   "source": [
    "Characters = ['Frodo', 'Sam', 'Gandalf','Pippin'] # à mettre à jour"
   ]
  },
  {
   "cell_type": "code",
   "execution_count": 82,
   "id": "77cb4ef5",
   "metadata": {},
   "outputs": [
    {
     "name": "stdout",
     "output_type": "stream",
     "text": [
      "['\\n                           ', '\\n                           ', '\\n                           ', '\\n                           ', '\\n                           ', '                           ', '\\n                           ', '\\n                           ', '\\n                           ', '\\n                           ', '\\n                           ', '\\n                           ', '\\n                           ', '\\n                           ', '\\n                           ', '\\n                           ', '\\n                           ', '\\n                           ', '                                                     \\n']\n"
     ]
    }
   ],
   "source": [
    "## CLEANING \n",
    "\n",
    "cleaned_parag =[]\n",
    "for ChapterNb, Chapter in enumerate(book_chapters):\n",
    "    paragraphsEnsemble = Chapter.split(\"\\n\\n\")\n",
    "    for parag in paragraphsEnsemble :\n",
    "        new_parag = re.sub(r\",|.\", \" \", parag)\n",
    "    cleaned_parag.append(new_parag)\n",
    "print(cleaned_parag)\n",
    "\n",
    "    \n",
    "        \n",
    "\n",
    "\n",
    "    "
   ]
  },
  {
   "cell_type": "markdown",
   "id": "9c3eff40",
   "metadata": {},
   "source": [
    "Data transformation"
   ]
  },
  {
   "cell_type": "code",
   "execution_count": 41,
   "id": "ab16e8a2",
   "metadata": {},
   "outputs": [
    {
     "name": "stdout",
     "output_type": "stream",
     "text": [
      "{('Pippin', 'Pippin'): 92, ('Pippin', 'Gandalf'): 186, ('Gandalf', 'Pippin'): 186, ('Pippin', 'Frodo'): 102, ('Frodo', 'Pippin'): 102, ('Gandalf', 'Gandalf'): 110, ('Gandalf', 'Frodo'): 120, ('Frodo', 'Gandalf'): 120, ('Frodo', 'Frodo'): 96, ('Gandalf', 'Sam'): 60, ('Sam', 'Gandalf'): 60, ('Pippin', 'Sam'): 60, ('Sam', 'Pippin'): 60, ('Sam', 'Sam'): 72, ('Sam', 'Frodo'): 192, ('Frodo', 'Sam'): 192}\n"
     ]
    }
   ],
   "source": [
    "CoocMatrix ={}\n",
    "for ChapterNb, Chapter in enumerate(book_chapters):\n",
    "    paragraphsEnsemble = Chapter.split(\"\\n\\n\")\n",
    "    \n",
    "    for parag in paragraphsEnsemble: # Per paragraph, check if words are a Character\n",
    "    \n",
    "        List = []\n",
    "        for w in parag.split():\n",
    "            if w in Characters and w not in List:\n",
    "                List.append(w)\n",
    "            \n",
    "        n = len(List)\n",
    "        for i in range(n):\n",
    "            for j in range(i+1,n):\n",
    "                CoocMatrix[(List[i],List[j])] = CoocMatrix.get((List[i],List[j]) ,0)+1\n",
    "                CoocMatrix[(List[j],List[i])] = CoocMatrix.get((List[j],List[i]) ,0)+1\n",
    "\n",
    "print(CoocMatrix)"
   ]
  },
  {
   "cell_type": "code",
   "execution_count": 58,
   "id": "fdbde37d",
   "metadata": {},
   "outputs": [
    {
     "name": "stdout",
     "output_type": "stream",
     "text": [
      "        Frodo  Sam Gandalf Pippin\n",
      "Frodo       0  192     120    102\n",
      "Sam       192    0      60     60\n",
      "Gandalf   120   60       0    186\n",
      "Pippin    102   60     186      0\n"
     ]
    }
   ],
   "source": [
    "# DataFrame Coocurence\n",
    "df = pd.DataFrame(columns = Characters, index = Characters)\n",
    "df[:] = int(0)\n",
    "\n",
    "for key in CoocMatrix:\n",
    "    if key[0]==key[1] :\n",
    "        df[key[0]][key[1]] = 0\n",
    "    else:        \n",
    "        df[key[0]][key[1]] = CoocMatrix[key]\n",
    "\n",
    "print(df) "
   ]
  },
  {
   "cell_type": "code",
   "execution_count": null,
   "id": "c7bf00d0",
   "metadata": {},
   "outputs": [],
   "source": []
  }
 ],
 "metadata": {
  "kernelspec": {
   "display_name": "Python 3",
   "language": "python",
   "name": "python3"
  },
  "language_info": {
   "codemirror_mode": {
    "name": "ipython",
    "version": 3
   },
   "file_extension": ".py",
   "mimetype": "text/x-python",
   "name": "python",
   "nbconvert_exporter": "python",
   "pygments_lexer": "ipython3",
   "version": "3.8.8"
  }
 },
 "nbformat": 4,
 "nbformat_minor": 5
}
