{
 "cells": [
  {
   "cell_type": "markdown",
   "id": "774f3dff",
   "metadata": {},
   "source": [
    "# Project 1 #"
   ]
  },
  {
   "cell_type": "code",
   "execution_count": 1,
   "id": "2def2860",
   "metadata": {},
   "outputs": [],
   "source": [
    "import docx"
   ]
  },
  {
   "cell_type": "code",
   "execution_count": 2,
   "id": "2c247a3d",
   "metadata": {},
   "outputs": [],
   "source": [
    "LORdoc = docx.Document('LordOfTheRingsReturnOfTheKing.docx')"
   ]
  },
  {
   "cell_type": "markdown",
   "id": "d46d9004",
   "metadata": {},
   "source": [
    "Useful information"
   ]
  },
  {
   "cell_type": "code",
   "execution_count": 3,
   "id": "e0d2b635",
   "metadata": {
    "scrolled": true
   },
   "outputs": [
    {
     "name": "stdout",
     "output_type": "stream",
     "text": [
      "there are 7106 lines in the document\n"
     ]
    }
   ],
   "source": [
    "n_lines = len(LORdoc.paragraphs)\n",
    "print(\"there are \"+ str(n_lines) + \" lines in the document\")"
   ]
  },
  {
   "cell_type": "code",
   "execution_count": 4,
   "id": "b57900c4",
   "metadata": {},
   "outputs": [
    {
     "name": "stdout",
     "output_type": "stream",
     "text": [
      "Title: THE LORD OF THE RINGS: THE RETURN OF THE KING \n"
     ]
    }
   ],
   "source": [
    "Title = LORdoc.paragraphs[0].text.split('BLACK SCREEN')[0]\n",
    "print(\"Title: \" + Title)"
   ]
  },
  {
   "cell_type": "markdown",
   "id": "b63b280c",
   "metadata": {},
   "source": [
    "There a 2 important things: first paragraphs and then Runs objects. \n",
    " - Paragraph: it is whenever a one presses ENTER or RETURN while typing on the Word document. \n",
    " - Run: it's a continuous run of text with the same style. A new Run object is necessary whenever the text style changes"
   ]
  },
  {
   "cell_type": "code",
   "execution_count": 5,
   "id": "d21947a6",
   "metadata": {},
   "outputs": [
    {
     "name": "stdout",
     "output_type": "stream",
     "text": [
      "SMEAGOL\n",
      "SMEAGOL\n"
     ]
    }
   ],
   "source": [
    "n = 21\n",
    "print(LORdoc.paragraphs[n].text)\n",
    "for run in LORdoc.paragraphs[n].runs:\n",
    "    print(run.text)"
   ]
  },
  {
   "cell_type": "code",
   "execution_count": 6,
   "id": "c5955be1",
   "metadata": {
    "scrolled": true
   },
   "outputs": [
    {
     "name": "stdout",
     "output_type": "stream",
     "text": [
      "There are 199 scenes in THE LORD OF THE RINGS: THE RETURN OF THE KING \n"
     ]
    }
   ],
   "source": [
    "n_scences = 0\n",
    "for lines in LORdoc.paragraphs:\n",
    "    #print(\"paragraph at hand: \" + lines.text)\n",
    "    if('EXT.' in lines.text or 'INT.' in lines.text):\n",
    "        n_scences+=1\n",
    "        #print(\"scene number\" + str(n_scences)+ \":\" +lines.text)\n",
    "print(\"There are \"+ str(n_scences)+ \" scenes in \" +Title)"
   ]
  },
  {
   "cell_type": "code",
   "execution_count": 7,
   "id": "89e5d75c",
   "metadata": {
    "scrolled": true
   },
   "outputs": [
    {
     "name": "stdout",
     "output_type": "stream",
     "text": [
      "Example on character's name: SMEAGOL\n"
     ]
    }
   ],
   "source": [
    "print(\"Example on character's name: \"+ LORdoc.paragraphs[21].text)"
   ]
  },
  {
   "cell_type": "code",
   "execution_count": 8,
   "id": "89797671",
   "metadata": {
    "scrolled": true
   },
   "outputs": [
    {
     "data": {
      "text/plain": [
       "True"
      ]
     },
     "execution_count": 8,
     "metadata": {},
     "output_type": "execute_result"
    }
   ],
   "source": [
    "LORdoc.paragraphs[21].alignment == 2 # dans mon parseur, les personnages sont à droite"
   ]
  },
  {
   "cell_type": "code",
   "execution_count": 9,
   "id": "04023013",
   "metadata": {},
   "outputs": [],
   "source": [
    "import re"
   ]
  },
  {
   "cell_type": "code",
   "execution_count": 10,
   "id": "08bd1ffb",
   "metadata": {},
   "outputs": [],
   "source": [
    "def normaliseWord(word):\n",
    "    word = word.lower().strip('.')\n",
    "    word= re.sub('!', '', word)\n",
    "    word = re.sub(',','',word)\n",
    "    word = re.sub(\"\\\\n\",'',word)\n",
    "    word = re.sub(\"\\(\",'',word)\n",
    "    word = re.sub(\"\\)\",'',word)\n",
    "    #word = re.sub(\"\\'\\''\",'',word)\n",
    "    word = re.sub(\"·\",'',word)\n",
    "    word = re.sub(\";\",'',word)\n",
    "    \n",
    "    return word"
   ]
  },
  {
   "cell_type": "code",
   "execution_count": 11,
   "id": "55874722",
   "metadata": {
    "scrolled": true
   },
   "outputs": [],
   "source": [
    "#ame = re.sub('[\\(\\)\\{\\}<>]', '', name)\n",
    "nb_perso =0\n",
    "PersoVector = []\n",
    "for l in LORdoc.paragraphs:\n",
    "    if (l.alignment ==2 or l.alignment ==1) and '(CONTINUED)' not in l.text and 'DISSOLVE TO:'not in l.text and 'INTERCUT WITH:' not in l.text and len(l.text.split())==1: \n",
    "        perso = l.text\n",
    "        perso = normaliseWord(perso)\n",
    "        \n",
    "        if(perso not in PersoVector and len(perso)>0):\n",
    "            nb_perso+=1\n",
    "            PersoVector.append(perso)\n",
    "\n",
    "PersoVector.sort()\n",
    "PersoVector = PersoVector[3:]\n",
    "nb_perso -=3"
   ]
  },
  {
   "cell_type": "code",
   "execution_count": 12,
   "id": "f5fc27ba",
   "metadata": {
    "scrolled": true
   },
   "outputs": [
    {
     "name": "stdout",
     "output_type": "stream",
     "text": [
      "Number of characters : 36\n"
     ]
    }
   ],
   "source": [
    "print(\"Number of characters : \"+ str(nb_perso))"
   ]
  },
  {
   "cell_type": "code",
   "execution_count": 13,
   "id": "e40a5973",
   "metadata": {},
   "outputs": [
    {
     "name": "stdout",
     "output_type": "stream",
     "text": [
      "['aragorn', 'bilbo', 'bitter', 'candalf', 'deagol', 'denethor', 'elrond', 'eomer', 'eowyn', 'faramir', 'frodo', 'gandalf', 'gimli', 'gollum', 'gorbag', 'gothmog', 'grimly', 'here', 'iorlas', 'legolas', 'lieutenant', 'madril', 'merry', 'more', 'no', 'orcs', 'pippin', 'rohirrim', 'sam', 'shagrat', 'smeagol', 'smiling', 'snarl', 'soldier', 'theoden', 'yelling']\n"
     ]
    }
   ],
   "source": [
    "print(PersoVector)"
   ]
  },
  {
   "cell_type": "markdown",
   "id": "1cdf2ecb",
   "metadata": {},
   "source": [
    "Concatenation par scène "
   ]
  },
  {
   "cell_type": "code",
   "execution_count": 14,
   "id": "4a412500",
   "metadata": {},
   "outputs": [],
   "source": [
    "string_textfinal = \"\"\n",
    "for i in LORdoc.paragraphs:\n",
    "    string_textfinal = string_textfinal + i.text\n",
    "\n",
    "a = string_textfinal.split(\"EXT.\")\n",
    "\n",
    "for ext in range(len(a)):\n",
    "    a[ext] = a[ext].split(\"INT.\")\n",
    "\n",
    "\n",
    "scenes = []\n",
    "\n",
    "for i in range(len(a)):\n",
    "    for j in range(len(a[i])):\n",
    "        scenes.append(a[i][j])"
   ]
  },
  {
   "cell_type": "markdown",
   "id": "478dfc96",
   "metadata": {},
   "source": [
    "counter pour 1 scene:"
   ]
  },
  {
   "cell_type": "code",
   "execution_count": 15,
   "id": "025e6cc0",
   "metadata": {},
   "outputs": [
    {
     "name": "stdout",
     "output_type": "stream",
     "text": [
      " EDORAS - DAYWIDE: BACK SHOT - a GROUP OF RIDERS gallop towards the ROHAN CITY of EDORAS . . .PUSH IN: EOWYN standing alone outside the GOLDEN HALL, waiting . . .\n",
      "{'eowyn': 1}\n"
     ]
    }
   ],
   "source": [
    "S9 = scenes[9]\n",
    "print(S9)\n",
    "counterCharVec = dict()\n",
    "for elmt in S9.split():\n",
    "    normalisedElmt = normaliseWord(elmt)\n",
    "    if normalisedElmt in PersoVector:\n",
    "        #  counts[i] = counts.get(i, 0) + 1\n",
    "        counterCharVec[normalisedElmt]  = counterCharVec.get(normalisedElmt,0)+1\n",
    "\n",
    "print(counterCharVec)"
   ]
  },
  {
   "cell_type": "code",
   "execution_count": 35,
   "id": "dbbbf6a7",
   "metadata": {},
   "outputs": [],
   "source": [
    "PairDico = {}"
   ]
  },
  {
   "cell_type": "code",
   "execution_count": 36,
   "id": "5a8c608a",
   "metadata": {},
   "outputs": [
    {
     "name": "stdout",
     "output_type": "stream",
     "text": [
      "chacters in this scene:\n",
      "[]\n",
      "chacters in this scene:\n",
      "['smeagol', 'deagol']\n",
      "chacters in this scene:\n",
      "['deagol']\n",
      "chacters in this scene:\n",
      "['deagol', 'smeagol']\n",
      "chacters in this scene:\n",
      "['smeagol', 'gollum']\n",
      "chacters in this scene:\n",
      "['frodo', 'sam', 'gollum', 'no']\n",
      "chacters in this scene:\n",
      "['frodo', 'sam', 'gollum', 'no', 'here']\n",
      "chacters in this scene:\n",
      "['aragorn', 'legolas', 'theoden', 'gimli']\n",
      "chacters in this scene:\n",
      "['merry', 'pippin', 'gandalf', 'aragorn', 'legolas', 'gimli', 'here', 'no']\n",
      "chacters in this scene:\n",
      "['eowyn']\n",
      "{('smeagol', 'smeagol'): 6, ('smeagol', 'deagol'): 4, ('deagol', 'smeagol'): 3, ('deagol', 'deagol'): 6, ('smeagol', 'gollum'): 1, ('gollum', 'smeagol'): 2, ('gollum', 'gollum'): 6, ('frodo', 'frodo'): 4, ('frodo', 'sam'): 2, ('sam', 'frodo'): 3, ('frodo', 'gollum'): 2, ('gollum', 'frodo'): 3, ('frodo', 'no'): 2, ('no', 'frodo'): 3, ('sam', 'sam'): 4, ('sam', 'gollum'): 2, ('gollum', 'sam'): 3, ('sam', 'no'): 2, ('no', 'sam'): 3, ('gollum', 'no'): 2, ('no', 'gollum'): 3, ('no', 'no'): 6, ('frodo', 'here'): 1, ('here', 'frodo'): 2, ('sam', 'here'): 1, ('here', 'sam'): 2, ('gollum', 'here'): 1, ('here', 'gollum'): 2, ('no', 'here'): 4, ('here', 'no'): 3, ('here', 'here'): 4, ('aragorn', 'aragorn'): 4, ('aragorn', 'legolas'): 2, ('legolas', 'aragorn'): 3, ('aragorn', 'theoden'): 1, ('theoden', 'aragorn'): 2, ('aragorn', 'gimli'): 2, ('gimli', 'aragorn'): 3, ('legolas', 'legolas'): 4, ('legolas', 'theoden'): 1, ('theoden', 'legolas'): 2, ('legolas', 'gimli'): 2, ('gimli', 'legolas'): 3, ('theoden', 'theoden'): 2, ('theoden', 'gimli'): 1, ('gimli', 'theoden'): 2, ('gimli', 'gimli'): 4, ('merry', 'merry'): 2, ('merry', 'pippin'): 1, ('pippin', 'merry'): 2, ('merry', 'gandalf'): 1, ('gandalf', 'merry'): 2, ('merry', 'aragorn'): 1, ('aragorn', 'merry'): 2, ('merry', 'legolas'): 1, ('legolas', 'merry'): 2, ('merry', 'gimli'): 1, ('gimli', 'merry'): 2, ('merry', 'here'): 1, ('here', 'merry'): 2, ('merry', 'no'): 1, ('no', 'merry'): 2, ('pippin', 'pippin'): 2, ('pippin', 'gandalf'): 1, ('gandalf', 'pippin'): 2, ('pippin', 'aragorn'): 1, ('aragorn', 'pippin'): 2, ('pippin', 'legolas'): 1, ('legolas', 'pippin'): 2, ('pippin', 'gimli'): 1, ('gimli', 'pippin'): 2, ('pippin', 'here'): 1, ('here', 'pippin'): 2, ('pippin', 'no'): 1, ('no', 'pippin'): 2, ('gandalf', 'gandalf'): 2, ('gandalf', 'aragorn'): 1, ('aragorn', 'gandalf'): 2, ('gandalf', 'legolas'): 1, ('legolas', 'gandalf'): 2, ('gandalf', 'gimli'): 1, ('gimli', 'gandalf'): 2, ('gandalf', 'here'): 1, ('here', 'gandalf'): 2, ('gandalf', 'no'): 1, ('no', 'gandalf'): 2, ('aragorn', 'here'): 1, ('here', 'aragorn'): 2, ('aragorn', 'no'): 1, ('no', 'aragorn'): 2, ('legolas', 'here'): 1, ('here', 'legolas'): 2, ('legolas', 'no'): 1, ('no', 'legolas'): 2, ('gimli', 'here'): 1, ('here', 'gimli'): 2, ('gimli', 'no'): 1, ('no', 'gimli'): 2, ('eowyn', 'eowyn'): 2}\n"
     ]
    }
   ],
   "source": [
    "for s in scenes[:10]: \n",
    "    PresentCharacters =[]\n",
    "    \n",
    "    for word in s.split():\n",
    "        word = normaliseWord(word)\n",
    "        if word in PersoVector and word not in PresentCharacters:\n",
    "            PresentCharacters.append(word)\n",
    "    print(\"chacters in this scene:\")\n",
    "    print(PresentCharacters)\n",
    "    for i in range(len(PresentCharacters)):\n",
    "        for j in range(i,len(PresentCharacters)):\n",
    "            PairDico[(PresentCharacters[i],PresentCharacters[j])] = PairDico.get((PresentCharacters[i],PresentCharacters[j]),0)+1\n",
    "            PairDico[(PresentCharacters[j],PresentCharacters[i])] = PairDico.get((PresentCharacters[i],PresentCharacters[j]),0)+1\n",
    "            \n",
    "print(PairDico)    "
   ]
  },
  {
   "cell_type": "code",
   "execution_count": null,
   "id": "8f034cfe",
   "metadata": {},
   "outputs": [],
   "source": []
  },
  {
   "cell_type": "code",
   "execution_count": null,
   "id": "fc17eefa",
   "metadata": {},
   "outputs": [],
   "source": []
  },
  {
   "cell_type": "code",
   "execution_count": null,
   "id": "e123e026",
   "metadata": {},
   "outputs": [],
   "source": []
  },
  {
   "cell_type": "code",
   "execution_count": null,
   "id": "2f5ae290",
   "metadata": {},
   "outputs": [],
   "source": []
  },
  {
   "cell_type": "code",
   "execution_count": null,
   "id": "65e6e9cb",
   "metadata": {},
   "outputs": [],
   "source": []
  },
  {
   "cell_type": "code",
   "execution_count": null,
   "id": "c8fea2fd",
   "metadata": {},
   "outputs": [],
   "source": []
  },
  {
   "cell_type": "code",
   "execution_count": null,
   "id": "63a5caa3",
   "metadata": {},
   "outputs": [],
   "source": []
  },
  {
   "cell_type": "code",
   "execution_count": null,
   "id": "3e43b4ce",
   "metadata": {},
   "outputs": [],
   "source": []
  },
  {
   "cell_type": "code",
   "execution_count": null,
   "id": "2015dd5a",
   "metadata": {},
   "outputs": [],
   "source": []
  },
  {
   "cell_type": "code",
   "execution_count": null,
   "id": "19ce5ac7",
   "metadata": {},
   "outputs": [],
   "source": []
  },
  {
   "cell_type": "code",
   "execution_count": null,
   "id": "aa0c5586",
   "metadata": {},
   "outputs": [],
   "source": []
  },
  {
   "cell_type": "markdown",
   "id": "32f83a8d",
   "metadata": {},
   "source": [
    "## Construct co-occurence matrix"
   ]
  },
  {
   "cell_type": "markdown",
   "id": "699d70c2",
   "metadata": {},
   "source": []
  }
 ],
 "metadata": {
  "kernelspec": {
   "display_name": "Python 3",
   "language": "python",
   "name": "python3"
  },
  "language_info": {
   "codemirror_mode": {
    "name": "ipython",
    "version": 3
   },
   "file_extension": ".py",
   "mimetype": "text/x-python",
   "name": "python",
   "nbconvert_exporter": "python",
   "pygments_lexer": "ipython3",
   "version": "3.8.8"
  }
 },
 "nbformat": 4,
 "nbformat_minor": 5
}
