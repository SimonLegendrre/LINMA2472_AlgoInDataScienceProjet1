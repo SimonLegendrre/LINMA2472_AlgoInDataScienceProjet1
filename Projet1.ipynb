{
 "cells": [
  {
   "cell_type": "markdown",
   "id": "774f3dff",
   "metadata": {},
   "source": [
    "# Project 1 #"
   ]
  },
  {
   "cell_type": "code",
   "execution_count": 1,
   "id": "2def2860",
   "metadata": {},
   "outputs": [],
   "source": [
    "import docx"
   ]
  },
  {
   "cell_type": "code",
   "execution_count": 2,
   "id": "1f9002a6",
   "metadata": {},
   "outputs": [],
   "source": [
    "LORdoc = docx.Document('LordOfTheRingsReturnOfTheKing.docx')"
   ]
  },
  {
   "cell_type": "markdown",
   "id": "572047d7",
   "metadata": {},
   "source": [
    "Useful information"
   ]
  },
  {
   "cell_type": "code",
   "execution_count": 14,
   "id": "58ee4b13",
   "metadata": {
    "scrolled": true
   },
   "outputs": [
    {
     "name": "stdout",
     "output_type": "stream",
     "text": [
      "there are 7106 lines in the document\n"
     ]
    }
   ],
   "source": [
    "n_lines = len(LORdoc.paragraphs)\n",
    "print(\"there are \"+ str(n_lines) + \" lines in the document\")"
   ]
  },
  {
   "cell_type": "code",
   "execution_count": 48,
   "id": "264a1366",
   "metadata": {},
   "outputs": [
    {
     "name": "stdout",
     "output_type": "stream",
     "text": [
      "Title: THE LORD OF THE RINGS: THE RETURN OF THE KING \n"
     ]
    }
   ],
   "source": [
    "Title = LORdoc.paragraphs[0].text.split('BLACK SCREEN')[0]\n",
    "print(\"Title: \" + Title)"
   ]
  },
  {
   "cell_type": "markdown",
   "id": "f0101041",
   "metadata": {},
   "source": [
    "There a 2 important things: first paragraphs and then Runs objects. \n",
    " - Paragraph: it is whenever a one presses ENTER or RETURN while typing on the Word document. \n",
    " - Run: it's a continuous run of text with the same style. A new Run object is necessary whenever the text style changes"
   ]
  },
  {
   "cell_type": "code",
   "execution_count": 66,
   "id": "639050bb",
   "metadata": {},
   "outputs": [
    {
     "name": "stdout",
     "output_type": "stream",
     "text": [
      "SMEAGOL\n",
      "SMEAGOL\n"
     ]
    }
   ],
   "source": [
    "n = 21\n",
    "print(LORdoc.paragraphs[n].text)\n",
    "for run in LORdoc.paragraphs[n].runs:\n",
    "    print(run.text)"
   ]
  },
  {
   "cell_type": "code",
   "execution_count": 61,
   "id": "a549e586",
   "metadata": {
    "scrolled": true
   },
   "outputs": [
    {
     "name": "stdout",
     "output_type": "stream",
     "text": [
      "There are 199 scenes in THE LORD OF THE RINGS: THE RETURN OF THE KING \n"
     ]
    }
   ],
   "source": [
    "n_scences = 0\n",
    "for lines in LORdoc.paragraphs:\n",
    "    #print(\"paragraph at hand: \" + lines.text)\n",
    "    if('EXT.' in lines.text or 'INT.' in lines.text):\n",
    "        n_scences+=1\n",
    "        #print(\"scene number\" + str(n_scences)+ \":\" +lines.text)\n",
    "print(\"There are \"+ str(n_scences)+ \" scenes in \" +Title)"
   ]
  },
  {
   "cell_type": "code",
   "execution_count": 68,
   "id": "f36ae370",
   "metadata": {
    "scrolled": true
   },
   "outputs": [
    {
     "name": "stdout",
     "output_type": "stream",
     "text": [
      "Example on character's name: SMEAGOL\n"
     ]
    }
   ],
   "source": [
    "print(\"Example on character's name: \"+ LORdoc.paragraphs[21].text)"
   ]
  },
  {
   "cell_type": "code",
   "execution_count": 71,
   "id": "c758b2c9",
   "metadata": {
    "scrolled": true
   },
   "outputs": [
    {
     "data": {
      "text/plain": [
       "True"
      ]
     },
     "execution_count": 71,
     "metadata": {},
     "output_type": "execute_result"
    }
   ],
   "source": [
    "LORdoc.paragraphs[21].alignment == 2 # dans mon parseur, les personnages sont à droite"
   ]
  },
  {
   "cell_type": "code",
   "execution_count": 109,
   "id": "1750d22f",
   "metadata": {},
   "outputs": [],
   "source": [
    "import re"
   ]
  },
  {
   "cell_type": "code",
   "execution_count": 252,
   "id": "2315b40b",
   "metadata": {},
   "outputs": [],
   "source": [
    "def normaliseWord(word):\n",
    "    word = word.lower().strip('.')\n",
    "    word= re.sub('!', '', word)\n",
    "    word = re.sub(',','',word)\n",
    "    word = re.sub(\"\\\\n\",'',word)\n",
    "    word = re.sub(\"\\(\",'',word)\n",
    "    word = re.sub(\"\\)\",'',word)\n",
    "    #word = re.sub(\"\\'\\''\",'',word)\n",
    "    word = re.sub(\"·\",'',word)\n",
    "    word = re.sub(\";\",'',word)\n",
    "    \n",
    "    return word"
   ]
  },
  {
   "cell_type": "code",
   "execution_count": 253,
   "id": "5af46d72",
   "metadata": {
    "scrolled": true
   },
   "outputs": [],
   "source": [
    "#ame = re.sub('[\\(\\)\\{\\}<>]', '', name)\n",
    "nb_perso =0\n",
    "PersoVector = []\n",
    "for l in LORdoc.paragraphs:\n",
    "    if (l.alignment ==2 or l.alignment ==1) and '(CONTINUED)' not in l.text and 'DISSOLVE TO:'not in l.text and 'INTERCUT WITH:' not in l.text and len(l.text.split())==1: \n",
    "        perso = l.text\n",
    "        perso = normaliseWord(perso)\n",
    "        \n",
    "        if(perso not in PersoVector and len(perso)>0):\n",
    "            nb_perso+=1\n",
    "            PersoVector.append(perso)\n",
    "\n",
    "PersoVector.sort()\n",
    "PersoVector = PersoVector[3:]\n",
    "nb_perso -=3"
   ]
  },
  {
   "cell_type": "code",
   "execution_count": 254,
   "id": "f9fd629f",
   "metadata": {
    "scrolled": true
   },
   "outputs": [
    {
     "name": "stdout",
     "output_type": "stream",
     "text": [
      "Number of characters : 36\n"
     ]
    }
   ],
   "source": [
    "print(\"Number of characters : \"+ str(nb_perso))"
   ]
  },
  {
   "cell_type": "code",
   "execution_count": 255,
   "id": "f9ba3978",
   "metadata": {},
   "outputs": [
    {
     "name": "stdout",
     "output_type": "stream",
     "text": [
      "['aragorn', 'bilbo', 'bitter', 'candalf', 'deagol', 'denethor', 'elrond', 'eomer', 'eowyn', 'faramir', 'frodo', 'gandalf', 'gimli', 'gollum', 'gorbag', 'gothmog', 'grimly', 'here', 'iorlas', 'legolas', 'lieutenant', 'madril', 'merry', 'more', 'no', 'orcs', 'pippin', 'rohirrim', 'sam', 'shagrat', 'smeagol', 'smiling', 'snarl', 'soldier', 'theoden', 'yelling']\n"
     ]
    }
   ],
   "source": [
    "print(PersoVector)"
   ]
  },
  {
   "cell_type": "markdown",
   "id": "b7fd9841",
   "metadata": {},
   "source": [
    "Concatenation par scène "
   ]
  },
  {
   "cell_type": "code",
   "execution_count": 232,
   "id": "1bfd22d5",
   "metadata": {},
   "outputs": [],
   "source": [
    "string_textfinal = \"\"\n",
    "for i in LORdoc.paragraphs:\n",
    "    string_textfinal = string_textfinal + i.text\n",
    "\n",
    "a = string_textfinal.split(\"EXT.\")\n",
    "\n",
    "for ext in range(len(a)):\n",
    "    a[ext] = a[ext].split(\"INT.\")\n",
    "\n",
    "\n",
    "scenes = []\n",
    "\n",
    "for i in range(len(a)):\n",
    "    for j in range(len(a[i])):\n",
    "        scenes.append(a[i][j])"
   ]
  },
  {
   "cell_type": "code",
   "execution_count": null,
   "id": "494891e4",
   "metadata": {},
   "outputs": [],
   "source": []
  },
  {
   "cell_type": "code",
   "execution_count": null,
   "id": "463f8740",
   "metadata": {},
   "outputs": [],
   "source": []
  },
  {
   "cell_type": "code",
   "execution_count": 240,
   "id": "64598a4b",
   "metadata": {},
   "outputs": [],
   "source": [
    "# Matrix ne fonctionne pas \n",
    "MatrixPair= []\n",
    "for s in scenes:\n",
    "    for word in s:\n",
    "        w= normaliseWord(word)\n",
    "        if(w in PersoVector):\n",
    "            print(\"salut\")"
   ]
  },
  {
   "cell_type": "code",
   "execution_count": null,
   "id": "b59b2e82",
   "metadata": {},
   "outputs": [],
   "source": []
  },
  {
   "cell_type": "code",
   "execution_count": null,
   "id": "50433275",
   "metadata": {},
   "outputs": [],
   "source": []
  },
  {
   "cell_type": "code",
   "execution_count": null,
   "id": "2c47c5a4",
   "metadata": {},
   "outputs": [],
   "source": []
  },
  {
   "cell_type": "code",
   "execution_count": null,
   "id": "3d6984e1",
   "metadata": {},
   "outputs": [],
   "source": []
  },
  {
   "cell_type": "code",
   "execution_count": null,
   "id": "57d9254c",
   "metadata": {},
   "outputs": [],
   "source": []
  },
  {
   "cell_type": "code",
   "execution_count": null,
   "id": "ff86f240",
   "metadata": {},
   "outputs": [],
   "source": []
  },
  {
   "cell_type": "code",
   "execution_count": null,
   "id": "b798f5fa",
   "metadata": {},
   "outputs": [],
   "source": []
  },
  {
   "cell_type": "code",
   "execution_count": null,
   "id": "624d38c0",
   "metadata": {},
   "outputs": [],
   "source": []
  },
  {
   "cell_type": "code",
   "execution_count": null,
   "id": "32dad583",
   "metadata": {},
   "outputs": [],
   "source": []
  },
  {
   "cell_type": "code",
   "execution_count": null,
   "id": "1a4beee3",
   "metadata": {},
   "outputs": [],
   "source": []
  },
  {
   "cell_type": "code",
   "execution_count": null,
   "id": "99c387a2",
   "metadata": {},
   "outputs": [],
   "source": []
  },
  {
   "cell_type": "markdown",
   "id": "32f83a8d",
   "metadata": {},
   "source": [
    "## Construct co-occurence matrix"
   ]
  },
  {
   "cell_type": "markdown",
   "id": "699d70c2",
   "metadata": {},
   "source": []
  }
 ],
 "metadata": {
  "kernelspec": {
   "display_name": "Python 3 (ipykernel)",
   "language": "python",
   "name": "python3"
  },
  "language_info": {
   "codemirror_mode": {
    "name": "ipython",
    "version": 3
   },
   "file_extension": ".py",
   "mimetype": "text/x-python",
   "name": "python",
   "nbconvert_exporter": "python",
   "pygments_lexer": "ipython3",
   "version": "3.8.11"
  }
 },
 "nbformat": 4,
 "nbformat_minor": 5
}
