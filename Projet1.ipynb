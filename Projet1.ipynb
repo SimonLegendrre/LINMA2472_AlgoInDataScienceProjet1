{
 "cells": [
  {
   "cell_type": "markdown",
   "id": "774f3dff",
   "metadata": {},
   "source": [
    "# Project 1 #"
   ]
  },
  {
   "cell_type": "code",
   "execution_count": 1,
   "id": "2def2860",
   "metadata": {},
   "outputs": [],
   "source": [
    "import docx"
   ]
  },
  {
   "cell_type": "code",
   "execution_count": 2,
   "id": "2c247a3d",
   "metadata": {},
   "outputs": [],
   "source": [
    "LORdoc = docx.Document('LordOfTheRingsReturnOfTheKing.docx')"
   ]
  },
  {
   "cell_type": "markdown",
   "id": "d46d9004",
   "metadata": {},
   "source": [
    "Useful information"
   ]
  },
  {
   "cell_type": "code",
   "execution_count": 14,
   "id": "e0d2b635",
   "metadata": {
    "scrolled": true
   },
   "outputs": [
    {
     "name": "stdout",
     "output_type": "stream",
     "text": [
      "there are 7106 lines in the document\n"
     ]
    }
   ],
   "source": [
    "n_lines = len(LORdoc.paragraphs)\n",
    "print(\"there are \"+ str(n_lines) + \" lines in the document\")"
   ]
  },
  {
   "cell_type": "code",
   "execution_count": 48,
   "id": "b57900c4",
   "metadata": {},
   "outputs": [
    {
     "name": "stdout",
     "output_type": "stream",
     "text": [
      "Title: THE LORD OF THE RINGS: THE RETURN OF THE KING \n"
     ]
    }
   ],
   "source": [
    "Title = LORdoc.paragraphs[0].text.split('BLACK SCREEN')[0]\n",
    "print(\"Title: \" + Title)"
   ]
  },
  {
   "cell_type": "markdown",
   "id": "b63b280c",
   "metadata": {},
   "source": [
    "There a 2 important things: first paragraphs and then Runs objects. \n",
    " - Paragraph: it is whenever a one presses ENTER or RETURN while typing on the Word document. \n",
    " - Run: it's a continuous run of text with the same style. A new Run object is necessary whenever the text style changes"
   ]
  },
  {
   "cell_type": "code",
   "execution_count": 66,
   "id": "d21947a6",
   "metadata": {},
   "outputs": [
    {
     "name": "stdout",
     "output_type": "stream",
     "text": [
      "SMEAGOL\n",
      "SMEAGOL\n"
     ]
    }
   ],
   "source": [
    "n = 21\n",
    "print(LORdoc.paragraphs[n].text)\n",
    "for run in LORdoc.paragraphs[n].runs:\n",
    "    print(run.text)"
   ]
  },
  {
   "cell_type": "code",
   "execution_count": 61,
   "id": "c5955be1",
   "metadata": {
    "scrolled": true
   },
   "outputs": [
    {
     "name": "stdout",
     "output_type": "stream",
     "text": [
      "There are 199 scenes in THE LORD OF THE RINGS: THE RETURN OF THE KING \n"
     ]
    }
   ],
   "source": [
    "n_scences = 0\n",
    "for lines in LORdoc.paragraphs:\n",
    "    #print(\"paragraph at hand: \" + lines.text)\n",
    "    if('EXT.' in lines.text or 'INT.' in lines.text):\n",
    "        n_scences+=1\n",
    "        #print(\"scene number\" + str(n_scences)+ \":\" +lines.text)\n",
    "print(\"There are \"+ str(n_scences)+ \" scenes in \" +Title)"
   ]
  },
  {
   "cell_type": "code",
   "execution_count": 68,
   "id": "89e5d75c",
   "metadata": {
    "scrolled": true
   },
   "outputs": [
    {
     "name": "stdout",
     "output_type": "stream",
     "text": [
      "Example on character's name: SMEAGOL\n"
     ]
    }
   ],
   "source": [
    "print(\"Example on character's name: \"+ LORdoc.paragraphs[21].text)"
   ]
  },
  {
   "cell_type": "code",
   "execution_count": 71,
   "id": "89797671",
   "metadata": {
    "scrolled": true
   },
   "outputs": [
    {
     "data": {
      "text/plain": [
       "True"
      ]
     },
     "execution_count": 71,
     "metadata": {},
     "output_type": "execute_result"
    }
   ],
   "source": [
    "LORdoc.paragraphs[21].alignment == 2 # dans mon parseur, les personnages sont à droite"
   ]
  },
  {
   "cell_type": "code",
   "execution_count": 109,
   "id": "04023013",
   "metadata": {},
   "outputs": [],
   "source": [
    "import re"
   ]
  },
  {
   "cell_type": "code",
   "execution_count": 252,
   "id": "08bd1ffb",
   "metadata": {},
   "outputs": [],
   "source": [
    "def normaliseWord(word):\n",
    "    word = word.lower().strip('.')\n",
    "    word= re.sub('!', '', word)\n",
    "    word = re.sub(',','',word)\n",
    "    word = re.sub(\"\\\\n\",'',word)\n",
    "    word = re.sub(\"\\(\",'',word)\n",
    "    word = re.sub(\"\\)\",'',word)\n",
    "    #word = re.sub(\"\\'\\''\",'',word)\n",
    "    word = re.sub(\"·\",'',word)\n",
    "    word = re.sub(\";\",'',word)\n",
    "    \n",
    "    return word"
   ]
  },
  {
   "cell_type": "code",
   "execution_count": 253,
   "id": "55874722",
   "metadata": {
    "scrolled": true
   },
   "outputs": [],
   "source": [
    "#ame = re.sub('[\\(\\)\\{\\}<>]', '', name)\n",
    "nb_perso =0\n",
    "PersoVector = []\n",
    "for l in LORdoc.paragraphs:\n",
    "    if (l.alignment ==2 or l.alignment ==1) and '(CONTINUED)' not in l.text and 'DISSOLVE TO:'not in l.text and 'INTERCUT WITH:' not in l.text and len(l.text.split())==1: \n",
    "        perso = l.text\n",
    "        perso = normaliseWord(perso)\n",
    "        \n",
    "        if(perso not in PersoVector and len(perso)>0):\n",
    "            nb_perso+=1\n",
    "            PersoVector.append(perso)\n",
    "\n",
    "PersoVector.sort()\n",
    "PersoVector = PersoVector[3:]\n",
    "nb_perso -=3"
   ]
  },
  {
   "cell_type": "code",
   "execution_count": 254,
   "id": "f5fc27ba",
   "metadata": {
    "scrolled": true
   },
   "outputs": [
    {
     "name": "stdout",
     "output_type": "stream",
     "text": [
      "Number of characters : 36\n"
     ]
    }
   ],
   "source": [
    "print(\"Number of characters : \"+ str(nb_perso))"
   ]
  },
  {
   "cell_type": "code",
   "execution_count": 255,
   "id": "e40a5973",
   "metadata": {},
   "outputs": [
    {
     "name": "stdout",
     "output_type": "stream",
     "text": [
      "['aragorn', 'bilbo', 'bitter', 'candalf', 'deagol', 'denethor', 'elrond', 'eomer', 'eowyn', 'faramir', 'frodo', 'gandalf', 'gimli', 'gollum', 'gorbag', 'gothmog', 'grimly', 'here', 'iorlas', 'legolas', 'lieutenant', 'madril', 'merry', 'more', 'no', 'orcs', 'pippin', 'rohirrim', 'sam', 'shagrat', 'smeagol', 'smiling', 'snarl', 'soldier', 'theoden', 'yelling']\n"
     ]
    }
   ],
   "source": [
    "print(PersoVector)"
   ]
  },
  {
   "cell_type": "markdown",
   "id": "1cdf2ecb",
   "metadata": {},
   "source": [
    "Concatenation par scène "
   ]
  },
  {
   "cell_type": "code",
   "execution_count": 232,
   "id": "4a412500",
   "metadata": {},
   "outputs": [],
   "source": [
    "string_textfinal = \"\"\n",
    "for i in LORdoc.paragraphs:\n",
    "    string_textfinal = string_textfinal + i.text\n",
    "\n",
    "a = string_textfinal.split(\"EXT.\")\n",
    "\n",
    "for ext in range(len(a)):\n",
    "    a[ext] = a[ext].split(\"INT.\")\n",
    "\n",
    "\n",
    "scenes = []\n",
    "\n",
    "for i in range(len(a)):\n",
    "    for j in range(len(a[i])):\n",
    "        scenes.append(a[i][j])"
   ]
  },
  {
   "cell_type": "markdown",
   "id": "478dfc96",
   "metadata": {},
   "source": [
    "counter pour 1 scene:"
   ]
  },
  {
   "cell_type": "code",
   "execution_count": 266,
   "id": "025e6cc0",
   "metadata": {},
   "outputs": [
    {
     "name": "stdout",
     "output_type": "stream",
     "text": [
      " EDORAS - DAYWIDE: BACK SHOT - a GROUP OF RIDERS gallop towards the ROHAN CITY of EDORAS . . .PUSH IN: EOWYN standing alone outside the GOLDEN HALL, waiting . . .\n",
      "range(0, 36)\n",
      "{'eowyn': 1}\n"
     ]
    }
   ],
   "source": [
    "S9 = scenes[9]\n",
    "print(S9)\n",
    "counterCharVec = dict()\n",
    "for elmt in S9.split():\n",
    "    normalisedElmt = normaliseWord(elmt)\n",
    "    if normalisedElmt in PersoVector:\n",
    "        #  counts[i] = counts.get(i, 0) + 1\n",
    "        counterCharVec[normalisedElmt]  = counterCharVec.get(normalisedElmt,0)+1\n",
    "\n",
    "print(counterCharVec)"
   ]
  },
  {
   "cell_type": "code",
   "execution_count": 240,
   "id": "dbbbf6a7",
   "metadata": {},
   "outputs": [],
   "source": [
    "# Matrix ne fonctionne pas \n",
    "MatrixPair= []\n",
    "for s in scenes:\n",
    "    for word in s:\n",
    "        w= normaliseWord(word)\n",
    "        if(w in PersoVector):\n",
    "            print(\"salut\")"
   ]
  },
  {
   "cell_type": "code",
   "execution_count": null,
   "id": "8f034cfe",
   "metadata": {},
   "outputs": [],
   "source": []
  },
  {
   "cell_type": "code",
   "execution_count": null,
   "id": "fc17eefa",
   "metadata": {},
   "outputs": [],
   "source": []
  },
  {
   "cell_type": "code",
   "execution_count": null,
   "id": "e123e026",
   "metadata": {},
   "outputs": [],
   "source": []
  },
  {
   "cell_type": "code",
   "execution_count": null,
   "id": "2f5ae290",
   "metadata": {},
   "outputs": [],
   "source": []
  },
  {
   "cell_type": "code",
   "execution_count": null,
   "id": "65e6e9cb",
   "metadata": {},
   "outputs": [],
   "source": []
  },
  {
   "cell_type": "code",
   "execution_count": null,
   "id": "c8fea2fd",
   "metadata": {},
   "outputs": [],
   "source": []
  },
  {
   "cell_type": "code",
   "execution_count": null,
   "id": "63a5caa3",
   "metadata": {},
   "outputs": [],
   "source": []
  },
  {
   "cell_type": "code",
   "execution_count": null,
   "id": "3e43b4ce",
   "metadata": {},
   "outputs": [],
   "source": []
  },
  {
   "cell_type": "code",
   "execution_count": null,
   "id": "2015dd5a",
   "metadata": {},
   "outputs": [],
   "source": []
  },
  {
   "cell_type": "code",
   "execution_count": null,
   "id": "19ce5ac7",
   "metadata": {},
   "outputs": [],
   "source": []
  },
  {
   "cell_type": "code",
   "execution_count": null,
   "id": "aa0c5586",
   "metadata": {},
   "outputs": [],
   "source": []
  },
  {
   "cell_type": "markdown",
   "id": "32f83a8d",
   "metadata": {},
   "source": [
    "## Construct co-occurence matrix"
   ]
  },
  {
   "cell_type": "markdown",
   "id": "699d70c2",
   "metadata": {},
   "source": []
  }
 ],
 "metadata": {
  "kernelspec": {
   "display_name": "Python 3 (ipykernel)",
   "language": "python",
   "name": "python3"
  },
  "language_info": {
   "codemirror_mode": {
    "name": "ipython",
    "version": 3
   },
   "file_extension": ".py",
   "mimetype": "text/x-python",
   "name": "python",
   "nbconvert_exporter": "python",
   "pygments_lexer": "ipython3",
   "version": "3.8.11"
  }
 },
 "nbformat": 4,
 "nbformat_minor": 5
}
